{
  "nbformat": 4,
  "nbformat_minor": 0,
  "metadata": {
    "colab": {
      "provenance": [],
      "gpuType": "T4",
      "authorship_tag": "ABX9TyNcV6vdpeuB73Bze2au1ogk",
      "include_colab_link": true
    },
    "kernelspec": {
      "name": "python3",
      "display_name": "Python 3"
    },
    "language_info": {
      "name": "python"
    },
    "accelerator": "GPU",
    "widgets": {
      "application/vnd.jupyter.widget-state+json": {
        "a76bd9c3227244e4897caca2cf245fdd": {
          "model_module": "@jupyter-widgets/controls",
          "model_name": "HBoxModel",
          "model_module_version": "1.5.0",
          "state": {
            "_dom_classes": [],
            "_model_module": "@jupyter-widgets/controls",
            "_model_module_version": "1.5.0",
            "_model_name": "HBoxModel",
            "_view_count": null,
            "_view_module": "@jupyter-widgets/controls",
            "_view_module_version": "1.5.0",
            "_view_name": "HBoxView",
            "box_style": "",
            "children": [
              "IPY_MODEL_863df3832d8d4092b70ce63393780a33",
              "IPY_MODEL_d4f995d1478d45e89f0e5fa09e59cf37",
              "IPY_MODEL_30c7c863735346b58f41ede03a53778d"
            ],
            "layout": "IPY_MODEL_098b0f051cf247769c65b744dc9ce885"
          }
        },
        "863df3832d8d4092b70ce63393780a33": {
          "model_module": "@jupyter-widgets/controls",
          "model_name": "HTMLModel",
          "model_module_version": "1.5.0",
          "state": {
            "_dom_classes": [],
            "_model_module": "@jupyter-widgets/controls",
            "_model_module_version": "1.5.0",
            "_model_name": "HTMLModel",
            "_view_count": null,
            "_view_module": "@jupyter-widgets/controls",
            "_view_module_version": "1.5.0",
            "_view_name": "HTMLView",
            "description": "",
            "description_tooltip": null,
            "layout": "IPY_MODEL_f9c4eb487b78493e8dc9c0ad7fb58f0d",
            "placeholder": "​",
            "style": "IPY_MODEL_36715424b6134944a5dc91220ca9ccb9",
            "value": "README.md: 100%"
          }
        },
        "d4f995d1478d45e89f0e5fa09e59cf37": {
          "model_module": "@jupyter-widgets/controls",
          "model_name": "FloatProgressModel",
          "model_module_version": "1.5.0",
          "state": {
            "_dom_classes": [],
            "_model_module": "@jupyter-widgets/controls",
            "_model_module_version": "1.5.0",
            "_model_name": "FloatProgressModel",
            "_view_count": null,
            "_view_module": "@jupyter-widgets/controls",
            "_view_module_version": "1.5.0",
            "_view_name": "ProgressView",
            "bar_style": "success",
            "description": "",
            "description_tooltip": null,
            "layout": "IPY_MODEL_f2f89f0f381a44d9916ea63f02b41415",
            "max": 7809,
            "min": 0,
            "orientation": "horizontal",
            "style": "IPY_MODEL_994ff0f1942748c1bb7feba445fe8b6d",
            "value": 7809
          }
        },
        "30c7c863735346b58f41ede03a53778d": {
          "model_module": "@jupyter-widgets/controls",
          "model_name": "HTMLModel",
          "model_module_version": "1.5.0",
          "state": {
            "_dom_classes": [],
            "_model_module": "@jupyter-widgets/controls",
            "_model_module_version": "1.5.0",
            "_model_name": "HTMLModel",
            "_view_count": null,
            "_view_module": "@jupyter-widgets/controls",
            "_view_module_version": "1.5.0",
            "_view_name": "HTMLView",
            "description": "",
            "description_tooltip": null,
            "layout": "IPY_MODEL_cdac47bea7954cb6a198144670794b0a",
            "placeholder": "​",
            "style": "IPY_MODEL_91d245bf4913415aa6f5d8fdba6ea9fc",
            "value": " 7.81k/7.81k [00:00&lt;00:00, 326kB/s]"
          }
        },
        "098b0f051cf247769c65b744dc9ce885": {
          "model_module": "@jupyter-widgets/base",
          "model_name": "LayoutModel",
          "model_module_version": "1.2.0",
          "state": {
            "_model_module": "@jupyter-widgets/base",
            "_model_module_version": "1.2.0",
            "_model_name": "LayoutModel",
            "_view_count": null,
            "_view_module": "@jupyter-widgets/base",
            "_view_module_version": "1.2.0",
            "_view_name": "LayoutView",
            "align_content": null,
            "align_items": null,
            "align_self": null,
            "border": null,
            "bottom": null,
            "display": null,
            "flex": null,
            "flex_flow": null,
            "grid_area": null,
            "grid_auto_columns": null,
            "grid_auto_flow": null,
            "grid_auto_rows": null,
            "grid_column": null,
            "grid_gap": null,
            "grid_row": null,
            "grid_template_areas": null,
            "grid_template_columns": null,
            "grid_template_rows": null,
            "height": null,
            "justify_content": null,
            "justify_items": null,
            "left": null,
            "margin": null,
            "max_height": null,
            "max_width": null,
            "min_height": null,
            "min_width": null,
            "object_fit": null,
            "object_position": null,
            "order": null,
            "overflow": null,
            "overflow_x": null,
            "overflow_y": null,
            "padding": null,
            "right": null,
            "top": null,
            "visibility": null,
            "width": null
          }
        },
        "f9c4eb487b78493e8dc9c0ad7fb58f0d": {
          "model_module": "@jupyter-widgets/base",
          "model_name": "LayoutModel",
          "model_module_version": "1.2.0",
          "state": {
            "_model_module": "@jupyter-widgets/base",
            "_model_module_version": "1.2.0",
            "_model_name": "LayoutModel",
            "_view_count": null,
            "_view_module": "@jupyter-widgets/base",
            "_view_module_version": "1.2.0",
            "_view_name": "LayoutView",
            "align_content": null,
            "align_items": null,
            "align_self": null,
            "border": null,
            "bottom": null,
            "display": null,
            "flex": null,
            "flex_flow": null,
            "grid_area": null,
            "grid_auto_columns": null,
            "grid_auto_flow": null,
            "grid_auto_rows": null,
            "grid_column": null,
            "grid_gap": null,
            "grid_row": null,
            "grid_template_areas": null,
            "grid_template_columns": null,
            "grid_template_rows": null,
            "height": null,
            "justify_content": null,
            "justify_items": null,
            "left": null,
            "margin": null,
            "max_height": null,
            "max_width": null,
            "min_height": null,
            "min_width": null,
            "object_fit": null,
            "object_position": null,
            "order": null,
            "overflow": null,
            "overflow_x": null,
            "overflow_y": null,
            "padding": null,
            "right": null,
            "top": null,
            "visibility": null,
            "width": null
          }
        },
        "36715424b6134944a5dc91220ca9ccb9": {
          "model_module": "@jupyter-widgets/controls",
          "model_name": "DescriptionStyleModel",
          "model_module_version": "1.5.0",
          "state": {
            "_model_module": "@jupyter-widgets/controls",
            "_model_module_version": "1.5.0",
            "_model_name": "DescriptionStyleModel",
            "_view_count": null,
            "_view_module": "@jupyter-widgets/base",
            "_view_module_version": "1.2.0",
            "_view_name": "StyleView",
            "description_width": ""
          }
        },
        "f2f89f0f381a44d9916ea63f02b41415": {
          "model_module": "@jupyter-widgets/base",
          "model_name": "LayoutModel",
          "model_module_version": "1.2.0",
          "state": {
            "_model_module": "@jupyter-widgets/base",
            "_model_module_version": "1.2.0",
            "_model_name": "LayoutModel",
            "_view_count": null,
            "_view_module": "@jupyter-widgets/base",
            "_view_module_version": "1.2.0",
            "_view_name": "LayoutView",
            "align_content": null,
            "align_items": null,
            "align_self": null,
            "border": null,
            "bottom": null,
            "display": null,
            "flex": null,
            "flex_flow": null,
            "grid_area": null,
            "grid_auto_columns": null,
            "grid_auto_flow": null,
            "grid_auto_rows": null,
            "grid_column": null,
            "grid_gap": null,
            "grid_row": null,
            "grid_template_areas": null,
            "grid_template_columns": null,
            "grid_template_rows": null,
            "height": null,
            "justify_content": null,
            "justify_items": null,
            "left": null,
            "margin": null,
            "max_height": null,
            "max_width": null,
            "min_height": null,
            "min_width": null,
            "object_fit": null,
            "object_position": null,
            "order": null,
            "overflow": null,
            "overflow_x": null,
            "overflow_y": null,
            "padding": null,
            "right": null,
            "top": null,
            "visibility": null,
            "width": null
          }
        },
        "994ff0f1942748c1bb7feba445fe8b6d": {
          "model_module": "@jupyter-widgets/controls",
          "model_name": "ProgressStyleModel",
          "model_module_version": "1.5.0",
          "state": {
            "_model_module": "@jupyter-widgets/controls",
            "_model_module_version": "1.5.0",
            "_model_name": "ProgressStyleModel",
            "_view_count": null,
            "_view_module": "@jupyter-widgets/base",
            "_view_module_version": "1.2.0",
            "_view_name": "StyleView",
            "bar_color": null,
            "description_width": ""
          }
        },
        "cdac47bea7954cb6a198144670794b0a": {
          "model_module": "@jupyter-widgets/base",
          "model_name": "LayoutModel",
          "model_module_version": "1.2.0",
          "state": {
            "_model_module": "@jupyter-widgets/base",
            "_model_module_version": "1.2.0",
            "_model_name": "LayoutModel",
            "_view_count": null,
            "_view_module": "@jupyter-widgets/base",
            "_view_module_version": "1.2.0",
            "_view_name": "LayoutView",
            "align_content": null,
            "align_items": null,
            "align_self": null,
            "border": null,
            "bottom": null,
            "display": null,
            "flex": null,
            "flex_flow": null,
            "grid_area": null,
            "grid_auto_columns": null,
            "grid_auto_flow": null,
            "grid_auto_rows": null,
            "grid_column": null,
            "grid_gap": null,
            "grid_row": null,
            "grid_template_areas": null,
            "grid_template_columns": null,
            "grid_template_rows": null,
            "height": null,
            "justify_content": null,
            "justify_items": null,
            "left": null,
            "margin": null,
            "max_height": null,
            "max_width": null,
            "min_height": null,
            "min_width": null,
            "object_fit": null,
            "object_position": null,
            "order": null,
            "overflow": null,
            "overflow_x": null,
            "overflow_y": null,
            "padding": null,
            "right": null,
            "top": null,
            "visibility": null,
            "width": null
          }
        },
        "91d245bf4913415aa6f5d8fdba6ea9fc": {
          "model_module": "@jupyter-widgets/controls",
          "model_name": "DescriptionStyleModel",
          "model_module_version": "1.5.0",
          "state": {
            "_model_module": "@jupyter-widgets/controls",
            "_model_module_version": "1.5.0",
            "_model_name": "DescriptionStyleModel",
            "_view_count": null,
            "_view_module": "@jupyter-widgets/base",
            "_view_module_version": "1.2.0",
            "_view_name": "StyleView",
            "description_width": ""
          }
        },
        "b37a7abeac6d4f4cb9518cb13f06f8c0": {
          "model_module": "@jupyter-widgets/controls",
          "model_name": "HBoxModel",
          "model_module_version": "1.5.0",
          "state": {
            "_dom_classes": [],
            "_model_module": "@jupyter-widgets/controls",
            "_model_module_version": "1.5.0",
            "_model_name": "HBoxModel",
            "_view_count": null,
            "_view_module": "@jupyter-widgets/controls",
            "_view_module_version": "1.5.0",
            "_view_name": "HBoxView",
            "box_style": "",
            "children": [
              "IPY_MODEL_8cc21e23bb914240bcb16c3bd27b5d40",
              "IPY_MODEL_73beb22b0866402f8c7866ba72598b2e",
              "IPY_MODEL_078711d3f18f4aafa0faebf95d2572ad"
            ],
            "layout": "IPY_MODEL_cb39e7d77f9d490cb1cbf0e58f083be4"
          }
        },
        "8cc21e23bb914240bcb16c3bd27b5d40": {
          "model_module": "@jupyter-widgets/controls",
          "model_name": "HTMLModel",
          "model_module_version": "1.5.0",
          "state": {
            "_dom_classes": [],
            "_model_module": "@jupyter-widgets/controls",
            "_model_module_version": "1.5.0",
            "_model_name": "HTMLModel",
            "_view_count": null,
            "_view_module": "@jupyter-widgets/controls",
            "_view_module_version": "1.5.0",
            "_view_name": "HTMLView",
            "description": "",
            "description_tooltip": null,
            "layout": "IPY_MODEL_7cd18bb1cfe8498c9fec5e0b905d9bba",
            "placeholder": "​",
            "style": "IPY_MODEL_1e5896f5d2e4440b8665acf3a6fedaec",
            "value": "train-00000-of-00001.parquet: 100%"
          }
        },
        "73beb22b0866402f8c7866ba72598b2e": {
          "model_module": "@jupyter-widgets/controls",
          "model_name": "FloatProgressModel",
          "model_module_version": "1.5.0",
          "state": {
            "_dom_classes": [],
            "_model_module": "@jupyter-widgets/controls",
            "_model_module_version": "1.5.0",
            "_model_name": "FloatProgressModel",
            "_view_count": null,
            "_view_module": "@jupyter-widgets/controls",
            "_view_module_version": "1.5.0",
            "_view_name": "ProgressView",
            "bar_style": "success",
            "description": "",
            "description_tooltip": null,
            "layout": "IPY_MODEL_1e983af956d8494bab85f31f7672ecfa",
            "max": 20979968,
            "min": 0,
            "orientation": "horizontal",
            "style": "IPY_MODEL_105d2dd0ce0b46f3aa3fc72b78198c74",
            "value": 20979968
          }
        },
        "078711d3f18f4aafa0faebf95d2572ad": {
          "model_module": "@jupyter-widgets/controls",
          "model_name": "HTMLModel",
          "model_module_version": "1.5.0",
          "state": {
            "_dom_classes": [],
            "_model_module": "@jupyter-widgets/controls",
            "_model_module_version": "1.5.0",
            "_model_name": "HTMLModel",
            "_view_count": null,
            "_view_module": "@jupyter-widgets/controls",
            "_view_module_version": "1.5.0",
            "_view_name": "HTMLView",
            "description": "",
            "description_tooltip": null,
            "layout": "IPY_MODEL_7e0ad2cc7ee04a9da1ae987efa8de5cb",
            "placeholder": "​",
            "style": "IPY_MODEL_6997da58373a40c5a4a2a76f51296278",
            "value": " 21.0M/21.0M [00:00&lt;00:00, 112MB/s]"
          }
        },
        "cb39e7d77f9d490cb1cbf0e58f083be4": {
          "model_module": "@jupyter-widgets/base",
          "model_name": "LayoutModel",
          "model_module_version": "1.2.0",
          "state": {
            "_model_module": "@jupyter-widgets/base",
            "_model_module_version": "1.2.0",
            "_model_name": "LayoutModel",
            "_view_count": null,
            "_view_module": "@jupyter-widgets/base",
            "_view_module_version": "1.2.0",
            "_view_name": "LayoutView",
            "align_content": null,
            "align_items": null,
            "align_self": null,
            "border": null,
            "bottom": null,
            "display": null,
            "flex": null,
            "flex_flow": null,
            "grid_area": null,
            "grid_auto_columns": null,
            "grid_auto_flow": null,
            "grid_auto_rows": null,
            "grid_column": null,
            "grid_gap": null,
            "grid_row": null,
            "grid_template_areas": null,
            "grid_template_columns": null,
            "grid_template_rows": null,
            "height": null,
            "justify_content": null,
            "justify_items": null,
            "left": null,
            "margin": null,
            "max_height": null,
            "max_width": null,
            "min_height": null,
            "min_width": null,
            "object_fit": null,
            "object_position": null,
            "order": null,
            "overflow": null,
            "overflow_x": null,
            "overflow_y": null,
            "padding": null,
            "right": null,
            "top": null,
            "visibility": null,
            "width": null
          }
        },
        "7cd18bb1cfe8498c9fec5e0b905d9bba": {
          "model_module": "@jupyter-widgets/base",
          "model_name": "LayoutModel",
          "model_module_version": "1.2.0",
          "state": {
            "_model_module": "@jupyter-widgets/base",
            "_model_module_version": "1.2.0",
            "_model_name": "LayoutModel",
            "_view_count": null,
            "_view_module": "@jupyter-widgets/base",
            "_view_module_version": "1.2.0",
            "_view_name": "LayoutView",
            "align_content": null,
            "align_items": null,
            "align_self": null,
            "border": null,
            "bottom": null,
            "display": null,
            "flex": null,
            "flex_flow": null,
            "grid_area": null,
            "grid_auto_columns": null,
            "grid_auto_flow": null,
            "grid_auto_rows": null,
            "grid_column": null,
            "grid_gap": null,
            "grid_row": null,
            "grid_template_areas": null,
            "grid_template_columns": null,
            "grid_template_rows": null,
            "height": null,
            "justify_content": null,
            "justify_items": null,
            "left": null,
            "margin": null,
            "max_height": null,
            "max_width": null,
            "min_height": null,
            "min_width": null,
            "object_fit": null,
            "object_position": null,
            "order": null,
            "overflow": null,
            "overflow_x": null,
            "overflow_y": null,
            "padding": null,
            "right": null,
            "top": null,
            "visibility": null,
            "width": null
          }
        },
        "1e5896f5d2e4440b8665acf3a6fedaec": {
          "model_module": "@jupyter-widgets/controls",
          "model_name": "DescriptionStyleModel",
          "model_module_version": "1.5.0",
          "state": {
            "_model_module": "@jupyter-widgets/controls",
            "_model_module_version": "1.5.0",
            "_model_name": "DescriptionStyleModel",
            "_view_count": null,
            "_view_module": "@jupyter-widgets/base",
            "_view_module_version": "1.2.0",
            "_view_name": "StyleView",
            "description_width": ""
          }
        },
        "1e983af956d8494bab85f31f7672ecfa": {
          "model_module": "@jupyter-widgets/base",
          "model_name": "LayoutModel",
          "model_module_version": "1.2.0",
          "state": {
            "_model_module": "@jupyter-widgets/base",
            "_model_module_version": "1.2.0",
            "_model_name": "LayoutModel",
            "_view_count": null,
            "_view_module": "@jupyter-widgets/base",
            "_view_module_version": "1.2.0",
            "_view_name": "LayoutView",
            "align_content": null,
            "align_items": null,
            "align_self": null,
            "border": null,
            "bottom": null,
            "display": null,
            "flex": null,
            "flex_flow": null,
            "grid_area": null,
            "grid_auto_columns": null,
            "grid_auto_flow": null,
            "grid_auto_rows": null,
            "grid_column": null,
            "grid_gap": null,
            "grid_row": null,
            "grid_template_areas": null,
            "grid_template_columns": null,
            "grid_template_rows": null,
            "height": null,
            "justify_content": null,
            "justify_items": null,
            "left": null,
            "margin": null,
            "max_height": null,
            "max_width": null,
            "min_height": null,
            "min_width": null,
            "object_fit": null,
            "object_position": null,
            "order": null,
            "overflow": null,
            "overflow_x": null,
            "overflow_y": null,
            "padding": null,
            "right": null,
            "top": null,
            "visibility": null,
            "width": null
          }
        },
        "105d2dd0ce0b46f3aa3fc72b78198c74": {
          "model_module": "@jupyter-widgets/controls",
          "model_name": "ProgressStyleModel",
          "model_module_version": "1.5.0",
          "state": {
            "_model_module": "@jupyter-widgets/controls",
            "_model_module_version": "1.5.0",
            "_model_name": "ProgressStyleModel",
            "_view_count": null,
            "_view_module": "@jupyter-widgets/base",
            "_view_module_version": "1.2.0",
            "_view_name": "StyleView",
            "bar_color": null,
            "description_width": ""
          }
        },
        "7e0ad2cc7ee04a9da1ae987efa8de5cb": {
          "model_module": "@jupyter-widgets/base",
          "model_name": "LayoutModel",
          "model_module_version": "1.2.0",
          "state": {
            "_model_module": "@jupyter-widgets/base",
            "_model_module_version": "1.2.0",
            "_model_name": "LayoutModel",
            "_view_count": null,
            "_view_module": "@jupyter-widgets/base",
            "_view_module_version": "1.2.0",
            "_view_name": "LayoutView",
            "align_content": null,
            "align_items": null,
            "align_self": null,
            "border": null,
            "bottom": null,
            "display": null,
            "flex": null,
            "flex_flow": null,
            "grid_area": null,
            "grid_auto_columns": null,
            "grid_auto_flow": null,
            "grid_auto_rows": null,
            "grid_column": null,
            "grid_gap": null,
            "grid_row": null,
            "grid_template_areas": null,
            "grid_template_columns": null,
            "grid_template_rows": null,
            "height": null,
            "justify_content": null,
            "justify_items": null,
            "left": null,
            "margin": null,
            "max_height": null,
            "max_width": null,
            "min_height": null,
            "min_width": null,
            "object_fit": null,
            "object_position": null,
            "order": null,
            "overflow": null,
            "overflow_x": null,
            "overflow_y": null,
            "padding": null,
            "right": null,
            "top": null,
            "visibility": null,
            "width": null
          }
        },
        "6997da58373a40c5a4a2a76f51296278": {
          "model_module": "@jupyter-widgets/controls",
          "model_name": "DescriptionStyleModel",
          "model_module_version": "1.5.0",
          "state": {
            "_model_module": "@jupyter-widgets/controls",
            "_model_module_version": "1.5.0",
            "_model_name": "DescriptionStyleModel",
            "_view_count": null,
            "_view_module": "@jupyter-widgets/base",
            "_view_module_version": "1.2.0",
            "_view_name": "StyleView",
            "description_width": ""
          }
        },
        "44c66e60e5c24adbb27aa0ddd60fd82d": {
          "model_module": "@jupyter-widgets/controls",
          "model_name": "HBoxModel",
          "model_module_version": "1.5.0",
          "state": {
            "_dom_classes": [],
            "_model_module": "@jupyter-widgets/controls",
            "_model_module_version": "1.5.0",
            "_model_name": "HBoxModel",
            "_view_count": null,
            "_view_module": "@jupyter-widgets/controls",
            "_view_module_version": "1.5.0",
            "_view_name": "HBoxView",
            "box_style": "",
            "children": [
              "IPY_MODEL_19e2842f55a74da182b43d1f303cd4e2",
              "IPY_MODEL_6e0760d5391f4f82a0c02630aa9e5c1c",
              "IPY_MODEL_476cab3f635241bc9b289eb179c58294"
            ],
            "layout": "IPY_MODEL_ea1a7a5211cf4bc0979b7c207b4d7cad"
          }
        },
        "19e2842f55a74da182b43d1f303cd4e2": {
          "model_module": "@jupyter-widgets/controls",
          "model_name": "HTMLModel",
          "model_module_version": "1.5.0",
          "state": {
            "_dom_classes": [],
            "_model_module": "@jupyter-widgets/controls",
            "_model_module_version": "1.5.0",
            "_model_name": "HTMLModel",
            "_view_count": null,
            "_view_module": "@jupyter-widgets/controls",
            "_view_module_version": "1.5.0",
            "_view_name": "HTMLView",
            "description": "",
            "description_tooltip": null,
            "layout": "IPY_MODEL_d4b7b00477514830b144cefa700af7d8",
            "placeholder": "​",
            "style": "IPY_MODEL_46cad5fbfd584658aa1e3062388561b0",
            "value": "test-00000-of-00001.parquet: 100%"
          }
        },
        "6e0760d5391f4f82a0c02630aa9e5c1c": {
          "model_module": "@jupyter-widgets/controls",
          "model_name": "FloatProgressModel",
          "model_module_version": "1.5.0",
          "state": {
            "_dom_classes": [],
            "_model_module": "@jupyter-widgets/controls",
            "_model_module_version": "1.5.0",
            "_model_name": "FloatProgressModel",
            "_view_count": null,
            "_view_module": "@jupyter-widgets/controls",
            "_view_module_version": "1.5.0",
            "_view_name": "ProgressView",
            "bar_style": "success",
            "description": "",
            "description_tooltip": null,
            "layout": "IPY_MODEL_2c7a5311b69743a596fd5c0773085a67",
            "max": 20470363,
            "min": 0,
            "orientation": "horizontal",
            "style": "IPY_MODEL_9b30fad60693486b84020fc17a74c292",
            "value": 20470363
          }
        },
        "476cab3f635241bc9b289eb179c58294": {
          "model_module": "@jupyter-widgets/controls",
          "model_name": "HTMLModel",
          "model_module_version": "1.5.0",
          "state": {
            "_dom_classes": [],
            "_model_module": "@jupyter-widgets/controls",
            "_model_module_version": "1.5.0",
            "_model_name": "HTMLModel",
            "_view_count": null,
            "_view_module": "@jupyter-widgets/controls",
            "_view_module_version": "1.5.0",
            "_view_name": "HTMLView",
            "description": "",
            "description_tooltip": null,
            "layout": "IPY_MODEL_86b52d2210394afc880feb5b2ba03961",
            "placeholder": "​",
            "style": "IPY_MODEL_1fd55a270ca949369c3a8ae315ad79cc",
            "value": " 20.5M/20.5M [00:00&lt;00:00, 213MB/s]"
          }
        },
        "ea1a7a5211cf4bc0979b7c207b4d7cad": {
          "model_module": "@jupyter-widgets/base",
          "model_name": "LayoutModel",
          "model_module_version": "1.2.0",
          "state": {
            "_model_module": "@jupyter-widgets/base",
            "_model_module_version": "1.2.0",
            "_model_name": "LayoutModel",
            "_view_count": null,
            "_view_module": "@jupyter-widgets/base",
            "_view_module_version": "1.2.0",
            "_view_name": "LayoutView",
            "align_content": null,
            "align_items": null,
            "align_self": null,
            "border": null,
            "bottom": null,
            "display": null,
            "flex": null,
            "flex_flow": null,
            "grid_area": null,
            "grid_auto_columns": null,
            "grid_auto_flow": null,
            "grid_auto_rows": null,
            "grid_column": null,
            "grid_gap": null,
            "grid_row": null,
            "grid_template_areas": null,
            "grid_template_columns": null,
            "grid_template_rows": null,
            "height": null,
            "justify_content": null,
            "justify_items": null,
            "left": null,
            "margin": null,
            "max_height": null,
            "max_width": null,
            "min_height": null,
            "min_width": null,
            "object_fit": null,
            "object_position": null,
            "order": null,
            "overflow": null,
            "overflow_x": null,
            "overflow_y": null,
            "padding": null,
            "right": null,
            "top": null,
            "visibility": null,
            "width": null
          }
        },
        "d4b7b00477514830b144cefa700af7d8": {
          "model_module": "@jupyter-widgets/base",
          "model_name": "LayoutModel",
          "model_module_version": "1.2.0",
          "state": {
            "_model_module": "@jupyter-widgets/base",
            "_model_module_version": "1.2.0",
            "_model_name": "LayoutModel",
            "_view_count": null,
            "_view_module": "@jupyter-widgets/base",
            "_view_module_version": "1.2.0",
            "_view_name": "LayoutView",
            "align_content": null,
            "align_items": null,
            "align_self": null,
            "border": null,
            "bottom": null,
            "display": null,
            "flex": null,
            "flex_flow": null,
            "grid_area": null,
            "grid_auto_columns": null,
            "grid_auto_flow": null,
            "grid_auto_rows": null,
            "grid_column": null,
            "grid_gap": null,
            "grid_row": null,
            "grid_template_areas": null,
            "grid_template_columns": null,
            "grid_template_rows": null,
            "height": null,
            "justify_content": null,
            "justify_items": null,
            "left": null,
            "margin": null,
            "max_height": null,
            "max_width": null,
            "min_height": null,
            "min_width": null,
            "object_fit": null,
            "object_position": null,
            "order": null,
            "overflow": null,
            "overflow_x": null,
            "overflow_y": null,
            "padding": null,
            "right": null,
            "top": null,
            "visibility": null,
            "width": null
          }
        },
        "46cad5fbfd584658aa1e3062388561b0": {
          "model_module": "@jupyter-widgets/controls",
          "model_name": "DescriptionStyleModel",
          "model_module_version": "1.5.0",
          "state": {
            "_model_module": "@jupyter-widgets/controls",
            "_model_module_version": "1.5.0",
            "_model_name": "DescriptionStyleModel",
            "_view_count": null,
            "_view_module": "@jupyter-widgets/base",
            "_view_module_version": "1.2.0",
            "_view_name": "StyleView",
            "description_width": ""
          }
        },
        "2c7a5311b69743a596fd5c0773085a67": {
          "model_module": "@jupyter-widgets/base",
          "model_name": "LayoutModel",
          "model_module_version": "1.2.0",
          "state": {
            "_model_module": "@jupyter-widgets/base",
            "_model_module_version": "1.2.0",
            "_model_name": "LayoutModel",
            "_view_count": null,
            "_view_module": "@jupyter-widgets/base",
            "_view_module_version": "1.2.0",
            "_view_name": "LayoutView",
            "align_content": null,
            "align_items": null,
            "align_self": null,
            "border": null,
            "bottom": null,
            "display": null,
            "flex": null,
            "flex_flow": null,
            "grid_area": null,
            "grid_auto_columns": null,
            "grid_auto_flow": null,
            "grid_auto_rows": null,
            "grid_column": null,
            "grid_gap": null,
            "grid_row": null,
            "grid_template_areas": null,
            "grid_template_columns": null,
            "grid_template_rows": null,
            "height": null,
            "justify_content": null,
            "justify_items": null,
            "left": null,
            "margin": null,
            "max_height": null,
            "max_width": null,
            "min_height": null,
            "min_width": null,
            "object_fit": null,
            "object_position": null,
            "order": null,
            "overflow": null,
            "overflow_x": null,
            "overflow_y": null,
            "padding": null,
            "right": null,
            "top": null,
            "visibility": null,
            "width": null
          }
        },
        "9b30fad60693486b84020fc17a74c292": {
          "model_module": "@jupyter-widgets/controls",
          "model_name": "ProgressStyleModel",
          "model_module_version": "1.5.0",
          "state": {
            "_model_module": "@jupyter-widgets/controls",
            "_model_module_version": "1.5.0",
            "_model_name": "ProgressStyleModel",
            "_view_count": null,
            "_view_module": "@jupyter-widgets/base",
            "_view_module_version": "1.2.0",
            "_view_name": "StyleView",
            "bar_color": null,
            "description_width": ""
          }
        },
        "86b52d2210394afc880feb5b2ba03961": {
          "model_module": "@jupyter-widgets/base",
          "model_name": "LayoutModel",
          "model_module_version": "1.2.0",
          "state": {
            "_model_module": "@jupyter-widgets/base",
            "_model_module_version": "1.2.0",
            "_model_name": "LayoutModel",
            "_view_count": null,
            "_view_module": "@jupyter-widgets/base",
            "_view_module_version": "1.2.0",
            "_view_name": "LayoutView",
            "align_content": null,
            "align_items": null,
            "align_self": null,
            "border": null,
            "bottom": null,
            "display": null,
            "flex": null,
            "flex_flow": null,
            "grid_area": null,
            "grid_auto_columns": null,
            "grid_auto_flow": null,
            "grid_auto_rows": null,
            "grid_column": null,
            "grid_gap": null,
            "grid_row": null,
            "grid_template_areas": null,
            "grid_template_columns": null,
            "grid_template_rows": null,
            "height": null,
            "justify_content": null,
            "justify_items": null,
            "left": null,
            "margin": null,
            "max_height": null,
            "max_width": null,
            "min_height": null,
            "min_width": null,
            "object_fit": null,
            "object_position": null,
            "order": null,
            "overflow": null,
            "overflow_x": null,
            "overflow_y": null,
            "padding": null,
            "right": null,
            "top": null,
            "visibility": null,
            "width": null
          }
        },
        "1fd55a270ca949369c3a8ae315ad79cc": {
          "model_module": "@jupyter-widgets/controls",
          "model_name": "DescriptionStyleModel",
          "model_module_version": "1.5.0",
          "state": {
            "_model_module": "@jupyter-widgets/controls",
            "_model_module_version": "1.5.0",
            "_model_name": "DescriptionStyleModel",
            "_view_count": null,
            "_view_module": "@jupyter-widgets/base",
            "_view_module_version": "1.2.0",
            "_view_name": "StyleView",
            "description_width": ""
          }
        },
        "c07e4afa57b64d75a59a354147852bd6": {
          "model_module": "@jupyter-widgets/controls",
          "model_name": "HBoxModel",
          "model_module_version": "1.5.0",
          "state": {
            "_dom_classes": [],
            "_model_module": "@jupyter-widgets/controls",
            "_model_module_version": "1.5.0",
            "_model_name": "HBoxModel",
            "_view_count": null,
            "_view_module": "@jupyter-widgets/controls",
            "_view_module_version": "1.5.0",
            "_view_name": "HBoxView",
            "box_style": "",
            "children": [
              "IPY_MODEL_6e9257d042cc47bf81588488d25b9da6",
              "IPY_MODEL_7d8437d2cff940e288cea87d0b76a762",
              "IPY_MODEL_26c77ed1b98a4e218fabe9d794a8558b"
            ],
            "layout": "IPY_MODEL_bdb5594db7564dd491968ee460cce062"
          }
        },
        "6e9257d042cc47bf81588488d25b9da6": {
          "model_module": "@jupyter-widgets/controls",
          "model_name": "HTMLModel",
          "model_module_version": "1.5.0",
          "state": {
            "_dom_classes": [],
            "_model_module": "@jupyter-widgets/controls",
            "_model_module_version": "1.5.0",
            "_model_name": "HTMLModel",
            "_view_count": null,
            "_view_module": "@jupyter-widgets/controls",
            "_view_module_version": "1.5.0",
            "_view_name": "HTMLView",
            "description": "",
            "description_tooltip": null,
            "layout": "IPY_MODEL_561fb168ecf74da7846d517df62ace8d",
            "placeholder": "​",
            "style": "IPY_MODEL_0c450a1621be441da57b854eec3f7820",
            "value": "unsupervised-00000-of-00001.parquet: 100%"
          }
        },
        "7d8437d2cff940e288cea87d0b76a762": {
          "model_module": "@jupyter-widgets/controls",
          "model_name": "FloatProgressModel",
          "model_module_version": "1.5.0",
          "state": {
            "_dom_classes": [],
            "_model_module": "@jupyter-widgets/controls",
            "_model_module_version": "1.5.0",
            "_model_name": "FloatProgressModel",
            "_view_count": null,
            "_view_module": "@jupyter-widgets/controls",
            "_view_module_version": "1.5.0",
            "_view_name": "ProgressView",
            "bar_style": "success",
            "description": "",
            "description_tooltip": null,
            "layout": "IPY_MODEL_a8c9274f6adb4dee944ef8582837fe82",
            "max": 41996509,
            "min": 0,
            "orientation": "horizontal",
            "style": "IPY_MODEL_46c4d354612647fe9176ea6c676a15e5",
            "value": 41996509
          }
        },
        "26c77ed1b98a4e218fabe9d794a8558b": {
          "model_module": "@jupyter-widgets/controls",
          "model_name": "HTMLModel",
          "model_module_version": "1.5.0",
          "state": {
            "_dom_classes": [],
            "_model_module": "@jupyter-widgets/controls",
            "_model_module_version": "1.5.0",
            "_model_name": "HTMLModel",
            "_view_count": null,
            "_view_module": "@jupyter-widgets/controls",
            "_view_module_version": "1.5.0",
            "_view_name": "HTMLView",
            "description": "",
            "description_tooltip": null,
            "layout": "IPY_MODEL_5cc94f7000214d0e87ebcb19ea79b85f",
            "placeholder": "​",
            "style": "IPY_MODEL_a12b0aebdc1b4028a3ebadfce10d4eff",
            "value": " 42.0M/42.0M [00:00&lt;00:00, 175MB/s]"
          }
        },
        "bdb5594db7564dd491968ee460cce062": {
          "model_module": "@jupyter-widgets/base",
          "model_name": "LayoutModel",
          "model_module_version": "1.2.0",
          "state": {
            "_model_module": "@jupyter-widgets/base",
            "_model_module_version": "1.2.0",
            "_model_name": "LayoutModel",
            "_view_count": null,
            "_view_module": "@jupyter-widgets/base",
            "_view_module_version": "1.2.0",
            "_view_name": "LayoutView",
            "align_content": null,
            "align_items": null,
            "align_self": null,
            "border": null,
            "bottom": null,
            "display": null,
            "flex": null,
            "flex_flow": null,
            "grid_area": null,
            "grid_auto_columns": null,
            "grid_auto_flow": null,
            "grid_auto_rows": null,
            "grid_column": null,
            "grid_gap": null,
            "grid_row": null,
            "grid_template_areas": null,
            "grid_template_columns": null,
            "grid_template_rows": null,
            "height": null,
            "justify_content": null,
            "justify_items": null,
            "left": null,
            "margin": null,
            "max_height": null,
            "max_width": null,
            "min_height": null,
            "min_width": null,
            "object_fit": null,
            "object_position": null,
            "order": null,
            "overflow": null,
            "overflow_x": null,
            "overflow_y": null,
            "padding": null,
            "right": null,
            "top": null,
            "visibility": null,
            "width": null
          }
        },
        "561fb168ecf74da7846d517df62ace8d": {
          "model_module": "@jupyter-widgets/base",
          "model_name": "LayoutModel",
          "model_module_version": "1.2.0",
          "state": {
            "_model_module": "@jupyter-widgets/base",
            "_model_module_version": "1.2.0",
            "_model_name": "LayoutModel",
            "_view_count": null,
            "_view_module": "@jupyter-widgets/base",
            "_view_module_version": "1.2.0",
            "_view_name": "LayoutView",
            "align_content": null,
            "align_items": null,
            "align_self": null,
            "border": null,
            "bottom": null,
            "display": null,
            "flex": null,
            "flex_flow": null,
            "grid_area": null,
            "grid_auto_columns": null,
            "grid_auto_flow": null,
            "grid_auto_rows": null,
            "grid_column": null,
            "grid_gap": null,
            "grid_row": null,
            "grid_template_areas": null,
            "grid_template_columns": null,
            "grid_template_rows": null,
            "height": null,
            "justify_content": null,
            "justify_items": null,
            "left": null,
            "margin": null,
            "max_height": null,
            "max_width": null,
            "min_height": null,
            "min_width": null,
            "object_fit": null,
            "object_position": null,
            "order": null,
            "overflow": null,
            "overflow_x": null,
            "overflow_y": null,
            "padding": null,
            "right": null,
            "top": null,
            "visibility": null,
            "width": null
          }
        },
        "0c450a1621be441da57b854eec3f7820": {
          "model_module": "@jupyter-widgets/controls",
          "model_name": "DescriptionStyleModel",
          "model_module_version": "1.5.0",
          "state": {
            "_model_module": "@jupyter-widgets/controls",
            "_model_module_version": "1.5.0",
            "_model_name": "DescriptionStyleModel",
            "_view_count": null,
            "_view_module": "@jupyter-widgets/base",
            "_view_module_version": "1.2.0",
            "_view_name": "StyleView",
            "description_width": ""
          }
        },
        "a8c9274f6adb4dee944ef8582837fe82": {
          "model_module": "@jupyter-widgets/base",
          "model_name": "LayoutModel",
          "model_module_version": "1.2.0",
          "state": {
            "_model_module": "@jupyter-widgets/base",
            "_model_module_version": "1.2.0",
            "_model_name": "LayoutModel",
            "_view_count": null,
            "_view_module": "@jupyter-widgets/base",
            "_view_module_version": "1.2.0",
            "_view_name": "LayoutView",
            "align_content": null,
            "align_items": null,
            "align_self": null,
            "border": null,
            "bottom": null,
            "display": null,
            "flex": null,
            "flex_flow": null,
            "grid_area": null,
            "grid_auto_columns": null,
            "grid_auto_flow": null,
            "grid_auto_rows": null,
            "grid_column": null,
            "grid_gap": null,
            "grid_row": null,
            "grid_template_areas": null,
            "grid_template_columns": null,
            "grid_template_rows": null,
            "height": null,
            "justify_content": null,
            "justify_items": null,
            "left": null,
            "margin": null,
            "max_height": null,
            "max_width": null,
            "min_height": null,
            "min_width": null,
            "object_fit": null,
            "object_position": null,
            "order": null,
            "overflow": null,
            "overflow_x": null,
            "overflow_y": null,
            "padding": null,
            "right": null,
            "top": null,
            "visibility": null,
            "width": null
          }
        },
        "46c4d354612647fe9176ea6c676a15e5": {
          "model_module": "@jupyter-widgets/controls",
          "model_name": "ProgressStyleModel",
          "model_module_version": "1.5.0",
          "state": {
            "_model_module": "@jupyter-widgets/controls",
            "_model_module_version": "1.5.0",
            "_model_name": "ProgressStyleModel",
            "_view_count": null,
            "_view_module": "@jupyter-widgets/base",
            "_view_module_version": "1.2.0",
            "_view_name": "StyleView",
            "bar_color": null,
            "description_width": ""
          }
        },
        "5cc94f7000214d0e87ebcb19ea79b85f": {
          "model_module": "@jupyter-widgets/base",
          "model_name": "LayoutModel",
          "model_module_version": "1.2.0",
          "state": {
            "_model_module": "@jupyter-widgets/base",
            "_model_module_version": "1.2.0",
            "_model_name": "LayoutModel",
            "_view_count": null,
            "_view_module": "@jupyter-widgets/base",
            "_view_module_version": "1.2.0",
            "_view_name": "LayoutView",
            "align_content": null,
            "align_items": null,
            "align_self": null,
            "border": null,
            "bottom": null,
            "display": null,
            "flex": null,
            "flex_flow": null,
            "grid_area": null,
            "grid_auto_columns": null,
            "grid_auto_flow": null,
            "grid_auto_rows": null,
            "grid_column": null,
            "grid_gap": null,
            "grid_row": null,
            "grid_template_areas": null,
            "grid_template_columns": null,
            "grid_template_rows": null,
            "height": null,
            "justify_content": null,
            "justify_items": null,
            "left": null,
            "margin": null,
            "max_height": null,
            "max_width": null,
            "min_height": null,
            "min_width": null,
            "object_fit": null,
            "object_position": null,
            "order": null,
            "overflow": null,
            "overflow_x": null,
            "overflow_y": null,
            "padding": null,
            "right": null,
            "top": null,
            "visibility": null,
            "width": null
          }
        },
        "a12b0aebdc1b4028a3ebadfce10d4eff": {
          "model_module": "@jupyter-widgets/controls",
          "model_name": "DescriptionStyleModel",
          "model_module_version": "1.5.0",
          "state": {
            "_model_module": "@jupyter-widgets/controls",
            "_model_module_version": "1.5.0",
            "_model_name": "DescriptionStyleModel",
            "_view_count": null,
            "_view_module": "@jupyter-widgets/base",
            "_view_module_version": "1.2.0",
            "_view_name": "StyleView",
            "description_width": ""
          }
        },
        "5cca6366d2934de88ff30b79efb99b41": {
          "model_module": "@jupyter-widgets/controls",
          "model_name": "HBoxModel",
          "model_module_version": "1.5.0",
          "state": {
            "_dom_classes": [],
            "_model_module": "@jupyter-widgets/controls",
            "_model_module_version": "1.5.0",
            "_model_name": "HBoxModel",
            "_view_count": null,
            "_view_module": "@jupyter-widgets/controls",
            "_view_module_version": "1.5.0",
            "_view_name": "HBoxView",
            "box_style": "",
            "children": [
              "IPY_MODEL_a07f4755f6d14653899b521f5df869c1",
              "IPY_MODEL_dde9bf290e6a420baeb73183f73a1ae1",
              "IPY_MODEL_9ae2a639089b409da6174c19d28869a7"
            ],
            "layout": "IPY_MODEL_b00803b6723b4bf08d6a14b4d0a2f27c"
          }
        },
        "a07f4755f6d14653899b521f5df869c1": {
          "model_module": "@jupyter-widgets/controls",
          "model_name": "HTMLModel",
          "model_module_version": "1.5.0",
          "state": {
            "_dom_classes": [],
            "_model_module": "@jupyter-widgets/controls",
            "_model_module_version": "1.5.0",
            "_model_name": "HTMLModel",
            "_view_count": null,
            "_view_module": "@jupyter-widgets/controls",
            "_view_module_version": "1.5.0",
            "_view_name": "HTMLView",
            "description": "",
            "description_tooltip": null,
            "layout": "IPY_MODEL_ce3a3c463bfa410f8b9ace833bc234be",
            "placeholder": "​",
            "style": "IPY_MODEL_03e82318f9f14337b0e54119288f8043",
            "value": "Generating train split: 100%"
          }
        },
        "dde9bf290e6a420baeb73183f73a1ae1": {
          "model_module": "@jupyter-widgets/controls",
          "model_name": "FloatProgressModel",
          "model_module_version": "1.5.0",
          "state": {
            "_dom_classes": [],
            "_model_module": "@jupyter-widgets/controls",
            "_model_module_version": "1.5.0",
            "_model_name": "FloatProgressModel",
            "_view_count": null,
            "_view_module": "@jupyter-widgets/controls",
            "_view_module_version": "1.5.0",
            "_view_name": "ProgressView",
            "bar_style": "success",
            "description": "",
            "description_tooltip": null,
            "layout": "IPY_MODEL_c2353f2d8f80470fbb0a7fc61f95a4f7",
            "max": 25000,
            "min": 0,
            "orientation": "horizontal",
            "style": "IPY_MODEL_201f37dc83eb41bb91268cbc6ff545df",
            "value": 25000
          }
        },
        "9ae2a639089b409da6174c19d28869a7": {
          "model_module": "@jupyter-widgets/controls",
          "model_name": "HTMLModel",
          "model_module_version": "1.5.0",
          "state": {
            "_dom_classes": [],
            "_model_module": "@jupyter-widgets/controls",
            "_model_module_version": "1.5.0",
            "_model_name": "HTMLModel",
            "_view_count": null,
            "_view_module": "@jupyter-widgets/controls",
            "_view_module_version": "1.5.0",
            "_view_name": "HTMLView",
            "description": "",
            "description_tooltip": null,
            "layout": "IPY_MODEL_0a419cdea47444fe9ddeb67aa23acc14",
            "placeholder": "​",
            "style": "IPY_MODEL_a265fd3b4fcc4b1ea75f1230749e6890",
            "value": " 25000/25000 [00:00&lt;00:00, 70574.39 examples/s]"
          }
        },
        "b00803b6723b4bf08d6a14b4d0a2f27c": {
          "model_module": "@jupyter-widgets/base",
          "model_name": "LayoutModel",
          "model_module_version": "1.2.0",
          "state": {
            "_model_module": "@jupyter-widgets/base",
            "_model_module_version": "1.2.0",
            "_model_name": "LayoutModel",
            "_view_count": null,
            "_view_module": "@jupyter-widgets/base",
            "_view_module_version": "1.2.0",
            "_view_name": "LayoutView",
            "align_content": null,
            "align_items": null,
            "align_self": null,
            "border": null,
            "bottom": null,
            "display": null,
            "flex": null,
            "flex_flow": null,
            "grid_area": null,
            "grid_auto_columns": null,
            "grid_auto_flow": null,
            "grid_auto_rows": null,
            "grid_column": null,
            "grid_gap": null,
            "grid_row": null,
            "grid_template_areas": null,
            "grid_template_columns": null,
            "grid_template_rows": null,
            "height": null,
            "justify_content": null,
            "justify_items": null,
            "left": null,
            "margin": null,
            "max_height": null,
            "max_width": null,
            "min_height": null,
            "min_width": null,
            "object_fit": null,
            "object_position": null,
            "order": null,
            "overflow": null,
            "overflow_x": null,
            "overflow_y": null,
            "padding": null,
            "right": null,
            "top": null,
            "visibility": null,
            "width": null
          }
        },
        "ce3a3c463bfa410f8b9ace833bc234be": {
          "model_module": "@jupyter-widgets/base",
          "model_name": "LayoutModel",
          "model_module_version": "1.2.0",
          "state": {
            "_model_module": "@jupyter-widgets/base",
            "_model_module_version": "1.2.0",
            "_model_name": "LayoutModel",
            "_view_count": null,
            "_view_module": "@jupyter-widgets/base",
            "_view_module_version": "1.2.0",
            "_view_name": "LayoutView",
            "align_content": null,
            "align_items": null,
            "align_self": null,
            "border": null,
            "bottom": null,
            "display": null,
            "flex": null,
            "flex_flow": null,
            "grid_area": null,
            "grid_auto_columns": null,
            "grid_auto_flow": null,
            "grid_auto_rows": null,
            "grid_column": null,
            "grid_gap": null,
            "grid_row": null,
            "grid_template_areas": null,
            "grid_template_columns": null,
            "grid_template_rows": null,
            "height": null,
            "justify_content": null,
            "justify_items": null,
            "left": null,
            "margin": null,
            "max_height": null,
            "max_width": null,
            "min_height": null,
            "min_width": null,
            "object_fit": null,
            "object_position": null,
            "order": null,
            "overflow": null,
            "overflow_x": null,
            "overflow_y": null,
            "padding": null,
            "right": null,
            "top": null,
            "visibility": null,
            "width": null
          }
        },
        "03e82318f9f14337b0e54119288f8043": {
          "model_module": "@jupyter-widgets/controls",
          "model_name": "DescriptionStyleModel",
          "model_module_version": "1.5.0",
          "state": {
            "_model_module": "@jupyter-widgets/controls",
            "_model_module_version": "1.5.0",
            "_model_name": "DescriptionStyleModel",
            "_view_count": null,
            "_view_module": "@jupyter-widgets/base",
            "_view_module_version": "1.2.0",
            "_view_name": "StyleView",
            "description_width": ""
          }
        },
        "c2353f2d8f80470fbb0a7fc61f95a4f7": {
          "model_module": "@jupyter-widgets/base",
          "model_name": "LayoutModel",
          "model_module_version": "1.2.0",
          "state": {
            "_model_module": "@jupyter-widgets/base",
            "_model_module_version": "1.2.0",
            "_model_name": "LayoutModel",
            "_view_count": null,
            "_view_module": "@jupyter-widgets/base",
            "_view_module_version": "1.2.0",
            "_view_name": "LayoutView",
            "align_content": null,
            "align_items": null,
            "align_self": null,
            "border": null,
            "bottom": null,
            "display": null,
            "flex": null,
            "flex_flow": null,
            "grid_area": null,
            "grid_auto_columns": null,
            "grid_auto_flow": null,
            "grid_auto_rows": null,
            "grid_column": null,
            "grid_gap": null,
            "grid_row": null,
            "grid_template_areas": null,
            "grid_template_columns": null,
            "grid_template_rows": null,
            "height": null,
            "justify_content": null,
            "justify_items": null,
            "left": null,
            "margin": null,
            "max_height": null,
            "max_width": null,
            "min_height": null,
            "min_width": null,
            "object_fit": null,
            "object_position": null,
            "order": null,
            "overflow": null,
            "overflow_x": null,
            "overflow_y": null,
            "padding": null,
            "right": null,
            "top": null,
            "visibility": null,
            "width": null
          }
        },
        "201f37dc83eb41bb91268cbc6ff545df": {
          "model_module": "@jupyter-widgets/controls",
          "model_name": "ProgressStyleModel",
          "model_module_version": "1.5.0",
          "state": {
            "_model_module": "@jupyter-widgets/controls",
            "_model_module_version": "1.5.0",
            "_model_name": "ProgressStyleModel",
            "_view_count": null,
            "_view_module": "@jupyter-widgets/base",
            "_view_module_version": "1.2.0",
            "_view_name": "StyleView",
            "bar_color": null,
            "description_width": ""
          }
        },
        "0a419cdea47444fe9ddeb67aa23acc14": {
          "model_module": "@jupyter-widgets/base",
          "model_name": "LayoutModel",
          "model_module_version": "1.2.0",
          "state": {
            "_model_module": "@jupyter-widgets/base",
            "_model_module_version": "1.2.0",
            "_model_name": "LayoutModel",
            "_view_count": null,
            "_view_module": "@jupyter-widgets/base",
            "_view_module_version": "1.2.0",
            "_view_name": "LayoutView",
            "align_content": null,
            "align_items": null,
            "align_self": null,
            "border": null,
            "bottom": null,
            "display": null,
            "flex": null,
            "flex_flow": null,
            "grid_area": null,
            "grid_auto_columns": null,
            "grid_auto_flow": null,
            "grid_auto_rows": null,
            "grid_column": null,
            "grid_gap": null,
            "grid_row": null,
            "grid_template_areas": null,
            "grid_template_columns": null,
            "grid_template_rows": null,
            "height": null,
            "justify_content": null,
            "justify_items": null,
            "left": null,
            "margin": null,
            "max_height": null,
            "max_width": null,
            "min_height": null,
            "min_width": null,
            "object_fit": null,
            "object_position": null,
            "order": null,
            "overflow": null,
            "overflow_x": null,
            "overflow_y": null,
            "padding": null,
            "right": null,
            "top": null,
            "visibility": null,
            "width": null
          }
        },
        "a265fd3b4fcc4b1ea75f1230749e6890": {
          "model_module": "@jupyter-widgets/controls",
          "model_name": "DescriptionStyleModel",
          "model_module_version": "1.5.0",
          "state": {
            "_model_module": "@jupyter-widgets/controls",
            "_model_module_version": "1.5.0",
            "_model_name": "DescriptionStyleModel",
            "_view_count": null,
            "_view_module": "@jupyter-widgets/base",
            "_view_module_version": "1.2.0",
            "_view_name": "StyleView",
            "description_width": ""
          }
        },
        "f914819911244389ae4cb353293cea40": {
          "model_module": "@jupyter-widgets/controls",
          "model_name": "HBoxModel",
          "model_module_version": "1.5.0",
          "state": {
            "_dom_classes": [],
            "_model_module": "@jupyter-widgets/controls",
            "_model_module_version": "1.5.0",
            "_model_name": "HBoxModel",
            "_view_count": null,
            "_view_module": "@jupyter-widgets/controls",
            "_view_module_version": "1.5.0",
            "_view_name": "HBoxView",
            "box_style": "",
            "children": [
              "IPY_MODEL_4cef8b9ab363438ab7c82c255fea774c",
              "IPY_MODEL_439edc6e618e49ca85f71d70fafd1a7a",
              "IPY_MODEL_4d40775ceb984b3fa5fbe3686bfe4d2a"
            ],
            "layout": "IPY_MODEL_ebd6bd14bcc1400a83ec6ce616cd4924"
          }
        },
        "4cef8b9ab363438ab7c82c255fea774c": {
          "model_module": "@jupyter-widgets/controls",
          "model_name": "HTMLModel",
          "model_module_version": "1.5.0",
          "state": {
            "_dom_classes": [],
            "_model_module": "@jupyter-widgets/controls",
            "_model_module_version": "1.5.0",
            "_model_name": "HTMLModel",
            "_view_count": null,
            "_view_module": "@jupyter-widgets/controls",
            "_view_module_version": "1.5.0",
            "_view_name": "HTMLView",
            "description": "",
            "description_tooltip": null,
            "layout": "IPY_MODEL_5d55867b25ee41e48d1ee4b4b65bdb23",
            "placeholder": "​",
            "style": "IPY_MODEL_9f4920315f124490bd002fbbab092389",
            "value": "Generating test split: 100%"
          }
        },
        "439edc6e618e49ca85f71d70fafd1a7a": {
          "model_module": "@jupyter-widgets/controls",
          "model_name": "FloatProgressModel",
          "model_module_version": "1.5.0",
          "state": {
            "_dom_classes": [],
            "_model_module": "@jupyter-widgets/controls",
            "_model_module_version": "1.5.0",
            "_model_name": "FloatProgressModel",
            "_view_count": null,
            "_view_module": "@jupyter-widgets/controls",
            "_view_module_version": "1.5.0",
            "_view_name": "ProgressView",
            "bar_style": "success",
            "description": "",
            "description_tooltip": null,
            "layout": "IPY_MODEL_a6e1b8a696ab4ba5987caf21d9b0e138",
            "max": 25000,
            "min": 0,
            "orientation": "horizontal",
            "style": "IPY_MODEL_00c1cf4b99ad407fbaa80faaa6c94298",
            "value": 25000
          }
        },
        "4d40775ceb984b3fa5fbe3686bfe4d2a": {
          "model_module": "@jupyter-widgets/controls",
          "model_name": "HTMLModel",
          "model_module_version": "1.5.0",
          "state": {
            "_dom_classes": [],
            "_model_module": "@jupyter-widgets/controls",
            "_model_module_version": "1.5.0",
            "_model_name": "HTMLModel",
            "_view_count": null,
            "_view_module": "@jupyter-widgets/controls",
            "_view_module_version": "1.5.0",
            "_view_name": "HTMLView",
            "description": "",
            "description_tooltip": null,
            "layout": "IPY_MODEL_9b4310503f654c0185ed85d1f273608a",
            "placeholder": "​",
            "style": "IPY_MODEL_c3dc6a444a3f41b4866c764de7680b22",
            "value": " 25000/25000 [00:00&lt;00:00, 94948.85 examples/s]"
          }
        },
        "ebd6bd14bcc1400a83ec6ce616cd4924": {
          "model_module": "@jupyter-widgets/base",
          "model_name": "LayoutModel",
          "model_module_version": "1.2.0",
          "state": {
            "_model_module": "@jupyter-widgets/base",
            "_model_module_version": "1.2.0",
            "_model_name": "LayoutModel",
            "_view_count": null,
            "_view_module": "@jupyter-widgets/base",
            "_view_module_version": "1.2.0",
            "_view_name": "LayoutView",
            "align_content": null,
            "align_items": null,
            "align_self": null,
            "border": null,
            "bottom": null,
            "display": null,
            "flex": null,
            "flex_flow": null,
            "grid_area": null,
            "grid_auto_columns": null,
            "grid_auto_flow": null,
            "grid_auto_rows": null,
            "grid_column": null,
            "grid_gap": null,
            "grid_row": null,
            "grid_template_areas": null,
            "grid_template_columns": null,
            "grid_template_rows": null,
            "height": null,
            "justify_content": null,
            "justify_items": null,
            "left": null,
            "margin": null,
            "max_height": null,
            "max_width": null,
            "min_height": null,
            "min_width": null,
            "object_fit": null,
            "object_position": null,
            "order": null,
            "overflow": null,
            "overflow_x": null,
            "overflow_y": null,
            "padding": null,
            "right": null,
            "top": null,
            "visibility": null,
            "width": null
          }
        },
        "5d55867b25ee41e48d1ee4b4b65bdb23": {
          "model_module": "@jupyter-widgets/base",
          "model_name": "LayoutModel",
          "model_module_version": "1.2.0",
          "state": {
            "_model_module": "@jupyter-widgets/base",
            "_model_module_version": "1.2.0",
            "_model_name": "LayoutModel",
            "_view_count": null,
            "_view_module": "@jupyter-widgets/base",
            "_view_module_version": "1.2.0",
            "_view_name": "LayoutView",
            "align_content": null,
            "align_items": null,
            "align_self": null,
            "border": null,
            "bottom": null,
            "display": null,
            "flex": null,
            "flex_flow": null,
            "grid_area": null,
            "grid_auto_columns": null,
            "grid_auto_flow": null,
            "grid_auto_rows": null,
            "grid_column": null,
            "grid_gap": null,
            "grid_row": null,
            "grid_template_areas": null,
            "grid_template_columns": null,
            "grid_template_rows": null,
            "height": null,
            "justify_content": null,
            "justify_items": null,
            "left": null,
            "margin": null,
            "max_height": null,
            "max_width": null,
            "min_height": null,
            "min_width": null,
            "object_fit": null,
            "object_position": null,
            "order": null,
            "overflow": null,
            "overflow_x": null,
            "overflow_y": null,
            "padding": null,
            "right": null,
            "top": null,
            "visibility": null,
            "width": null
          }
        },
        "9f4920315f124490bd002fbbab092389": {
          "model_module": "@jupyter-widgets/controls",
          "model_name": "DescriptionStyleModel",
          "model_module_version": "1.5.0",
          "state": {
            "_model_module": "@jupyter-widgets/controls",
            "_model_module_version": "1.5.0",
            "_model_name": "DescriptionStyleModel",
            "_view_count": null,
            "_view_module": "@jupyter-widgets/base",
            "_view_module_version": "1.2.0",
            "_view_name": "StyleView",
            "description_width": ""
          }
        },
        "a6e1b8a696ab4ba5987caf21d9b0e138": {
          "model_module": "@jupyter-widgets/base",
          "model_name": "LayoutModel",
          "model_module_version": "1.2.0",
          "state": {
            "_model_module": "@jupyter-widgets/base",
            "_model_module_version": "1.2.0",
            "_model_name": "LayoutModel",
            "_view_count": null,
            "_view_module": "@jupyter-widgets/base",
            "_view_module_version": "1.2.0",
            "_view_name": "LayoutView",
            "align_content": null,
            "align_items": null,
            "align_self": null,
            "border": null,
            "bottom": null,
            "display": null,
            "flex": null,
            "flex_flow": null,
            "grid_area": null,
            "grid_auto_columns": null,
            "grid_auto_flow": null,
            "grid_auto_rows": null,
            "grid_column": null,
            "grid_gap": null,
            "grid_row": null,
            "grid_template_areas": null,
            "grid_template_columns": null,
            "grid_template_rows": null,
            "height": null,
            "justify_content": null,
            "justify_items": null,
            "left": null,
            "margin": null,
            "max_height": null,
            "max_width": null,
            "min_height": null,
            "min_width": null,
            "object_fit": null,
            "object_position": null,
            "order": null,
            "overflow": null,
            "overflow_x": null,
            "overflow_y": null,
            "padding": null,
            "right": null,
            "top": null,
            "visibility": null,
            "width": null
          }
        },
        "00c1cf4b99ad407fbaa80faaa6c94298": {
          "model_module": "@jupyter-widgets/controls",
          "model_name": "ProgressStyleModel",
          "model_module_version": "1.5.0",
          "state": {
            "_model_module": "@jupyter-widgets/controls",
            "_model_module_version": "1.5.0",
            "_model_name": "ProgressStyleModel",
            "_view_count": null,
            "_view_module": "@jupyter-widgets/base",
            "_view_module_version": "1.2.0",
            "_view_name": "StyleView",
            "bar_color": null,
            "description_width": ""
          }
        },
        "9b4310503f654c0185ed85d1f273608a": {
          "model_module": "@jupyter-widgets/base",
          "model_name": "LayoutModel",
          "model_module_version": "1.2.0",
          "state": {
            "_model_module": "@jupyter-widgets/base",
            "_model_module_version": "1.2.0",
            "_model_name": "LayoutModel",
            "_view_count": null,
            "_view_module": "@jupyter-widgets/base",
            "_view_module_version": "1.2.0",
            "_view_name": "LayoutView",
            "align_content": null,
            "align_items": null,
            "align_self": null,
            "border": null,
            "bottom": null,
            "display": null,
            "flex": null,
            "flex_flow": null,
            "grid_area": null,
            "grid_auto_columns": null,
            "grid_auto_flow": null,
            "grid_auto_rows": null,
            "grid_column": null,
            "grid_gap": null,
            "grid_row": null,
            "grid_template_areas": null,
            "grid_template_columns": null,
            "grid_template_rows": null,
            "height": null,
            "justify_content": null,
            "justify_items": null,
            "left": null,
            "margin": null,
            "max_height": null,
            "max_width": null,
            "min_height": null,
            "min_width": null,
            "object_fit": null,
            "object_position": null,
            "order": null,
            "overflow": null,
            "overflow_x": null,
            "overflow_y": null,
            "padding": null,
            "right": null,
            "top": null,
            "visibility": null,
            "width": null
          }
        },
        "c3dc6a444a3f41b4866c764de7680b22": {
          "model_module": "@jupyter-widgets/controls",
          "model_name": "DescriptionStyleModel",
          "model_module_version": "1.5.0",
          "state": {
            "_model_module": "@jupyter-widgets/controls",
            "_model_module_version": "1.5.0",
            "_model_name": "DescriptionStyleModel",
            "_view_count": null,
            "_view_module": "@jupyter-widgets/base",
            "_view_module_version": "1.2.0",
            "_view_name": "StyleView",
            "description_width": ""
          }
        },
        "e19b8e64d0bf4effb8ec3e62cd41924f": {
          "model_module": "@jupyter-widgets/controls",
          "model_name": "HBoxModel",
          "model_module_version": "1.5.0",
          "state": {
            "_dom_classes": [],
            "_model_module": "@jupyter-widgets/controls",
            "_model_module_version": "1.5.0",
            "_model_name": "HBoxModel",
            "_view_count": null,
            "_view_module": "@jupyter-widgets/controls",
            "_view_module_version": "1.5.0",
            "_view_name": "HBoxView",
            "box_style": "",
            "children": [
              "IPY_MODEL_d19b0d5167e74eae92efb075f4d348c8",
              "IPY_MODEL_f2f5e8d397e44237bb783a11ade3f9fd",
              "IPY_MODEL_ee71e68a856f444992a9acbf8b981f88"
            ],
            "layout": "IPY_MODEL_eea747f3d1db4017952a36bf86932976"
          }
        },
        "d19b0d5167e74eae92efb075f4d348c8": {
          "model_module": "@jupyter-widgets/controls",
          "model_name": "HTMLModel",
          "model_module_version": "1.5.0",
          "state": {
            "_dom_classes": [],
            "_model_module": "@jupyter-widgets/controls",
            "_model_module_version": "1.5.0",
            "_model_name": "HTMLModel",
            "_view_count": null,
            "_view_module": "@jupyter-widgets/controls",
            "_view_module_version": "1.5.0",
            "_view_name": "HTMLView",
            "description": "",
            "description_tooltip": null,
            "layout": "IPY_MODEL_8136672966334841af868d9ea8deaf69",
            "placeholder": "​",
            "style": "IPY_MODEL_6936cb0f89e6456cad8e8ba2fa211b1e",
            "value": "Generating unsupervised split: 100%"
          }
        },
        "f2f5e8d397e44237bb783a11ade3f9fd": {
          "model_module": "@jupyter-widgets/controls",
          "model_name": "FloatProgressModel",
          "model_module_version": "1.5.0",
          "state": {
            "_dom_classes": [],
            "_model_module": "@jupyter-widgets/controls",
            "_model_module_version": "1.5.0",
            "_model_name": "FloatProgressModel",
            "_view_count": null,
            "_view_module": "@jupyter-widgets/controls",
            "_view_module_version": "1.5.0",
            "_view_name": "ProgressView",
            "bar_style": "success",
            "description": "",
            "description_tooltip": null,
            "layout": "IPY_MODEL_512204b2c4c24216862a55c333f6132b",
            "max": 50000,
            "min": 0,
            "orientation": "horizontal",
            "style": "IPY_MODEL_51fb48d2c8bc4026a5ffae989ab560ae",
            "value": 50000
          }
        },
        "ee71e68a856f444992a9acbf8b981f88": {
          "model_module": "@jupyter-widgets/controls",
          "model_name": "HTMLModel",
          "model_module_version": "1.5.0",
          "state": {
            "_dom_classes": [],
            "_model_module": "@jupyter-widgets/controls",
            "_model_module_version": "1.5.0",
            "_model_name": "HTMLModel",
            "_view_count": null,
            "_view_module": "@jupyter-widgets/controls",
            "_view_module_version": "1.5.0",
            "_view_name": "HTMLView",
            "description": "",
            "description_tooltip": null,
            "layout": "IPY_MODEL_41853cb60d9d4db886c8344cf4b519d0",
            "placeholder": "​",
            "style": "IPY_MODEL_32f8ec0b75ff4d11b829e95731a57329",
            "value": " 50000/50000 [00:00&lt;00:00, 103293.70 examples/s]"
          }
        },
        "eea747f3d1db4017952a36bf86932976": {
          "model_module": "@jupyter-widgets/base",
          "model_name": "LayoutModel",
          "model_module_version": "1.2.0",
          "state": {
            "_model_module": "@jupyter-widgets/base",
            "_model_module_version": "1.2.0",
            "_model_name": "LayoutModel",
            "_view_count": null,
            "_view_module": "@jupyter-widgets/base",
            "_view_module_version": "1.2.0",
            "_view_name": "LayoutView",
            "align_content": null,
            "align_items": null,
            "align_self": null,
            "border": null,
            "bottom": null,
            "display": null,
            "flex": null,
            "flex_flow": null,
            "grid_area": null,
            "grid_auto_columns": null,
            "grid_auto_flow": null,
            "grid_auto_rows": null,
            "grid_column": null,
            "grid_gap": null,
            "grid_row": null,
            "grid_template_areas": null,
            "grid_template_columns": null,
            "grid_template_rows": null,
            "height": null,
            "justify_content": null,
            "justify_items": null,
            "left": null,
            "margin": null,
            "max_height": null,
            "max_width": null,
            "min_height": null,
            "min_width": null,
            "object_fit": null,
            "object_position": null,
            "order": null,
            "overflow": null,
            "overflow_x": null,
            "overflow_y": null,
            "padding": null,
            "right": null,
            "top": null,
            "visibility": null,
            "width": null
          }
        },
        "8136672966334841af868d9ea8deaf69": {
          "model_module": "@jupyter-widgets/base",
          "model_name": "LayoutModel",
          "model_module_version": "1.2.0",
          "state": {
            "_model_module": "@jupyter-widgets/base",
            "_model_module_version": "1.2.0",
            "_model_name": "LayoutModel",
            "_view_count": null,
            "_view_module": "@jupyter-widgets/base",
            "_view_module_version": "1.2.0",
            "_view_name": "LayoutView",
            "align_content": null,
            "align_items": null,
            "align_self": null,
            "border": null,
            "bottom": null,
            "display": null,
            "flex": null,
            "flex_flow": null,
            "grid_area": null,
            "grid_auto_columns": null,
            "grid_auto_flow": null,
            "grid_auto_rows": null,
            "grid_column": null,
            "grid_gap": null,
            "grid_row": null,
            "grid_template_areas": null,
            "grid_template_columns": null,
            "grid_template_rows": null,
            "height": null,
            "justify_content": null,
            "justify_items": null,
            "left": null,
            "margin": null,
            "max_height": null,
            "max_width": null,
            "min_height": null,
            "min_width": null,
            "object_fit": null,
            "object_position": null,
            "order": null,
            "overflow": null,
            "overflow_x": null,
            "overflow_y": null,
            "padding": null,
            "right": null,
            "top": null,
            "visibility": null,
            "width": null
          }
        },
        "6936cb0f89e6456cad8e8ba2fa211b1e": {
          "model_module": "@jupyter-widgets/controls",
          "model_name": "DescriptionStyleModel",
          "model_module_version": "1.5.0",
          "state": {
            "_model_module": "@jupyter-widgets/controls",
            "_model_module_version": "1.5.0",
            "_model_name": "DescriptionStyleModel",
            "_view_count": null,
            "_view_module": "@jupyter-widgets/base",
            "_view_module_version": "1.2.0",
            "_view_name": "StyleView",
            "description_width": ""
          }
        },
        "512204b2c4c24216862a55c333f6132b": {
          "model_module": "@jupyter-widgets/base",
          "model_name": "LayoutModel",
          "model_module_version": "1.2.0",
          "state": {
            "_model_module": "@jupyter-widgets/base",
            "_model_module_version": "1.2.0",
            "_model_name": "LayoutModel",
            "_view_count": null,
            "_view_module": "@jupyter-widgets/base",
            "_view_module_version": "1.2.0",
            "_view_name": "LayoutView",
            "align_content": null,
            "align_items": null,
            "align_self": null,
            "border": null,
            "bottom": null,
            "display": null,
            "flex": null,
            "flex_flow": null,
            "grid_area": null,
            "grid_auto_columns": null,
            "grid_auto_flow": null,
            "grid_auto_rows": null,
            "grid_column": null,
            "grid_gap": null,
            "grid_row": null,
            "grid_template_areas": null,
            "grid_template_columns": null,
            "grid_template_rows": null,
            "height": null,
            "justify_content": null,
            "justify_items": null,
            "left": null,
            "margin": null,
            "max_height": null,
            "max_width": null,
            "min_height": null,
            "min_width": null,
            "object_fit": null,
            "object_position": null,
            "order": null,
            "overflow": null,
            "overflow_x": null,
            "overflow_y": null,
            "padding": null,
            "right": null,
            "top": null,
            "visibility": null,
            "width": null
          }
        },
        "51fb48d2c8bc4026a5ffae989ab560ae": {
          "model_module": "@jupyter-widgets/controls",
          "model_name": "ProgressStyleModel",
          "model_module_version": "1.5.0",
          "state": {
            "_model_module": "@jupyter-widgets/controls",
            "_model_module_version": "1.5.0",
            "_model_name": "ProgressStyleModel",
            "_view_count": null,
            "_view_module": "@jupyter-widgets/base",
            "_view_module_version": "1.2.0",
            "_view_name": "StyleView",
            "bar_color": null,
            "description_width": ""
          }
        },
        "41853cb60d9d4db886c8344cf4b519d0": {
          "model_module": "@jupyter-widgets/base",
          "model_name": "LayoutModel",
          "model_module_version": "1.2.0",
          "state": {
            "_model_module": "@jupyter-widgets/base",
            "_model_module_version": "1.2.0",
            "_model_name": "LayoutModel",
            "_view_count": null,
            "_view_module": "@jupyter-widgets/base",
            "_view_module_version": "1.2.0",
            "_view_name": "LayoutView",
            "align_content": null,
            "align_items": null,
            "align_self": null,
            "border": null,
            "bottom": null,
            "display": null,
            "flex": null,
            "flex_flow": null,
            "grid_area": null,
            "grid_auto_columns": null,
            "grid_auto_flow": null,
            "grid_auto_rows": null,
            "grid_column": null,
            "grid_gap": null,
            "grid_row": null,
            "grid_template_areas": null,
            "grid_template_columns": null,
            "grid_template_rows": null,
            "height": null,
            "justify_content": null,
            "justify_items": null,
            "left": null,
            "margin": null,
            "max_height": null,
            "max_width": null,
            "min_height": null,
            "min_width": null,
            "object_fit": null,
            "object_position": null,
            "order": null,
            "overflow": null,
            "overflow_x": null,
            "overflow_y": null,
            "padding": null,
            "right": null,
            "top": null,
            "visibility": null,
            "width": null
          }
        },
        "32f8ec0b75ff4d11b829e95731a57329": {
          "model_module": "@jupyter-widgets/controls",
          "model_name": "DescriptionStyleModel",
          "model_module_version": "1.5.0",
          "state": {
            "_model_module": "@jupyter-widgets/controls",
            "_model_module_version": "1.5.0",
            "_model_name": "DescriptionStyleModel",
            "_view_count": null,
            "_view_module": "@jupyter-widgets/base",
            "_view_module_version": "1.2.0",
            "_view_name": "StyleView",
            "description_width": ""
          }
        }
      }
    }
  },
  "cells": [
    {
      "cell_type": "markdown",
      "metadata": {
        "id": "view-in-github",
        "colab_type": "text"
      },
      "source": [
        "<a href=\"https://colab.research.google.com/github/SandeepChatterjee66/NLP-Workshop24/blob/main/PyTorch-MLP.ipynb\" target=\"_parent\"><img src=\"https://colab.research.google.com/assets/colab-badge.svg\" alt=\"Open In Colab\"/></a>"
      ]
    },
    {
      "cell_type": "code",
      "execution_count": 1,
      "metadata": {
        "id": "278MqGYvgh01"
      },
      "outputs": [],
      "source": [
        "import torch\n",
        "import torch.nn as nn\n",
        "import torch.optim as optim"
      ]
    },
    {
      "cell_type": "markdown",
      "source": [
        "**Import necessary libraries:**\n",
        "* **torch:** Provides tensor data type and efficient implementation of operations on them\n",
        "* **torch.nn:** Defines neural network layers and modules.\n",
        "* **torch.optim:** Implements optimization algorithms like SGD, Adam, etc.\n"
      ],
      "metadata": {
        "id": "ea_KWx4U_2dd"
      }
    },
    {
      "cell_type": "code",
      "source": [
        "a = [1,2,3]"
      ],
      "metadata": {
        "id": "FU7sf4-Ihus9"
      },
      "execution_count": 2,
      "outputs": []
    },
    {
      "cell_type": "code",
      "source": [
        "x = torch.tensor(a)\n",
        "y = torch.tensor([4,5,6])"
      ],
      "metadata": {
        "id": "y5mw0r93hGnj"
      },
      "execution_count": 4,
      "outputs": []
    },
    {
      "cell_type": "code",
      "source": [
        "x + y"
      ],
      "metadata": {
        "colab": {
          "base_uri": "https://localhost:8080/",
          "height": 0
        },
        "id": "jgfYhiL4hyBc",
        "outputId": "eda36b8c-a9d1-4e82-e1ec-0bb51d04d3d9"
      },
      "execution_count": 5,
      "outputs": [
        {
          "output_type": "execute_result",
          "data": {
            "text/plain": [
              "tensor([5, 7, 9])"
            ]
          },
          "metadata": {},
          "execution_count": 5
        }
      ]
    },
    {
      "cell_type": "markdown",
      "source": [
        "hadamard multiplication"
      ],
      "metadata": {
        "id": "3WHz1D2aAV2h"
      }
    },
    {
      "cell_type": "code",
      "source": [
        "x * y"
      ],
      "metadata": {
        "colab": {
          "base_uri": "https://localhost:8080/",
          "height": 0
        },
        "id": "w3Ag_sT0AUGL",
        "outputId": "e195ddb9-7eaa-4981-c7a7-9339770e82fe"
      },
      "execution_count": 6,
      "outputs": [
        {
          "output_type": "execute_result",
          "data": {
            "text/plain": [
              "tensor([ 4, 10, 18])"
            ]
          },
          "metadata": {},
          "execution_count": 6
        }
      ]
    },
    {
      "cell_type": "markdown",
      "source": [
        "Matrix Multiplication"
      ],
      "metadata": {
        "id": "Q9FtSAgcGDLE"
      }
    },
    {
      "cell_type": "code",
      "source": [
        "# Create two random matrices\n",
        "m1 = torch.randn(2, 3)\n",
        "m2 = torch.randn(3, 4)\n",
        "\n",
        "# Multiply the matrices\n",
        "m1 @ m2"
      ],
      "metadata": {
        "colab": {
          "base_uri": "https://localhost:8080/",
          "height": 0
        },
        "id": "fbR7jDHwAZZd",
        "outputId": "76296bc2-197f-43d0-f8b5-25f2dae214c8"
      },
      "execution_count": 8,
      "outputs": [
        {
          "output_type": "execute_result",
          "data": {
            "text/plain": [
              "tensor([[-0.0599, -0.7494,  0.4511,  0.0483],\n",
              "        [-0.0431, -1.9795,  0.5308,  0.0390]])"
            ]
          },
          "metadata": {},
          "execution_count": 8
        }
      ]
    },
    {
      "cell_type": "markdown",
      "source": [
        "#### A basic Multi Layer Perceptron"
      ],
      "metadata": {
        "id": "yIByBCvDF7aW"
      }
    },
    {
      "cell_type": "code",
      "source": [
        "class SimpleNN(nn.Module):\n",
        "  def __init__(self):\n",
        "    super(SimpleNN, self).__init__()\n",
        "    self.fc1 = nn.Linear(3, 5)\n",
        "    self.fc2 = nn.Linear(5, 1)\n",
        "    self.relu = nn.ReLU()\n",
        "\n",
        "  def forward(self, x):\n",
        "    x = self.relu(self.fc1(x))\n",
        "    x = self.fc2(x)\n",
        "    return x"
      ],
      "metadata": {
        "id": "fp_Njhk1h89-"
      },
      "execution_count": 9,
      "outputs": []
    },
    {
      "cell_type": "code",
      "source": [
        "model = SimpleNN()\n",
        "model"
      ],
      "metadata": {
        "colab": {
          "base_uri": "https://localhost:8080/",
          "height": 0
        },
        "id": "4MJ-CLxOii9V",
        "outputId": "001a65a5-3f76-4d83-efd6-895a3b830362"
      },
      "execution_count": 10,
      "outputs": [
        {
          "output_type": "execute_result",
          "data": {
            "text/plain": [
              "SimpleNN(\n",
              "  (fc1): Linear(in_features=3, out_features=5, bias=True)\n",
              "  (fc2): Linear(in_features=5, out_features=1, bias=True)\n",
              "  (relu): ReLU()\n",
              ")"
            ]
          },
          "metadata": {},
          "execution_count": 10
        }
      ]
    },
    {
      "cell_type": "code",
      "source": [
        "criterion = nn.MSELoss()\n",
        "optimizer = optim.SGD(model.parameters(), lr = 0.01)"
      ],
      "metadata": {
        "id": "m-Qoaarcju-1"
      },
      "execution_count": 11,
      "outputs": []
    },
    {
      "cell_type": "markdown",
      "source": [
        "Mean Squared Error (MSE) measures the average squared difference between predicted and actual values\n",
        "why Squaring them ? because, Squaring the error eliminates negative values and amplifies larger errors, making the optimization process more sensitive to significant deviations"
      ],
      "metadata": {
        "id": "GjGP17uUA2WH"
      }
    },
    {
      "cell_type": "code",
      "source": [
        "input_data = torch.tensor([[1.0,2.0,3.0],[4.0,5,6],[7.0,8,9]])\n",
        "target_data = torch.tensor([[10.0], [20], [30]])"
      ],
      "metadata": {
        "id": "VFZ74b8IkMMd"
      },
      "execution_count": 14,
      "outputs": []
    },
    {
      "cell_type": "code",
      "source": [
        "input_data"
      ],
      "metadata": {
        "colab": {
          "base_uri": "https://localhost:8080/",
          "height": 0
        },
        "id": "VG2SvbRwlpv-",
        "outputId": "90d5661d-c629-4d4d-b48e-4e9163aa8a3a"
      },
      "execution_count": 15,
      "outputs": [
        {
          "output_type": "execute_result",
          "data": {
            "text/plain": [
              "tensor([[1., 2., 3.],\n",
              "        [4., 5., 6.],\n",
              "        [7., 8., 9.]])"
            ]
          },
          "metadata": {},
          "execution_count": 15
        }
      ]
    },
    {
      "cell_type": "code",
      "source": [
        "target_data"
      ],
      "metadata": {
        "colab": {
          "base_uri": "https://localhost:8080/",
          "height": 0
        },
        "id": "JlTiPPwelspk",
        "outputId": "878b816f-c470-4678-92cc-c03f53d65d1a"
      },
      "execution_count": 16,
      "outputs": [
        {
          "output_type": "execute_result",
          "data": {
            "text/plain": [
              "tensor([[10.],\n",
              "        [20.],\n",
              "        [30.]])"
            ]
          },
          "metadata": {},
          "execution_count": 16
        }
      ]
    },
    {
      "cell_type": "code",
      "source": [
        "epochs = 10\n",
        "for epoch in range(epochs):\n",
        "  model.train()\n",
        "  optimizer.zero_grad()\n",
        "  outputs = model(input_data)\n",
        "  loss = criterion(outputs, target_data)\n",
        "  loss.backward()\n",
        "  optimizer.step()\n",
        "  if(epoch+1)%2==0:\n",
        "    print(f\"epoch [{epoch+1}/{epochs}], loss : {loss.item():.4f}\")"
      ],
      "metadata": {
        "colab": {
          "base_uri": "https://localhost:8080/",
          "height": 0
        },
        "id": "sO4OpOp4koeY",
        "outputId": "30ee4491-064d-4c24-d322-702acc559377"
      },
      "execution_count": 19,
      "outputs": [
        {
          "output_type": "stream",
          "name": "stdout",
          "text": [
            "epoch [2/10], loss : 66.6667\n",
            "epoch [4/10], loss : 66.6667\n",
            "epoch [6/10], loss : 66.6667\n",
            "epoch [8/10], loss : 66.6667\n",
            "epoch [10/10], loss : 66.6667\n"
          ]
        }
      ]
    },
    {
      "cell_type": "markdown",
      "source": [
        "### **Sentiment analysis with pytorch**"
      ],
      "metadata": {
        "id": "NCdjuGjom7Pt"
      }
    },
    {
      "cell_type": "markdown",
      "source": [
        "Sentiment analysis is the task of classifying the emotional tone of a given text, as positive, negative, or neutral."
      ],
      "metadata": {
        "id": "85Uc2mKhBWmd"
      }
    },
    {
      "cell_type": "code",
      "source": [
        "!pip install datasets"
      ],
      "metadata": {
        "colab": {
          "base_uri": "https://localhost:8080/",
          "height": 0
        },
        "id": "q7THKq4gBkzF",
        "outputId": "96356492-8a5b-415e-ec2c-ecc497686722"
      },
      "execution_count": 21,
      "outputs": [
        {
          "output_type": "stream",
          "name": "stdout",
          "text": [
            "Collecting datasets\n",
            "  Downloading datasets-3.2.0-py3-none-any.whl.metadata (20 kB)\n",
            "Requirement already satisfied: filelock in /usr/local/lib/python3.10/dist-packages (from datasets) (3.16.1)\n",
            "Requirement already satisfied: numpy>=1.17 in /usr/local/lib/python3.10/dist-packages (from datasets) (1.26.4)\n",
            "Requirement already satisfied: pyarrow>=15.0.0 in /usr/local/lib/python3.10/dist-packages (from datasets) (17.0.0)\n",
            "Collecting dill<0.3.9,>=0.3.0 (from datasets)\n",
            "  Downloading dill-0.3.8-py3-none-any.whl.metadata (10 kB)\n",
            "Requirement already satisfied: pandas in /usr/local/lib/python3.10/dist-packages (from datasets) (2.2.2)\n",
            "Requirement already satisfied: requests>=2.32.2 in /usr/local/lib/python3.10/dist-packages (from datasets) (2.32.3)\n",
            "Requirement already satisfied: tqdm>=4.66.3 in /usr/local/lib/python3.10/dist-packages (from datasets) (4.66.6)\n",
            "Collecting xxhash (from datasets)\n",
            "  Downloading xxhash-3.5.0-cp310-cp310-manylinux_2_17_x86_64.manylinux2014_x86_64.whl.metadata (12 kB)\n",
            "Collecting multiprocess<0.70.17 (from datasets)\n",
            "  Downloading multiprocess-0.70.16-py310-none-any.whl.metadata (7.2 kB)\n",
            "Collecting fsspec<=2024.9.0,>=2023.1.0 (from fsspec[http]<=2024.9.0,>=2023.1.0->datasets)\n",
            "  Downloading fsspec-2024.9.0-py3-none-any.whl.metadata (11 kB)\n",
            "Requirement already satisfied: aiohttp in /usr/local/lib/python3.10/dist-packages (from datasets) (3.11.10)\n",
            "Requirement already satisfied: huggingface-hub>=0.23.0 in /usr/local/lib/python3.10/dist-packages (from datasets) (0.26.5)\n",
            "Requirement already satisfied: packaging in /usr/local/lib/python3.10/dist-packages (from datasets) (24.2)\n",
            "Requirement already satisfied: pyyaml>=5.1 in /usr/local/lib/python3.10/dist-packages (from datasets) (6.0.2)\n",
            "Requirement already satisfied: aiohappyeyeballs>=2.3.0 in /usr/local/lib/python3.10/dist-packages (from aiohttp->datasets) (2.4.4)\n",
            "Requirement already satisfied: aiosignal>=1.1.2 in /usr/local/lib/python3.10/dist-packages (from aiohttp->datasets) (1.3.1)\n",
            "Requirement already satisfied: async-timeout<6.0,>=4.0 in /usr/local/lib/python3.10/dist-packages (from aiohttp->datasets) (4.0.3)\n",
            "Requirement already satisfied: attrs>=17.3.0 in /usr/local/lib/python3.10/dist-packages (from aiohttp->datasets) (24.2.0)\n",
            "Requirement already satisfied: frozenlist>=1.1.1 in /usr/local/lib/python3.10/dist-packages (from aiohttp->datasets) (1.5.0)\n",
            "Requirement already satisfied: multidict<7.0,>=4.5 in /usr/local/lib/python3.10/dist-packages (from aiohttp->datasets) (6.1.0)\n",
            "Requirement already satisfied: propcache>=0.2.0 in /usr/local/lib/python3.10/dist-packages (from aiohttp->datasets) (0.2.1)\n",
            "Requirement already satisfied: yarl<2.0,>=1.17.0 in /usr/local/lib/python3.10/dist-packages (from aiohttp->datasets) (1.18.3)\n",
            "Requirement already satisfied: typing-extensions>=3.7.4.3 in /usr/local/lib/python3.10/dist-packages (from huggingface-hub>=0.23.0->datasets) (4.12.2)\n",
            "Requirement already satisfied: charset-normalizer<4,>=2 in /usr/local/lib/python3.10/dist-packages (from requests>=2.32.2->datasets) (3.4.0)\n",
            "Requirement already satisfied: idna<4,>=2.5 in /usr/local/lib/python3.10/dist-packages (from requests>=2.32.2->datasets) (3.10)\n",
            "Requirement already satisfied: urllib3<3,>=1.21.1 in /usr/local/lib/python3.10/dist-packages (from requests>=2.32.2->datasets) (2.2.3)\n",
            "Requirement already satisfied: certifi>=2017.4.17 in /usr/local/lib/python3.10/dist-packages (from requests>=2.32.2->datasets) (2024.8.30)\n",
            "Requirement already satisfied: python-dateutil>=2.8.2 in /usr/local/lib/python3.10/dist-packages (from pandas->datasets) (2.8.2)\n",
            "Requirement already satisfied: pytz>=2020.1 in /usr/local/lib/python3.10/dist-packages (from pandas->datasets) (2024.2)\n",
            "Requirement already satisfied: tzdata>=2022.7 in /usr/local/lib/python3.10/dist-packages (from pandas->datasets) (2024.2)\n",
            "Requirement already satisfied: six>=1.5 in /usr/local/lib/python3.10/dist-packages (from python-dateutil>=2.8.2->pandas->datasets) (1.17.0)\n",
            "Downloading datasets-3.2.0-py3-none-any.whl (480 kB)\n",
            "\u001b[2K   \u001b[90m━━━━━━━━━━━━━━━━━━━━━━━━━━━━━━━━━━━━━━━━\u001b[0m \u001b[32m480.6/480.6 kB\u001b[0m \u001b[31m27.6 MB/s\u001b[0m eta \u001b[36m0:00:00\u001b[0m\n",
            "\u001b[?25hDownloading dill-0.3.8-py3-none-any.whl (116 kB)\n",
            "\u001b[2K   \u001b[90m━━━━━━━━━━━━━━━━━━━━━━━━━━━━━━━━━━━━━━━━\u001b[0m \u001b[32m116.3/116.3 kB\u001b[0m \u001b[31m10.5 MB/s\u001b[0m eta \u001b[36m0:00:00\u001b[0m\n",
            "\u001b[?25hDownloading fsspec-2024.9.0-py3-none-any.whl (179 kB)\n",
            "\u001b[2K   \u001b[90m━━━━━━━━━━━━━━━━━━━━━━━━━━━━━━━━━━━━━━━━\u001b[0m \u001b[32m179.3/179.3 kB\u001b[0m \u001b[31m16.5 MB/s\u001b[0m eta \u001b[36m0:00:00\u001b[0m\n",
            "\u001b[?25hDownloading multiprocess-0.70.16-py310-none-any.whl (134 kB)\n",
            "\u001b[2K   \u001b[90m━━━━━━━━━━━━━━━━━━━━━━━━━━━━━━━━━━━━━━━━\u001b[0m \u001b[32m134.8/134.8 kB\u001b[0m \u001b[31m11.1 MB/s\u001b[0m eta \u001b[36m0:00:00\u001b[0m\n",
            "\u001b[?25hDownloading xxhash-3.5.0-cp310-cp310-manylinux_2_17_x86_64.manylinux2014_x86_64.whl (194 kB)\n",
            "\u001b[2K   \u001b[90m━━━━━━━━━━━━━━━━━━━━━━━━━━━━━━━━━━━━━━━━\u001b[0m \u001b[32m194.1/194.1 kB\u001b[0m \u001b[31m14.9 MB/s\u001b[0m eta \u001b[36m0:00:00\u001b[0m\n",
            "\u001b[?25hInstalling collected packages: xxhash, fsspec, dill, multiprocess, datasets\n",
            "  Attempting uninstall: fsspec\n",
            "    Found existing installation: fsspec 2024.10.0\n",
            "    Uninstalling fsspec-2024.10.0:\n",
            "      Successfully uninstalled fsspec-2024.10.0\n",
            "\u001b[31mERROR: pip's dependency resolver does not currently take into account all the packages that are installed. This behaviour is the source of the following dependency conflicts.\n",
            "gcsfs 2024.10.0 requires fsspec==2024.10.0, but you have fsspec 2024.9.0 which is incompatible.\u001b[0m\u001b[31m\n",
            "\u001b[0mSuccessfully installed datasets-3.2.0 dill-0.3.8 fsspec-2024.9.0 multiprocess-0.70.16 xxhash-3.5.0\n"
          ]
        }
      ]
    },
    {
      "cell_type": "code",
      "source": [
        "import numpy as np\n",
        "from sklearn.model_selection import train_test_split\n",
        "import matplotlib.pyplot as plt\n",
        "from torch.utils.data import DataLoader, TensorDataset\n",
        "from datasets import load_dataset\n",
        "import gensim.downloader as api"
      ],
      "metadata": {
        "id": "PkxOui1mm6cU"
      },
      "execution_count": 22,
      "outputs": []
    },
    {
      "cell_type": "code",
      "source": [
        "# let's download pre-trained word embedding"
      ],
      "metadata": {
        "id": "AVi2LsCRGLX7"
      },
      "execution_count": 41,
      "outputs": []
    },
    {
      "cell_type": "markdown",
      "source": [
        "Word embeddings represent words as dense vectors in a high-dimensional space, capturing semantic and syntactic relationships. 1  They are trained on large text corpora using techniques like Word2Vec or GloVe by optimizing a loss function that encourages similar words to have nearby vectors. The values in each dimension don't have direct interpretations but collectively encode the word's meaning and context within the vector space"
      ],
      "metadata": {
        "id": "CuUrvg8hGZCo"
      }
    },
    {
      "cell_type": "code",
      "source": [
        "def load_word2vec_model():\n",
        "  wmodel = api.load(\"word2vec-google-news-300\")\n",
        "  print(\"done word2vec\")\n",
        "  return wmodel\n",
        "\n",
        "word2vec_model  = load_word2vec_model()"
      ],
      "metadata": {
        "colab": {
          "base_uri": "https://localhost:8080/",
          "height": 0
        },
        "id": "kOFSdCg7n-GD",
        "outputId": "96708fd6-1a08-4eb2-d033-71f058c913fb"
      },
      "execution_count": 23,
      "outputs": [
        {
          "output_type": "stream",
          "name": "stdout",
          "text": [
            "[==================================================] 100.0% 1662.8/1662.8MB downloaded\n",
            "done word2vec\n"
          ]
        }
      ]
    },
    {
      "cell_type": "markdown",
      "source": [
        "A tokenizer breaks down text into smaller units (tokens) like words, subwords, or characters, making it suitable for machine learning models"
      ],
      "metadata": {
        "id": "ymarIkd4GeAD"
      }
    },
    {
      "cell_type": "code",
      "source": [
        "import nltk\n",
        "import re\n",
        "from nltk.tokenize import word_tokenize\n",
        "nltk.download('punkt_tab')"
      ],
      "metadata": {
        "colab": {
          "base_uri": "https://localhost:8080/",
          "height": 0
        },
        "id": "CrZaM-H5ogXT",
        "outputId": "f8990c12-4905-40ae-cdcc-a143cf7bdbd4"
      },
      "execution_count": 24,
      "outputs": [
        {
          "output_type": "stream",
          "name": "stderr",
          "text": [
            "[nltk_data] Downloading package punkt_tab to /root/nltk_data...\n",
            "[nltk_data]   Unzipping tokenizers/punkt_tab.zip.\n"
          ]
        },
        {
          "output_type": "execute_result",
          "data": {
            "text/plain": [
              "True"
            ]
          },
          "metadata": {},
          "execution_count": 24
        }
      ]
    },
    {
      "cell_type": "markdown",
      "source": [
        "This function takes in a sentence and converts it into a single vector of 300 dimensions after cleaning"
      ],
      "metadata": {
        "id": "bwqLt-D0Glc0"
      }
    },
    {
      "cell_type": "code",
      "source": [
        "def text_to_embedding(text, model):\n",
        "  cleaned_text = re.sub(r'[^a-zA-Z\\s]', ' ', text.lower())\n",
        "  tokens = word_tokenize(cleaned_text)\n",
        "  embeddings = [model[word] for word in tokens if word in model]\n",
        "  return np.mean(embeddings, axis=0) if embeddings else np.zeroes(model.vector_size)"
      ],
      "metadata": {
        "id": "0uuwZqJ7o34m"
      },
      "execution_count": 25,
      "outputs": []
    },
    {
      "cell_type": "code",
      "source": [
        "text_to_embedding(\"i am good\", word2vec_model)"
      ],
      "metadata": {
        "colab": {
          "base_uri": "https://localhost:8080/",
          "height": 0
        },
        "id": "wlcACnMQGswD",
        "outputId": "b402fa08-b86b-4b7a-b69a-f267a631f64f"
      },
      "execution_count": 45,
      "outputs": [
        {
          "output_type": "execute_result",
          "data": {
            "text/plain": [
              "array([-0.11735026, -0.0078125 ,  0.0435791 ,  0.08544922,  0.00106176,\n",
              "        0.05177816, -0.02478027,  0.03033447,  0.06461588,  0.08056641,\n",
              "       -0.03566488, -0.11425781, -0.01570638, -0.07128906, -0.04793294,\n",
              "        0.08919271,  0.06486002,  0.18929036,  0.10400391, -0.05533854,\n",
              "       -0.14729817,  0.09505209,  0.13289388,  0.07340495,  0.03792318,\n",
              "        0.13069661, -0.22184245, -0.0394694 ,  0.09330241, -0.07061768,\n",
              "        0.08268229, -0.03306071, -0.02563477, -0.11328125,  0.0546875 ,\n",
              "        0.19335938, -0.08870443,  0.07271322, -0.09114584,  0.03857422,\n",
              "        0.17425537, -0.11458334,  0.22786458,  0.05210368,  0.08072916,\n",
              "        0.07324219,  0.03255208, -0.01220703, -0.03092448, -0.10205078,\n",
              "        0.08654785,  0.15218098,  0.03279622,  0.14860027,  0.01888021,\n",
              "        0.13216145, -0.0538737 , -0.04882812, -0.00032552, -0.13435872,\n",
              "       -0.00537109,  0.13063557, -0.2491862 , -0.04353841,  0.05940755,\n",
              "       -0.11132812, -0.03100586,  0.1336263 , -0.14292145,  0.02172852,\n",
              "        0.10734049,  0.06811523,  0.0666097 ,  0.0464681 , -0.20117188,\n",
              "       -0.05908203,  0.00577799, -0.09077962,  0.14225261,  0.15681966,\n",
              "       -0.0394694 , -0.01031494,  0.11730957,  0.00439453, -0.05377197,\n",
              "        0.02067057, -0.03995768,  0.16129558, -0.00042725,  0.0871582 ,\n",
              "       -0.01961263,  0.04313151,  0.09822591, -0.05600993, -0.06013997,\n",
              "        0.0390625 , -0.00815837,  0.02872721,  0.15468343, -0.01350911,\n",
              "       -0.07242838,  0.01015218, -0.03662109,  0.08398438,  0.02880859,\n",
              "        0.09620667,  0.01566569, -0.01383464,  0.04779053, -0.20703125,\n",
              "       -0.03662109, -0.08740234,  0.01859538, -0.02003988,  0.16113281,\n",
              "       -0.02815755,  0.00776164, -0.20052083,  0.09240723, -0.11173502,\n",
              "        0.12060547, -0.05700684, -0.06522623,  0.12695312, -0.06953939,\n",
              "       -0.05305989, -0.11376953,  0.04459636,  0.09981283,  0.04288737,\n",
              "       -0.3095703 , -0.16552734, -0.10660807, -0.01371257, -0.14351399,\n",
              "       -0.10660807,  0.02587891,  0.04488118,  0.15405273,  0.14304607,\n",
              "       -0.00642904,  0.11458334,  0.13753255, -0.08170573, -0.23649089,\n",
              "        0.02649943, -0.08968099, -0.14860027,  0.07863871, -0.08349609,\n",
              "        0.08129883,  0.02848307, -0.13557942,  0.18847656, -0.10782877,\n",
              "       -0.05237325,  0.05794271,  0.0061849 , -0.13500977,  0.03006999,\n",
              "        0.04353841,  0.03938802, -0.04817708,  0.05924479,  0.05967204,\n",
              "       -0.17350261,  0.07405599,  0.09960938,  0.05192057,  0.03173828,\n",
              "       -0.27604166, -0.05332438,  0.08929443, -0.03710938, -0.03973389,\n",
              "        0.09147135,  0.24934895, -0.09586588,  0.1050415 , -0.13273112,\n",
              "       -0.03955078, -0.04663086,  0.02079137, -0.02087402, -0.11035156,\n",
              "        0.05192057, -0.17285156,  0.11458334,  0.0480957 , -0.12027995,\n",
              "       -0.08988444,  0.12976074, -0.14697266, -0.08511988,  0.08194987,\n",
              "        0.07340495, -0.08064779, -0.04410807, -0.11391195, -0.1899414 ,\n",
              "       -0.12125651,  0.04475911, -0.04858398, -0.11604818, -0.11246745,\n",
              "       -0.09041341, -0.11979166,  0.07039642, -0.00732422,  0.17350261,\n",
              "       -0.01757812,  0.04443359, -0.13208008, -0.03405762, -0.16971843,\n",
              "        0.02832031,  0.20166016, -0.04694621, -0.13151042, -0.03662109,\n",
              "       -0.09814453, -0.01363118,  0.0094401 ,  0.01163737,  0.10180664,\n",
              "       -0.2241211 ,  0.02408854,  0.02840169, -0.05761719, -0.01285807,\n",
              "        0.09830729, -0.02994792, -0.06616211, -0.02360026,  0.11914062,\n",
              "        0.02006277, -0.04604085,  0.05631511,  0.0612793 ,  0.05973307,\n",
              "        0.20540364,  0.16259766,  0.06640625, -0.05167389, -0.1726888 ,\n",
              "       -0.04500325, -0.08060709,  0.01635742, -0.15656786, -0.12548828,\n",
              "        0.11303711,  0.11539713,  0.05257161,  0.13834636,  0.13330078,\n",
              "       -0.05423482,  0.11971029,  0.03983561, -0.07757568, -0.11132812,\n",
              "        0.03922526, -0.09977213,  0.03011068, -0.05159505, -0.02274577,\n",
              "        0.16821289, -0.04400635, -0.08752441, -0.04191081, -0.04654948,\n",
              "       -0.0135498 ,  0.00976562,  0.08837891,  0.06567383,  0.08996582,\n",
              "       -0.0526123 , -0.02815755, -0.22493489, -0.15022786,  0.08642578,\n",
              "        0.01765951,  0.05216471,  0.01090749,  0.04492188,  0.01017253,\n",
              "       -0.00309245,  0.01041667, -0.13000488, -0.10001627,  0.07617188,\n",
              "        0.0696818 ,  0.18001302, -0.13541667, -0.01106771, -0.02514648,\n",
              "       -0.02762858, -0.12308756, -0.06075032, -0.01953888,  0.00270589],\n",
              "      dtype=float32)"
            ]
          },
          "metadata": {},
          "execution_count": 45
        }
      ]
    },
    {
      "cell_type": "markdown",
      "source": [
        "#### dataset - IMBD movie review"
      ],
      "metadata": {
        "id": "CUjU2xzXGwCq"
      }
    },
    {
      "cell_type": "code",
      "source": [
        "dataset = load_dataset(\"imdb\", split='train')"
      ],
      "metadata": {
        "colab": {
          "base_uri": "https://localhost:8080/",
          "height": 348,
          "referenced_widgets": [
            "a76bd9c3227244e4897caca2cf245fdd",
            "863df3832d8d4092b70ce63393780a33",
            "d4f995d1478d45e89f0e5fa09e59cf37",
            "30c7c863735346b58f41ede03a53778d",
            "098b0f051cf247769c65b744dc9ce885",
            "f9c4eb487b78493e8dc9c0ad7fb58f0d",
            "36715424b6134944a5dc91220ca9ccb9",
            "f2f89f0f381a44d9916ea63f02b41415",
            "994ff0f1942748c1bb7feba445fe8b6d",
            "cdac47bea7954cb6a198144670794b0a",
            "91d245bf4913415aa6f5d8fdba6ea9fc",
            "b37a7abeac6d4f4cb9518cb13f06f8c0",
            "8cc21e23bb914240bcb16c3bd27b5d40",
            "73beb22b0866402f8c7866ba72598b2e",
            "078711d3f18f4aafa0faebf95d2572ad",
            "cb39e7d77f9d490cb1cbf0e58f083be4",
            "7cd18bb1cfe8498c9fec5e0b905d9bba",
            "1e5896f5d2e4440b8665acf3a6fedaec",
            "1e983af956d8494bab85f31f7672ecfa",
            "105d2dd0ce0b46f3aa3fc72b78198c74",
            "7e0ad2cc7ee04a9da1ae987efa8de5cb",
            "6997da58373a40c5a4a2a76f51296278",
            "44c66e60e5c24adbb27aa0ddd60fd82d",
            "19e2842f55a74da182b43d1f303cd4e2",
            "6e0760d5391f4f82a0c02630aa9e5c1c",
            "476cab3f635241bc9b289eb179c58294",
            "ea1a7a5211cf4bc0979b7c207b4d7cad",
            "d4b7b00477514830b144cefa700af7d8",
            "46cad5fbfd584658aa1e3062388561b0",
            "2c7a5311b69743a596fd5c0773085a67",
            "9b30fad60693486b84020fc17a74c292",
            "86b52d2210394afc880feb5b2ba03961",
            "1fd55a270ca949369c3a8ae315ad79cc",
            "c07e4afa57b64d75a59a354147852bd6",
            "6e9257d042cc47bf81588488d25b9da6",
            "7d8437d2cff940e288cea87d0b76a762",
            "26c77ed1b98a4e218fabe9d794a8558b",
            "bdb5594db7564dd491968ee460cce062",
            "561fb168ecf74da7846d517df62ace8d",
            "0c450a1621be441da57b854eec3f7820",
            "a8c9274f6adb4dee944ef8582837fe82",
            "46c4d354612647fe9176ea6c676a15e5",
            "5cc94f7000214d0e87ebcb19ea79b85f",
            "a12b0aebdc1b4028a3ebadfce10d4eff",
            "5cca6366d2934de88ff30b79efb99b41",
            "a07f4755f6d14653899b521f5df869c1",
            "dde9bf290e6a420baeb73183f73a1ae1",
            "9ae2a639089b409da6174c19d28869a7",
            "b00803b6723b4bf08d6a14b4d0a2f27c",
            "ce3a3c463bfa410f8b9ace833bc234be",
            "03e82318f9f14337b0e54119288f8043",
            "c2353f2d8f80470fbb0a7fc61f95a4f7",
            "201f37dc83eb41bb91268cbc6ff545df",
            "0a419cdea47444fe9ddeb67aa23acc14",
            "a265fd3b4fcc4b1ea75f1230749e6890",
            "f914819911244389ae4cb353293cea40",
            "4cef8b9ab363438ab7c82c255fea774c",
            "439edc6e618e49ca85f71d70fafd1a7a",
            "4d40775ceb984b3fa5fbe3686bfe4d2a",
            "ebd6bd14bcc1400a83ec6ce616cd4924",
            "5d55867b25ee41e48d1ee4b4b65bdb23",
            "9f4920315f124490bd002fbbab092389",
            "a6e1b8a696ab4ba5987caf21d9b0e138",
            "00c1cf4b99ad407fbaa80faaa6c94298",
            "9b4310503f654c0185ed85d1f273608a",
            "c3dc6a444a3f41b4866c764de7680b22",
            "e19b8e64d0bf4effb8ec3e62cd41924f",
            "d19b0d5167e74eae92efb075f4d348c8",
            "f2f5e8d397e44237bb783a11ade3f9fd",
            "ee71e68a856f444992a9acbf8b981f88",
            "eea747f3d1db4017952a36bf86932976",
            "8136672966334841af868d9ea8deaf69",
            "6936cb0f89e6456cad8e8ba2fa211b1e",
            "512204b2c4c24216862a55c333f6132b",
            "51fb48d2c8bc4026a5ffae989ab560ae",
            "41853cb60d9d4db886c8344cf4b519d0",
            "32f8ec0b75ff4d11b829e95731a57329"
          ]
        },
        "id": "pdNGOb09rLCu",
        "outputId": "1535dfee-e403-4881-acc3-f255dc694cd9"
      },
      "execution_count": 26,
      "outputs": [
        {
          "output_type": "stream",
          "name": "stderr",
          "text": [
            "/usr/local/lib/python3.10/dist-packages/huggingface_hub/utils/_auth.py:104: UserWarning: \n",
            "Error while fetching `HF_TOKEN` secret value from your vault: 'Requesting secret HF_TOKEN timed out. Secrets can only be fetched when running from the Colab UI.'.\n",
            "You are not authenticated with the Hugging Face Hub in this notebook.\n",
            "If the error persists, please let us know by opening an issue on GitHub (https://github.com/huggingface/huggingface_hub/issues/new).\n",
            "  warnings.warn(\n"
          ]
        },
        {
          "output_type": "display_data",
          "data": {
            "text/plain": [
              "README.md:   0%|          | 0.00/7.81k [00:00<?, ?B/s]"
            ],
            "application/vnd.jupyter.widget-view+json": {
              "version_major": 2,
              "version_minor": 0,
              "model_id": "a76bd9c3227244e4897caca2cf245fdd"
            }
          },
          "metadata": {}
        },
        {
          "output_type": "display_data",
          "data": {
            "text/plain": [
              "train-00000-of-00001.parquet:   0%|          | 0.00/21.0M [00:00<?, ?B/s]"
            ],
            "application/vnd.jupyter.widget-view+json": {
              "version_major": 2,
              "version_minor": 0,
              "model_id": "b37a7abeac6d4f4cb9518cb13f06f8c0"
            }
          },
          "metadata": {}
        },
        {
          "output_type": "display_data",
          "data": {
            "text/plain": [
              "test-00000-of-00001.parquet:   0%|          | 0.00/20.5M [00:00<?, ?B/s]"
            ],
            "application/vnd.jupyter.widget-view+json": {
              "version_major": 2,
              "version_minor": 0,
              "model_id": "44c66e60e5c24adbb27aa0ddd60fd82d"
            }
          },
          "metadata": {}
        },
        {
          "output_type": "display_data",
          "data": {
            "text/plain": [
              "unsupervised-00000-of-00001.parquet:   0%|          | 0.00/42.0M [00:00<?, ?B/s]"
            ],
            "application/vnd.jupyter.widget-view+json": {
              "version_major": 2,
              "version_minor": 0,
              "model_id": "c07e4afa57b64d75a59a354147852bd6"
            }
          },
          "metadata": {}
        },
        {
          "output_type": "display_data",
          "data": {
            "text/plain": [
              "Generating train split:   0%|          | 0/25000 [00:00<?, ? examples/s]"
            ],
            "application/vnd.jupyter.widget-view+json": {
              "version_major": 2,
              "version_minor": 0,
              "model_id": "5cca6366d2934de88ff30b79efb99b41"
            }
          },
          "metadata": {}
        },
        {
          "output_type": "display_data",
          "data": {
            "text/plain": [
              "Generating test split:   0%|          | 0/25000 [00:00<?, ? examples/s]"
            ],
            "application/vnd.jupyter.widget-view+json": {
              "version_major": 2,
              "version_minor": 0,
              "model_id": "f914819911244389ae4cb353293cea40"
            }
          },
          "metadata": {}
        },
        {
          "output_type": "display_data",
          "data": {
            "text/plain": [
              "Generating unsupervised split:   0%|          | 0/50000 [00:00<?, ? examples/s]"
            ],
            "application/vnd.jupyter.widget-view+json": {
              "version_major": 2,
              "version_minor": 0,
              "model_id": "e19b8e64d0bf4effb8ec3e62cd41924f"
            }
          },
          "metadata": {}
        }
      ]
    },
    {
      "cell_type": "markdown",
      "source": [
        "Preparing the data"
      ],
      "metadata": {
        "id": "6rhp4hdeHHwH"
      }
    },
    {
      "cell_type": "code",
      "source": [
        "X = np.array([text_to_embedding(text, word2vec_model) for text in dataset['text']])\n",
        "y = np.array(dataset['label'])"
      ],
      "metadata": {
        "id": "NjbkWLvAqtOT"
      },
      "execution_count": 27,
      "outputs": []
    },
    {
      "cell_type": "code",
      "source": [
        "# Fix issue with converting labels to integers\n",
        "y = y.astype(int)\n",
        "\n",
        "\n",
        "# Split into training and validation sets\n",
        "X_train, X_val, y_train, y_val = train_test_split(X, y, test_size=0.2, random_state=42)\n",
        "\n",
        "# 1. Check if GPU is available and set device\n",
        "device = torch.device(\"cuda\" if torch.cuda.is_available() else \"cpu\")\n",
        "print(f\"Using device: {device}\")\n",
        "\n",
        "# Convert to PyTorch tensors\n",
        "X_train_tensor = torch.tensor(X_train, dtype=torch.float32).to(device)\n",
        "X_val_tensor = torch.tensor(X_val, dtype=torch.float32).to(device)\n",
        "y_train_tensor = torch.tensor(y_train, dtype=torch.long).to(device)\n",
        "y_val_tensor = torch.tensor(y_val, dtype=torch.long).to(device)\n",
        "\n",
        "\n",
        "# Create DataLoader for batching\n",
        "train_data = TensorDataset(X_train_tensor, y_train_tensor)\n",
        "val_data = TensorDataset(X_val_tensor, y_val_tensor)"
      ],
      "metadata": {
        "colab": {
          "base_uri": "https://localhost:8080/",
          "height": 0
        },
        "id": "Ub4KXYRirxlO",
        "outputId": "7bc91461-6be2-46cc-de68-8ebce4a44dd2"
      },
      "execution_count": 28,
      "outputs": [
        {
          "output_type": "stream",
          "name": "stdout",
          "text": [
            "Using device: cuda\n"
          ]
        }
      ]
    },
    {
      "cell_type": "code",
      "source": [
        "train_loader = DataLoader(train_data, batch_size=64, shuffle=True)\n",
        "val_loader = DataLoader(val_data, batch_size=64, shuffle=False)"
      ],
      "metadata": {
        "id": "XzW1ZOd9sAl5"
      },
      "execution_count": 46,
      "outputs": []
    },
    {
      "cell_type": "markdown",
      "source": [
        "Preparing the model"
      ],
      "metadata": {
        "id": "zDT7ZyruHMuK"
      }
    },
    {
      "cell_type": "code",
      "source": [
        "# 4. Define MLP Model\n",
        "class MLPModel(nn.Module):\n",
        "    def __init__(self, input_dim, hidden_dim=128):\n",
        "        super(MLPModel, self).__init__()\n",
        "        self.fc1 = nn.Linear(input_dim, hidden_dim)\n",
        "        self.fc2 = nn.Linear(hidden_dim, 2)  # Binary classification (positive/negative)\n",
        "        self.relu = nn.ReLU()\n",
        "        self.softmax = nn.Softmax(dim=1)\n",
        "\n",
        "\n",
        "    def forward(self, x):\n",
        "        x = self.relu(self.fc1(x))\n",
        "        x = self.fc2(x)\n",
        "        return self.softmax(x)"
      ],
      "metadata": {
        "id": "D0s4Frd3HEmG"
      },
      "execution_count": 47,
      "outputs": []
    },
    {
      "cell_type": "code",
      "source": [
        "# Instantiate model and move it to the GPU\n",
        "model = MLPModel(input_dim=X_train.shape[1]).to(device)\n",
        "print(model)  # This will print out the architecture of the neural network\n",
        "from torchsummary import summary\n",
        "summary(model, (X_train.shape[1],))  # Show model architecture summary"
      ],
      "metadata": {
        "colab": {
          "base_uri": "https://localhost:8080/",
          "height": 0
        },
        "id": "m2yv25pauSQi",
        "outputId": "c4024b33-6bad-46f0-cc22-25cffc9de490"
      },
      "execution_count": 30,
      "outputs": [
        {
          "output_type": "stream",
          "name": "stdout",
          "text": [
            "MLPModel(\n",
            "  (fc1): Linear(in_features=300, out_features=128, bias=True)\n",
            "  (fc2): Linear(in_features=128, out_features=2, bias=True)\n",
            "  (relu): ReLU()\n",
            "  (softmax): Softmax(dim=1)\n",
            ")\n",
            "----------------------------------------------------------------\n",
            "        Layer (type)               Output Shape         Param #\n",
            "================================================================\n",
            "            Linear-1                  [-1, 128]          38,528\n",
            "              ReLU-2                  [-1, 128]               0\n",
            "            Linear-3                    [-1, 2]             258\n",
            "           Softmax-4                    [-1, 2]               0\n",
            "================================================================\n",
            "Total params: 38,786\n",
            "Trainable params: 38,786\n",
            "Non-trainable params: 0\n",
            "----------------------------------------------------------------\n",
            "Input size (MB): 0.00\n",
            "Forward/backward pass size (MB): 0.00\n",
            "Params size (MB): 0.15\n",
            "Estimated Total Size (MB): 0.15\n",
            "----------------------------------------------------------------\n"
          ]
        }
      ]
    },
    {
      "cell_type": "markdown",
      "source": [
        "![image.png](data:image/png;base64,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)"
      ],
      "metadata": {
        "id": "YjSVDt7HHboV"
      }
    },
    {
      "cell_type": "code",
      "source": [
        "# 6. Train the model and plot the loss\n",
        "criterion = nn.CrossEntropyLoss()\n",
        "optimizer = optim.Adam(model.parameters(), lr=0.001)\n",
        "\n",
        "train_losses = []\n",
        "val_losses = []\n",
        "for epoch in range(10):  # Number of epochs\n",
        "    model.train()\n",
        "    running_loss = 0.0\n",
        "    for inputs, labels in train_loader:\n",
        "        inputs, labels = inputs.to(device), labels.to(device)  # Move data to GPU\n",
        "        optimizer.zero_grad()\n",
        "        outputs = model(inputs)\n",
        "        loss = criterion(outputs, labels)\n",
        "        loss.backward()\n",
        "        optimizer.step()\n",
        "        running_loss += loss.item()\n",
        "\n",
        "    train_losses.append(running_loss / len(train_loader))\n",
        "\n",
        "\n",
        "    # Validation loss\n",
        "    model.eval()\n",
        "    val_loss = 0.0\n",
        "    with torch.no_grad():\n",
        "        for inputs, labels in val_loader:\n",
        "            inputs, labels = inputs.to(device), labels.to(device)  # Move data to GPU\n",
        "            outputs = model(inputs)\n",
        "            loss = criterion(outputs, labels)\n",
        "            val_loss += loss.item()\n",
        "\n",
        "    val_losses.append(val_loss / len(val_loader))\n",
        "\n",
        "\n",
        "    print(f\"Epoch [{epoch+1}/10], Training Loss: {train_losses[-1]:.4f}, Validation Loss: {val_losses[-1]:.4f}\")"
      ],
      "metadata": {
        "colab": {
          "base_uri": "https://localhost:8080/",
          "height": 0
        },
        "id": "k6qJe6-lusFO",
        "outputId": "0688986a-bd2d-44a6-bbc2-b201e8be3a09"
      },
      "execution_count": 33,
      "outputs": [
        {
          "output_type": "stream",
          "name": "stdout",
          "text": [
            "Epoch [1/10], Training Loss: 0.5862, Validation Loss: 0.5079\n",
            "Epoch [2/10], Training Loss: 0.4906, Validation Loss: 0.4826\n",
            "Epoch [3/10], Training Loss: 0.4746, Validation Loss: 0.4726\n",
            "Epoch [4/10], Training Loss: 0.4665, Validation Loss: 0.4674\n",
            "Epoch [5/10], Training Loss: 0.4617, Validation Loss: 0.4637\n",
            "Epoch [6/10], Training Loss: 0.4595, Validation Loss: 0.4644\n",
            "Epoch [7/10], Training Loss: 0.4568, Validation Loss: 0.4625\n",
            "Epoch [8/10], Training Loss: 0.4544, Validation Loss: 0.4622\n",
            "Epoch [9/10], Training Loss: 0.4530, Validation Loss: 0.4592\n",
            "Epoch [10/10], Training Loss: 0.4524, Validation Loss: 0.4642\n"
          ]
        }
      ]
    },
    {
      "cell_type": "code",
      "source": [
        "# 7. Plot the training and validation loss\n",
        "plt.plot(train_losses, label='Training Loss')\n",
        "plt.plot(val_losses, label='Validation Loss')\n",
        "plt.xlabel('Epoch')\n",
        "plt.ylabel('Loss')\n",
        "plt.legend()\n",
        "plt.title('Training and Validation Loss')\n",
        "plt.show()"
      ],
      "metadata": {
        "colab": {
          "base_uri": "https://localhost:8080/",
          "height": 472
        },
        "id": "bCI-L580EkTH",
        "outputId": "6cc95701-bedb-454c-be76-0a10ee760d0e"
      },
      "execution_count": 35,
      "outputs": [
        {
          "output_type": "display_data",
          "data": {
            "text/plain": [
              "<Figure size 640x480 with 1 Axes>"
            ],
            "image/png": "[encoded data removed]"
          },
          "metadata": {}
        }
      ]
    },
    {
      "cell_type": "code",
      "source": [
        "\n",
        "# 8. Save and load the model\n",
        "torch.save(model.state_dict(), 'sentiment_model.pth')  # Save model\n",
        "print(\"Model saved!\")\n",
        "\n",
        "\n",
        "# Load the model\n",
        "loaded_model = MLPModel(input_dim=X_train.shape[1]).to(device)\n",
        "loaded_model.load_state_dict(torch.load('sentiment_model.pth'))\n",
        "loaded_model.eval()"
      ],
      "metadata": {
        "colab": {
          "base_uri": "https://localhost:8080/",
          "height": 0
        },
        "id": "H0nFPxUqFIa_",
        "outputId": "18d308a7-4764-42e6-8386-8abd6981228e"
      },
      "execution_count": 36,
      "outputs": [
        {
          "output_type": "stream",
          "name": "stdout",
          "text": [
            "Model saved!\n"
          ]
        },
        {
          "output_type": "stream",
          "name": "stderr",
          "text": [
            "<ipython-input-36-94ceb0b944ed>:8: FutureWarning: You are using `torch.load` with `weights_only=False` (the current default value), which uses the default pickle module implicitly. It is possible to construct malicious pickle data which will execute arbitrary code during unpickling (See https://github.com/pytorch/pytorch/blob/main/SECURITY.md#untrusted-models for more details). In a future release, the default value for `weights_only` will be flipped to `True`. This limits the functions that could be executed during unpickling. Arbitrary objects will no longer be allowed to be loaded via this mode unless they are explicitly allowlisted by the user via `torch.serialization.add_safe_globals`. We recommend you start setting `weights_only=True` for any use case where you don't have full control of the loaded file. Please open an issue on GitHub for any issues related to this experimental feature.\n",
            "  loaded_model.load_state_dict(torch.load('sentiment_model.pth'))\n"
          ]
        },
        {
          "output_type": "execute_result",
          "data": {
            "text/plain": [
              "MLPModel(\n",
              "  (fc1): Linear(in_features=300, out_features=128, bias=True)\n",
              "  (fc2): Linear(in_features=128, out_features=2, bias=True)\n",
              "  (relu): ReLU()\n",
              "  (softmax): Softmax(dim=1)\n",
              ")"
            ]
          },
          "metadata": {},
          "execution_count": 36
        }
      ]
    },
    {
      "cell_type": "markdown",
      "source": [
        "check here\n",
        "![image.png](data:image/png;base64,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)"
      ],
      "metadata": {
        "id": "C05RZ4jSHlCt"
      }
    },
    {
      "cell_type": "markdown",
      "source": [
        "Testing the model with example inputs"
      ],
      "metadata": {
        "id": "_H-SvgHgHrxG"
      }
    },
    {
      "cell_type": "markdown",
      "source": [
        "**try changing examples here, by typing own examples,\n",
        "and see if you can fool model to predict a bad review to be positive and good review to be negative**"
      ],
      "metadata": {
        "id": "FEij8iDVFTAe"
      }
    },
    {
      "cell_type": "code",
      "source": [
        "# 9. Test on sample inputs\n",
        "sample_reviews = [\n",
        "    \"They looked quite wonderful, it was thrilling\",\n",
        "    \"It was a waste of time. Totally boring and predictable.\"\n",
        "]\n",
        "\n",
        "\n",
        "# Convert the sample reviews to embeddings\n",
        "sample_reviews_embeddings = np.array([text_to_embedding(review, word2vec_model) for review in sample_reviews])\n",
        "sample_reviews_tensor = torch.tensor(sample_reviews_embeddings, dtype=torch.float32).to(device)\n",
        "\n",
        "\n",
        "with torch.no_grad():\n",
        "    outputs = loaded_model(sample_reviews_tensor)\n",
        "    predicted_labels = torch.argmax(outputs, dim=1)\n",
        "    for review, label in zip(sample_reviews, predicted_labels):\n",
        "        sentiment = \"Positive\" if label == 1 else \"Negative\"\n",
        "        print(f\"Review: {review}\\nSentiment: {sentiment}\\n\")"
      ],
      "metadata": {
        "colab": {
          "base_uri": "https://localhost:8080/",
          "height": 0
        },
        "id": "Th8mRGuCFNit",
        "outputId": "d68237c0-ebc8-4f38-e705-cd3c83c97e62"
      },
      "execution_count": 37,
      "outputs": [
        {
          "output_type": "stream",
          "name": "stdout",
          "text": [
            "Review: They looked quite wonderful, it was thrilling\n",
            "Sentiment: Positive\n",
            "\n",
            "Review: It was a waste of time. Totally boring and predictable.\n",
            "Sentiment: Negative\n",
            "\n"
          ]
        }
      ]
    },
    {
      "cell_type": "code",
      "source": [
        "# 10. Evaluate the model on the test dataset\n",
        "# Assuming you have a test dataset\n",
        "# If not, you can split the data as test dataset or use part of the validation dataset\n",
        "\n",
        "from sklearn.metrics import accuracy_score, precision_score, recall_score, f1_score, classification_report\n",
        "\n",
        "# Example: Using the validation set as a \"test\" dataset (just for demonstration)\n",
        "test_loader = DataLoader(val_data, batch_size=64, shuffle=False)\n",
        "\n",
        "\n",
        "# Predictions and True Labels\n",
        "predictions = []\n",
        "true_labels = []\n",
        "\n",
        "\n",
        "model.eval()  # Set the model to evaluation mode\n",
        "with torch.no_grad():\n",
        "    for inputs, labels in test_loader:\n",
        "        inputs, labels = inputs.to(device), labels.to(device)\n",
        "        outputs = model(inputs)\n",
        "        _, predicted = torch.max(outputs, 1)  # Get the class with the highest score\n",
        "        predictions.extend(predicted.cpu().numpy())  # Move to CPU for evaluation\n",
        "        true_labels.extend(labels.cpu().numpy())  # Move to CPU for evaluation\n",
        "\n",
        "# Compute Evaluation Metrics\n",
        "accuracy = accuracy_score(true_labels, predictions)\n",
        "precision = precision_score(true_labels, predictions, average='binary')\n",
        "recall = recall_score(true_labels, predictions, average='binary')\n",
        "f1 = f1_score(true_labels, predictions, average='binary')\n",
        "\n",
        "\n",
        "# Print the results\n",
        "print(f\"Accuracy: {accuracy:.4f}\")\n",
        "print(f\"Precision: {precision:.4f}\")\n",
        "print(f\"Recall: {recall:.4f}\")\n",
        "print(f\"F1-Score: {f1:.4f}\")\n",
        "print(\"\\nClassification Report:\")\n",
        "print(classification_report(true_labels, predictions))"
      ],
      "metadata": {
        "colab": {
          "base_uri": "https://localhost:8080/",
          "height": 0
        },
        "id": "YyhpFaQlFRTj",
        "outputId": "56ebd248-5c84-4da2-8bd0-9369267bf6ea"
      },
      "execution_count": 40,
      "outputs": [
        {
          "output_type": "stream",
          "name": "stdout",
          "text": [
            "Accuracy: 0.8422\n",
            "Precision: 0.8922\n",
            "Recall: 0.7763\n",
            "F1-Score: 0.8302\n",
            "\n",
            "Classification Report:\n",
            "              precision    recall  f1-score   support\n",
            "\n",
            "           0       0.80      0.91      0.85      2515\n",
            "           1       0.89      0.78      0.83      2485\n",
            "\n",
            "    accuracy                           0.84      5000\n",
            "   macro avg       0.85      0.84      0.84      5000\n",
            "weighted avg       0.85      0.84      0.84      5000\n",
            "\n"
          ]
        }
      ]
    },
    {
      "cell_type": "markdown",
      "source": [
        "Accuracy: Overall correctness of predictions.\n",
        "Precision: How often correct positive predictions are made.\n",
        "Recall: How often actual positive cases are correctly identified.\n",
        "\n",
        "Confusion matrix and F1-score:\n",
        "\n",
        "Confusion matrix: Provides a detailed breakdown of correct and incorrect predictions, helping identify specific error patterns.\n",
        "\n",
        "F1-score: Balances precision and recall, giving a more comprehensive evaluation, especially in imbalanced datasets."
      ],
      "metadata": {
        "id": "WdLCYaTVHxHP"
      }
    },
    {
      "cell_type": "markdown",
      "source": [
        "### Congratulations! you have trained a very simple model to perform sentiment analysis"
      ],
      "metadata": {
        "id": "MVZebWsuICwX"
      }
    }
  ]
}
