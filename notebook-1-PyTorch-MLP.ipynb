{
  "nbformat": 4,
  "nbformat_minor": 0,
  "metadata": {
    "colab": {
      "provenance": [],
      "gpuType": "T4",
      "include_colab_link": true
    },
    "kernelspec": {
      "name": "python3",
      "display_name": "Python 3"
    },
    "language_info": {
      "name": "python"
    },
    "accelerator": "GPU",
    "widgets": {
      "application/vnd.jupyter.widget-state+json": {
        "a76bd9c3227244e4897caca2cf245fdd": {
          "model_module": "@jupyter-widgets/controls",
          "model_name": "HBoxModel",
          "model_module_version": "1.5.0",
          "state": {
            "_dom_classes": [],
            "_model_module": "@jupyter-widgets/controls",
            "_model_module_version": "1.5.0",
            "_model_name": "HBoxModel",
            "_view_count": null,
            "_view_module": "@jupyter-widgets/controls",
            "_view_module_version": "1.5.0",
            "_view_name": "HBoxView",
            "box_style": "",
            "children": [
              "IPY_MODEL_863df3832d8d4092b70ce63393780a33",
              "IPY_MODEL_d4f995d1478d45e89f0e5fa09e59cf37",
              "IPY_MODEL_30c7c863735346b58f41ede03a53778d"
            ],
            "layout": "IPY_MODEL_098b0f051cf247769c65b744dc9ce885"
          }
        },
        "863df3832d8d4092b70ce63393780a33": {
          "model_module": "@jupyter-widgets/controls",
          "model_name": "HTMLModel",
          "model_module_version": "1.5.0",
          "state": {
            "_dom_classes": [],
            "_model_module": "@jupyter-widgets/controls",
            "_model_module_version": "1.5.0",
            "_model_name": "HTMLModel",
            "_view_count": null,
            "_view_module": "@jupyter-widgets/controls",
            "_view_module_version": "1.5.0",
            "_view_name": "HTMLView",
            "description": "",
            "description_tooltip": null,
            "layout": "IPY_MODEL_f9c4eb487b78493e8dc9c0ad7fb58f0d",
            "placeholder": "​",
            "style": "IPY_MODEL_36715424b6134944a5dc91220ca9ccb9",
            "value": "README.md: 100%"
          }
        },
        "d4f995d1478d45e89f0e5fa09e59cf37": {
          "model_module": "@jupyter-widgets/controls",
          "model_name": "FloatProgressModel",
          "model_module_version": "1.5.0",
          "state": {
            "_dom_classes": [],
            "_model_module": "@jupyter-widgets/controls",
            "_model_module_version": "1.5.0",
            "_model_name": "FloatProgressModel",
            "_view_count": null,
            "_view_module": "@jupyter-widgets/controls",
            "_view_module_version": "1.5.0",
            "_view_name": "ProgressView",
            "bar_style": "success",
            "description": "",
            "description_tooltip": null,
            "layout": "IPY_MODEL_f2f89f0f381a44d9916ea63f02b41415",
            "max": 7809,
            "min": 0,
            "orientation": "horizontal",
            "style": "IPY_MODEL_994ff0f1942748c1bb7feba445fe8b6d",
            "value": 7809
          }
        },
        "30c7c863735346b58f41ede03a53778d": {
          "model_module": "@jupyter-widgets/controls",
          "model_name": "HTMLModel",
          "model_module_version": "1.5.0",
          "state": {
            "_dom_classes": [],
            "_model_module": "@jupyter-widgets/controls",
            "_model_module_version": "1.5.0",
            "_model_name": "HTMLModel",
            "_view_count": null,
            "_view_module": "@jupyter-widgets/controls",
            "_view_module_version": "1.5.0",
            "_view_name": "HTMLView",
            "description": "",
            "description_tooltip": null,
            "layout": "IPY_MODEL_cdac47bea7954cb6a198144670794b0a",
            "placeholder": "​",
            "style": "IPY_MODEL_91d245bf4913415aa6f5d8fdba6ea9fc",
            "value": " 7.81k/7.81k [00:00&lt;00:00, 326kB/s]"
          }
        },
        "098b0f051cf247769c65b744dc9ce885": {
          "model_module": "@jupyter-widgets/base",
          "model_name": "LayoutModel",
          "model_module_version": "1.2.0",
          "state": {
            "_model_module": "@jupyter-widgets/base",
            "_model_module_version": "1.2.0",
            "_model_name": "LayoutModel",
            "_view_count": null,
            "_view_module": "@jupyter-widgets/base",
            "_view_module_version": "1.2.0",
            "_view_name": "LayoutView",
            "align_content": null,
            "align_items": null,
            "align_self": null,
            "border": null,
            "bottom": null,
            "display": null,
            "flex": null,
            "flex_flow": null,
            "grid_area": null,
            "grid_auto_columns": null,
            "grid_auto_flow": null,
            "grid_auto_rows": null,
            "grid_column": null,
            "grid_gap": null,
            "grid_row": null,
            "grid_template_areas": null,
            "grid_template_columns": null,
            "grid_template_rows": null,
            "height": null,
            "justify_content": null,
            "justify_items": null,
            "left": null,
            "margin": null,
            "max_height": null,
            "max_width": null,
            "min_height": null,
            "min_width": null,
            "object_fit": null,
            "object_position": null,
            "order": null,
            "overflow": null,
            "overflow_x": null,
            "overflow_y": null,
            "padding": null,
            "right": null,
            "top": null,
            "visibility": null,
            "width": null
          }
        },
        "f9c4eb487b78493e8dc9c0ad7fb58f0d": {
          "model_module": "@jupyter-widgets/base",
          "model_name": "LayoutModel",
          "model_module_version": "1.2.0",
          "state": {
            "_model_module": "@jupyter-widgets/base",
            "_model_module_version": "1.2.0",
            "_model_name": "LayoutModel",
            "_view_count": null,
            "_view_module": "@jupyter-widgets/base",
            "_view_module_version": "1.2.0",
            "_view_name": "LayoutView",
            "align_content": null,
            "align_items": null,
            "align_self": null,
            "border": null,
            "bottom": null,
            "display": null,
            "flex": null,
            "flex_flow": null,
            "grid_area": null,
            "grid_auto_columns": null,
            "grid_auto_flow": null,
            "grid_auto_rows": null,
            "grid_column": null,
            "grid_gap": null,
            "grid_row": null,
            "grid_template_areas": null,
            "grid_template_columns": null,
            "grid_template_rows": null,
            "height": null,
            "justify_content": null,
            "justify_items": null,
            "left": null,
            "margin": null,
            "max_height": null,
            "max_width": null,
            "min_height": null,
            "min_width": null,
            "object_fit": null,
            "object_position": null,
            "order": null,
            "overflow": null,
            "overflow_x": null,
            "overflow_y": null,
            "padding": null,
            "right": null,
            "top": null,
            "visibility": null,
            "width": null
          }
        },
        "36715424b6134944a5dc91220ca9ccb9": {
          "model_module": "@jupyter-widgets/controls",
          "model_name": "DescriptionStyleModel",
          "model_module_version": "1.5.0",
          "state": {
            "_model_module": "@jupyter-widgets/controls",
            "_model_module_version": "1.5.0",
            "_model_name": "DescriptionStyleModel",
            "_view_count": null,
            "_view_module": "@jupyter-widgets/base",
            "_view_module_version": "1.2.0",
            "_view_name": "StyleView",
            "description_width": ""
          }
        },
        "f2f89f0f381a44d9916ea63f02b41415": {
          "model_module": "@jupyter-widgets/base",
          "model_name": "LayoutModel",
          "model_module_version": "1.2.0",
          "state": {
            "_model_module": "@jupyter-widgets/base",
            "_model_module_version": "1.2.0",
            "_model_name": "LayoutModel",
            "_view_count": null,
            "_view_module": "@jupyter-widgets/base",
            "_view_module_version": "1.2.0",
            "_view_name": "LayoutView",
            "align_content": null,
            "align_items": null,
            "align_self": null,
            "border": null,
            "bottom": null,
            "display": null,
            "flex": null,
            "flex_flow": null,
            "grid_area": null,
            "grid_auto_columns": null,
            "grid_auto_flow": null,
            "grid_auto_rows": null,
            "grid_column": null,
            "grid_gap": null,
            "grid_row": null,
            "grid_template_areas": null,
            "grid_template_columns": null,
            "grid_template_rows": null,
            "height": null,
            "justify_content": null,
            "justify_items": null,
            "left": null,
            "margin": null,
            "max_height": null,
            "max_width": null,
            "min_height": null,
            "min_width": null,
            "object_fit": null,
            "object_position": null,
            "order": null,
            "overflow": null,
            "overflow_x": null,
            "overflow_y": null,
            "padding": null,
            "right": null,
            "top": null,
            "visibility": null,
            "width": null
          }
        },
        "994ff0f1942748c1bb7feba445fe8b6d": {
          "model_module": "@jupyter-widgets/controls",
          "model_name": "ProgressStyleModel",
          "model_module_version": "1.5.0",
          "state": {
            "_model_module": "@jupyter-widgets/controls",
            "_model_module_version": "1.5.0",
            "_model_name": "ProgressStyleModel",
            "_view_count": null,
            "_view_module": "@jupyter-widgets/base",
            "_view_module_version": "1.2.0",
            "_view_name": "StyleView",
            "bar_color": null,
            "description_width": ""
          }
        },
        "cdac47bea7954cb6a198144670794b0a": {
          "model_module": "@jupyter-widgets/base",
          "model_name": "LayoutModel",
          "model_module_version": "1.2.0",
          "state": {
            "_model_module": "@jupyter-widgets/base",
            "_model_module_version": "1.2.0",
            "_model_name": "LayoutModel",
            "_view_count": null,
            "_view_module": "@jupyter-widgets/base",
            "_view_module_version": "1.2.0",
            "_view_name": "LayoutView",
            "align_content": null,
            "align_items": null,
            "align_self": null,
            "border": null,
            "bottom": null,
            "display": null,
            "flex": null,
            "flex_flow": null,
            "grid_area": null,
            "grid_auto_columns": null,
            "grid_auto_flow": null,
            "grid_auto_rows": null,
            "grid_column": null,
            "grid_gap": null,
            "grid_row": null,
            "grid_template_areas": null,
            "grid_template_columns": null,
            "grid_template_rows": null,
            "height": null,
            "justify_content": null,
            "justify_items": null,
            "left": null,
            "margin": null,
            "max_height": null,
            "max_width": null,
            "min_height": null,
            "min_width": null,
            "object_fit": null,
            "object_position": null,
            "order": null,
            "overflow": null,
            "overflow_x": null,
            "overflow_y": null,
            "padding": null,
            "right": null,
            "top": null,
            "visibility": null,
            "width": null
          }
        },
        "91d245bf4913415aa6f5d8fdba6ea9fc": {
          "model_module": "@jupyter-widgets/controls",
          "model_name": "DescriptionStyleModel",
          "model_module_version": "1.5.0",
          "state": {
            "_model_module": "@jupyter-widgets/controls",
            "_model_module_version": "1.5.0",
            "_model_name": "DescriptionStyleModel",
            "_view_count": null,
            "_view_module": "@jupyter-widgets/base",
            "_view_module_version": "1.2.0",
            "_view_name": "StyleView",
            "description_width": ""
          }
        },
        "b37a7abeac6d4f4cb9518cb13f06f8c0": {
          "model_module": "@jupyter-widgets/controls",
          "model_name": "HBoxModel",
          "model_module_version": "1.5.0",
          "state": {
            "_dom_classes": [],
            "_model_module": "@jupyter-widgets/controls",
            "_model_module_version": "1.5.0",
            "_model_name": "HBoxModel",
            "_view_count": null,
            "_view_module": "@jupyter-widgets/controls",
            "_view_module_version": "1.5.0",
            "_view_name": "HBoxView",
            "box_style": "",
            "children": [
              "IPY_MODEL_8cc21e23bb914240bcb16c3bd27b5d40",
              "IPY_MODEL_73beb22b0866402f8c7866ba72598b2e",
              "IPY_MODEL_078711d3f18f4aafa0faebf95d2572ad"
            ],
            "layout": "IPY_MODEL_cb39e7d77f9d490cb1cbf0e58f083be4"
          }
        },
        "8cc21e23bb914240bcb16c3bd27b5d40": {
          "model_module": "@jupyter-widgets/controls",
          "model_name": "HTMLModel",
          "model_module_version": "1.5.0",
          "state": {
            "_dom_classes": [],
            "_model_module": "@jupyter-widgets/controls",
            "_model_module_version": "1.5.0",
            "_model_name": "HTMLModel",
            "_view_count": null,
            "_view_module": "@jupyter-widgets/controls",
            "_view_module_version": "1.5.0",
            "_view_name": "HTMLView",
            "description": "",
            "description_tooltip": null,
            "layout": "IPY_MODEL_7cd18bb1cfe8498c9fec5e0b905d9bba",
            "placeholder": "​",
            "style": "IPY_MODEL_1e5896f5d2e4440b8665acf3a6fedaec",
            "value": "train-00000-of-00001.parquet: 100%"
          }
        },
        "73beb22b0866402f8c7866ba72598b2e": {
          "model_module": "@jupyter-widgets/controls",
          "model_name": "FloatProgressModel",
          "model_module_version": "1.5.0",
          "state": {
            "_dom_classes": [],
            "_model_module": "@jupyter-widgets/controls",
            "_model_module_version": "1.5.0",
            "_model_name": "FloatProgressModel",
            "_view_count": null,
            "_view_module": "@jupyter-widgets/controls",
            "_view_module_version": "1.5.0",
            "_view_name": "ProgressView",
            "bar_style": "success",
            "description": "",
            "description_tooltip": null,
            "layout": "IPY_MODEL_1e983af956d8494bab85f31f7672ecfa",
            "max": 20979968,
            "min": 0,
            "orientation": "horizontal",
            "style": "IPY_MODEL_105d2dd0ce0b46f3aa3fc72b78198c74",
            "value": 20979968
          }
        },
        "078711d3f18f4aafa0faebf95d2572ad": {
          "model_module": "@jupyter-widgets/controls",
          "model_name": "HTMLModel",
          "model_module_version": "1.5.0",
          "state": {
            "_dom_classes": [],
            "_model_module": "@jupyter-widgets/controls",
            "_model_module_version": "1.5.0",
            "_model_name": "HTMLModel",
            "_view_count": null,
            "_view_module": "@jupyter-widgets/controls",
            "_view_module_version": "1.5.0",
            "_view_name": "HTMLView",
            "description": "",
            "description_tooltip": null,
            "layout": "IPY_MODEL_7e0ad2cc7ee04a9da1ae987efa8de5cb",
            "placeholder": "​",
            "style": "IPY_MODEL_6997da58373a40c5a4a2a76f51296278",
            "value": " 21.0M/21.0M [00:00&lt;00:00, 112MB/s]"
          }
        },
        "cb39e7d77f9d490cb1cbf0e58f083be4": {
          "model_module": "@jupyter-widgets/base",
          "model_name": "LayoutModel",
          "model_module_version": "1.2.0",
          "state": {
            "_model_module": "@jupyter-widgets/base",
            "_model_module_version": "1.2.0",
            "_model_name": "LayoutModel",
            "_view_count": null,
            "_view_module": "@jupyter-widgets/base",
            "_view_module_version": "1.2.0",
            "_view_name": "LayoutView",
            "align_content": null,
            "align_items": null,
            "align_self": null,
            "border": null,
            "bottom": null,
            "display": null,
            "flex": null,
            "flex_flow": null,
            "grid_area": null,
            "grid_auto_columns": null,
            "grid_auto_flow": null,
            "grid_auto_rows": null,
            "grid_column": null,
            "grid_gap": null,
            "grid_row": null,
            "grid_template_areas": null,
            "grid_template_columns": null,
            "grid_template_rows": null,
            "height": null,
            "justify_content": null,
            "justify_items": null,
            "left": null,
            "margin": null,
            "max_height": null,
            "max_width": null,
            "min_height": null,
            "min_width": null,
            "object_fit": null,
            "object_position": null,
            "order": null,
            "overflow": null,
            "overflow_x": null,
            "overflow_y": null,
            "padding": null,
            "right": null,
            "top": null,
            "visibility": null,
            "width": null
          }
        },
        "7cd18bb1cfe8498c9fec5e0b905d9bba": {
          "model_module": "@jupyter-widgets/base",
          "model_name": "LayoutModel",
          "model_module_version": "1.2.0",
          "state": {
            "_model_module": "@jupyter-widgets/base",
            "_model_module_version": "1.2.0",
            "_model_name": "LayoutModel",
            "_view_count": null,
            "_view_module": "@jupyter-widgets/base",
            "_view_module_version": "1.2.0",
            "_view_name": "LayoutView",
            "align_content": null,
            "align_items": null,
            "align_self": null,
            "border": null,
            "bottom": null,
            "display": null,
            "flex": null,
            "flex_flow": null,
            "grid_area": null,
            "grid_auto_columns": null,
            "grid_auto_flow": null,
            "grid_auto_rows": null,
            "grid_column": null,
            "grid_gap": null,
            "grid_row": null,
            "grid_template_areas": null,
            "grid_template_columns": null,
            "grid_template_rows": null,
            "height": null,
            "justify_content": null,
            "justify_items": null,
            "left": null,
            "margin": null,
            "max_height": null,
            "max_width": null,
            "min_height": null,
            "min_width": null,
            "object_fit": null,
            "object_position": null,
            "order": null,
            "overflow": null,
            "overflow_x": null,
            "overflow_y": null,
            "padding": null,
            "right": null,
            "top": null,
            "visibility": null,
            "width": null
          }
        },
        "1e5896f5d2e4440b8665acf3a6fedaec": {
          "model_module": "@jupyter-widgets/controls",
          "model_name": "DescriptionStyleModel",
          "model_module_version": "1.5.0",
          "state": {
            "_model_module": "@jupyter-widgets/controls",
            "_model_module_version": "1.5.0",
            "_model_name": "DescriptionStyleModel",
            "_view_count": null,
            "_view_module": "@jupyter-widgets/base",
            "_view_module_version": "1.2.0",
            "_view_name": "StyleView",
            "description_width": ""
          }
        },
        "1e983af956d8494bab85f31f7672ecfa": {
          "model_module": "@jupyter-widgets/base",
          "model_name": "LayoutModel",
          "model_module_version": "1.2.0",
          "state": {
            "_model_module": "@jupyter-widgets/base",
            "_model_module_version": "1.2.0",
            "_model_name": "LayoutModel",
            "_view_count": null,
            "_view_module": "@jupyter-widgets/base",
            "_view_module_version": "1.2.0",
            "_view_name": "LayoutView",
            "align_content": null,
            "align_items": null,
            "align_self": null,
            "border": null,
            "bottom": null,
            "display": null,
            "flex": null,
            "flex_flow": null,
            "grid_area": null,
            "grid_auto_columns": null,
            "grid_auto_flow": null,
            "grid_auto_rows": null,
            "grid_column": null,
            "grid_gap": null,
            "grid_row": null,
            "grid_template_areas": null,
            "grid_template_columns": null,
            "grid_template_rows": null,
            "height": null,
            "justify_content": null,
            "justify_items": null,
            "left": null,
            "margin": null,
            "max_height": null,
            "max_width": null,
            "min_height": null,
            "min_width": null,
            "object_fit": null,
            "object_position": null,
            "order": null,
            "overflow": null,
            "overflow_x": null,
            "overflow_y": null,
            "padding": null,
            "right": null,
            "top": null,
            "visibility": null,
            "width": null
          }
        },
        "105d2dd0ce0b46f3aa3fc72b78198c74": {
          "model_module": "@jupyter-widgets/controls",
          "model_name": "ProgressStyleModel",
          "model_module_version": "1.5.0",
          "state": {
            "_model_module": "@jupyter-widgets/controls",
            "_model_module_version": "1.5.0",
            "_model_name": "ProgressStyleModel",
            "_view_count": null,
            "_view_module": "@jupyter-widgets/base",
            "_view_module_version": "1.2.0",
            "_view_name": "StyleView",
            "bar_color": null,
            "description_width": ""
          }
        },
        "7e0ad2cc7ee04a9da1ae987efa8de5cb": {
          "model_module": "@jupyter-widgets/base",
          "model_name": "LayoutModel",
          "model_module_version": "1.2.0",
          "state": {
            "_model_module": "@jupyter-widgets/base",
            "_model_module_version": "1.2.0",
            "_model_name": "LayoutModel",
            "_view_count": null,
            "_view_module": "@jupyter-widgets/base",
            "_view_module_version": "1.2.0",
            "_view_name": "LayoutView",
            "align_content": null,
            "align_items": null,
            "align_self": null,
            "border": null,
            "bottom": null,
            "display": null,
            "flex": null,
            "flex_flow": null,
            "grid_area": null,
            "grid_auto_columns": null,
            "grid_auto_flow": null,
            "grid_auto_rows": null,
            "grid_column": null,
            "grid_gap": null,
            "grid_row": null,
            "grid_template_areas": null,
            "grid_template_columns": null,
            "grid_template_rows": null,
            "height": null,
            "justify_content": null,
            "justify_items": null,
            "left": null,
            "margin": null,
            "max_height": null,
            "max_width": null,
            "min_height": null,
            "min_width": null,
            "object_fit": null,
            "object_position": null,
            "order": null,
            "overflow": null,
            "overflow_x": null,
            "overflow_y": null,
            "padding": null,
            "right": null,
            "top": null,
            "visibility": null,
            "width": null
          }
        },
        "6997da58373a40c5a4a2a76f51296278": {
          "model_module": "@jupyter-widgets/controls",
          "model_name": "DescriptionStyleModel",
          "model_module_version": "1.5.0",
          "state": {
            "_model_module": "@jupyter-widgets/controls",
            "_model_module_version": "1.5.0",
            "_model_name": "DescriptionStyleModel",
            "_view_count": null,
            "_view_module": "@jupyter-widgets/base",
            "_view_module_version": "1.2.0",
            "_view_name": "StyleView",
            "description_width": ""
          }
        },
        "44c66e60e5c24adbb27aa0ddd60fd82d": {
          "model_module": "@jupyter-widgets/controls",
          "model_name": "HBoxModel",
          "model_module_version": "1.5.0",
          "state": {
            "_dom_classes": [],
            "_model_module": "@jupyter-widgets/controls",
            "_model_module_version": "1.5.0",
            "_model_name": "HBoxModel",
            "_view_count": null,
            "_view_module": "@jupyter-widgets/controls",
            "_view_module_version": "1.5.0",
            "_view_name": "HBoxView",
            "box_style": "",
            "children": [
              "IPY_MODEL_19e2842f55a74da182b43d1f303cd4e2",
              "IPY_MODEL_6e0760d5391f4f82a0c02630aa9e5c1c",
              "IPY_MODEL_476cab3f635241bc9b289eb179c58294"
            ],
            "layout": "IPY_MODEL_ea1a7a5211cf4bc0979b7c207b4d7cad"
          }
        },
        "19e2842f55a74da182b43d1f303cd4e2": {
          "model_module": "@jupyter-widgets/controls",
          "model_name": "HTMLModel",
          "model_module_version": "1.5.0",
          "state": {
            "_dom_classes": [],
            "_model_module": "@jupyter-widgets/controls",
            "_model_module_version": "1.5.0",
            "_model_name": "HTMLModel",
            "_view_count": null,
            "_view_module": "@jupyter-widgets/controls",
            "_view_module_version": "1.5.0",
            "_view_name": "HTMLView",
            "description": "",
            "description_tooltip": null,
            "layout": "IPY_MODEL_d4b7b00477514830b144cefa700af7d8",
            "placeholder": "​",
            "style": "IPY_MODEL_46cad5fbfd584658aa1e3062388561b0",
            "value": "test-00000-of-00001.parquet: 100%"
          }
        },
        "6e0760d5391f4f82a0c02630aa9e5c1c": {
          "model_module": "@jupyter-widgets/controls",
          "model_name": "FloatProgressModel",
          "model_module_version": "1.5.0",
          "state": {
            "_dom_classes": [],
            "_model_module": "@jupyter-widgets/controls",
            "_model_module_version": "1.5.0",
            "_model_name": "FloatProgressModel",
            "_view_count": null,
            "_view_module": "@jupyter-widgets/controls",
            "_view_module_version": "1.5.0",
            "_view_name": "ProgressView",
            "bar_style": "success",
            "description": "",
            "description_tooltip": null,
            "layout": "IPY_MODEL_2c7a5311b69743a596fd5c0773085a67",
            "max": 20470363,
            "min": 0,
            "orientation": "horizontal",
            "style": "IPY_MODEL_9b30fad60693486b84020fc17a74c292",
            "value": 20470363
          }
        },
        "476cab3f635241bc9b289eb179c58294": {
          "model_module": "@jupyter-widgets/controls",
          "model_name": "HTMLModel",
          "model_module_version": "1.5.0",
          "state": {
            "_dom_classes": [],
            "_model_module": "@jupyter-widgets/controls",
            "_model_module_version": "1.5.0",
            "_model_name": "HTMLModel",
            "_view_count": null,
            "_view_module": "@jupyter-widgets/controls",
            "_view_module_version": "1.5.0",
            "_view_name": "HTMLView",
            "description": "",
            "description_tooltip": null,
            "layout": "IPY_MODEL_86b52d2210394afc880feb5b2ba03961",
            "placeholder": "​",
            "style": "IPY_MODEL_1fd55a270ca949369c3a8ae315ad79cc",
            "value": " 20.5M/20.5M [00:00&lt;00:00, 213MB/s]"
          }
        },
        "ea1a7a5211cf4bc0979b7c207b4d7cad": {
          "model_module": "@jupyter-widgets/base",
          "model_name": "LayoutModel",
          "model_module_version": "1.2.0",
          "state": {
            "_model_module": "@jupyter-widgets/base",
            "_model_module_version": "1.2.0",
            "_model_name": "LayoutModel",
            "_view_count": null,
            "_view_module": "@jupyter-widgets/base",
            "_view_module_version": "1.2.0",
            "_view_name": "LayoutView",
            "align_content": null,
            "align_items": null,
            "align_self": null,
            "border": null,
            "bottom": null,
            "display": null,
            "flex": null,
            "flex_flow": null,
            "grid_area": null,
            "grid_auto_columns": null,
            "grid_auto_flow": null,
            "grid_auto_rows": null,
            "grid_column": null,
            "grid_gap": null,
            "grid_row": null,
            "grid_template_areas": null,
            "grid_template_columns": null,
            "grid_template_rows": null,
            "height": null,
            "justify_content": null,
            "justify_items": null,
            "left": null,
            "margin": null,
            "max_height": null,
            "max_width": null,
            "min_height": null,
            "min_width": null,
            "object_fit": null,
            "object_position": null,
            "order": null,
            "overflow": null,
            "overflow_x": null,
            "overflow_y": null,
            "padding": null,
            "right": null,
            "top": null,
            "visibility": null,
            "width": null
          }
        },
        "d4b7b00477514830b144cefa700af7d8": {
          "model_module": "@jupyter-widgets/base",
          "model_name": "LayoutModel",
          "model_module_version": "1.2.0",
          "state": {
            "_model_module": "@jupyter-widgets/base",
            "_model_module_version": "1.2.0",
            "_model_name": "LayoutModel",
            "_view_count": null,
            "_view_module": "@jupyter-widgets/base",
            "_view_module_version": "1.2.0",
            "_view_name": "LayoutView",
            "align_content": null,
            "align_items": null,
            "align_self": null,
            "border": null,
            "bottom": null,
            "display": null,
            "flex": null,
            "flex_flow": null,
            "grid_area": null,
            "grid_auto_columns": null,
            "grid_auto_flow": null,
            "grid_auto_rows": null,
            "grid_column": null,
            "grid_gap": null,
            "grid_row": null,
            "grid_template_areas": null,
            "grid_template_columns": null,
            "grid_template_rows": null,
            "height": null,
            "justify_content": null,
            "justify_items": null,
            "left": null,
            "margin": null,
            "max_height": null,
            "max_width": null,
            "min_height": null,
            "min_width": null,
            "object_fit": null,
            "object_position": null,
            "order": null,
            "overflow": null,
            "overflow_x": null,
            "overflow_y": null,
            "padding": null,
            "right": null,
            "top": null,
            "visibility": null,
            "width": null
          }
        },
        "46cad5fbfd584658aa1e3062388561b0": {
          "model_module": "@jupyter-widgets/controls",
          "model_name": "DescriptionStyleModel",
          "model_module_version": "1.5.0",
          "state": {
            "_model_module": "@jupyter-widgets/controls",
            "_model_module_version": "1.5.0",
            "_model_name": "DescriptionStyleModel",
            "_view_count": null,
            "_view_module": "@jupyter-widgets/base",
            "_view_module_version": "1.2.0",
            "_view_name": "StyleView",
            "description_width": ""
          }
        },
        "2c7a5311b69743a596fd5c0773085a67": {
          "model_module": "@jupyter-widgets/base",
          "model_name": "LayoutModel",
          "model_module_version": "1.2.0",
          "state": {
            "_model_module": "@jupyter-widgets/base",
            "_model_module_version": "1.2.0",
            "_model_name": "LayoutModel",
            "_view_count": null,
            "_view_module": "@jupyter-widgets/base",
            "_view_module_version": "1.2.0",
            "_view_name": "LayoutView",
            "align_content": null,
            "align_items": null,
            "align_self": null,
            "border": null,
            "bottom": null,
            "display": null,
            "flex": null,
            "flex_flow": null,
            "grid_area": null,
            "grid_auto_columns": null,
            "grid_auto_flow": null,
            "grid_auto_rows": null,
            "grid_column": null,
            "grid_gap": null,
            "grid_row": null,
            "grid_template_areas": null,
            "grid_template_columns": null,
            "grid_template_rows": null,
            "height": null,
            "justify_content": null,
            "justify_items": null,
            "left": null,
            "margin": null,
            "max_height": null,
            "max_width": null,
            "min_height": null,
            "min_width": null,
            "object_fit": null,
            "object_position": null,
            "order": null,
            "overflow": null,
            "overflow_x": null,
            "overflow_y": null,
            "padding": null,
            "right": null,
            "top": null,
            "visibility": null,
            "width": null
          }
        },
        "9b30fad60693486b84020fc17a74c292": {
          "model_module": "@jupyter-widgets/controls",
          "model_name": "ProgressStyleModel",
          "model_module_version": "1.5.0",
          "state": {
            "_model_module": "@jupyter-widgets/controls",
            "_model_module_version": "1.5.0",
            "_model_name": "ProgressStyleModel",
            "_view_count": null,
            "_view_module": "@jupyter-widgets/base",
            "_view_module_version": "1.2.0",
            "_view_name": "StyleView",
            "bar_color": null,
            "description_width": ""
          }
        },
        "86b52d2210394afc880feb5b2ba03961": {
          "model_module": "@jupyter-widgets/base",
          "model_name": "LayoutModel",
          "model_module_version": "1.2.0",
          "state": {
            "_model_module": "@jupyter-widgets/base",
            "_model_module_version": "1.2.0",
            "_model_name": "LayoutModel",
            "_view_count": null,
            "_view_module": "@jupyter-widgets/base",
            "_view_module_version": "1.2.0",
            "_view_name": "LayoutView",
            "align_content": null,
            "align_items": null,
            "align_self": null,
            "border": null,
            "bottom": null,
            "display": null,
            "flex": null,
            "flex_flow": null,
            "grid_area": null,
            "grid_auto_columns": null,
            "grid_auto_flow": null,
            "grid_auto_rows": null,
            "grid_column": null,
            "grid_gap": null,
            "grid_row": null,
            "grid_template_areas": null,
            "grid_template_columns": null,
            "grid_template_rows": null,
            "height": null,
            "justify_content": null,
            "justify_items": null,
            "left": null,
            "margin": null,
            "max_height": null,
            "max_width": null,
            "min_height": null,
            "min_width": null,
            "object_fit": null,
            "object_position": null,
            "order": null,
            "overflow": null,
            "overflow_x": null,
            "overflow_y": null,
            "padding": null,
            "right": null,
            "top": null,
            "visibility": null,
            "width": null
          }
        },
        "1fd55a270ca949369c3a8ae315ad79cc": {
          "model_module": "@jupyter-widgets/controls",
          "model_name": "DescriptionStyleModel",
          "model_module_version": "1.5.0",
          "state": {
            "_model_module": "@jupyter-widgets/controls",
            "_model_module_version": "1.5.0",
            "_model_name": "DescriptionStyleModel",
            "_view_count": null,
            "_view_module": "@jupyter-widgets/base",
            "_view_module_version": "1.2.0",
            "_view_name": "StyleView",
            "description_width": ""
          }
        },
        "c07e4afa57b64d75a59a354147852bd6": {
          "model_module": "@jupyter-widgets/controls",
          "model_name": "HBoxModel",
          "model_module_version": "1.5.0",
          "state": {
            "_dom_classes": [],
            "_model_module": "@jupyter-widgets/controls",
            "_model_module_version": "1.5.0",
            "_model_name": "HBoxModel",
            "_view_count": null,
            "_view_module": "@jupyter-widgets/controls",
            "_view_module_version": "1.5.0",
            "_view_name": "HBoxView",
            "box_style": "",
            "children": [
              "IPY_MODEL_6e9257d042cc47bf81588488d25b9da6",
              "IPY_MODEL_7d8437d2cff940e288cea87d0b76a762",
              "IPY_MODEL_26c77ed1b98a4e218fabe9d794a8558b"
            ],
            "layout": "IPY_MODEL_bdb5594db7564dd491968ee460cce062"
          }
        },
        "6e9257d042cc47bf81588488d25b9da6": {
          "model_module": "@jupyter-widgets/controls",
          "model_name": "HTMLModel",
          "model_module_version": "1.5.0",
          "state": {
            "_dom_classes": [],
            "_model_module": "@jupyter-widgets/controls",
            "_model_module_version": "1.5.0",
            "_model_name": "HTMLModel",
            "_view_count": null,
            "_view_module": "@jupyter-widgets/controls",
            "_view_module_version": "1.5.0",
            "_view_name": "HTMLView",
            "description": "",
            "description_tooltip": null,
            "layout": "IPY_MODEL_561fb168ecf74da7846d517df62ace8d",
            "placeholder": "​",
            "style": "IPY_MODEL_0c450a1621be441da57b854eec3f7820",
            "value": "unsupervised-00000-of-00001.parquet: 100%"
          }
        },
        "7d8437d2cff940e288cea87d0b76a762": {
          "model_module": "@jupyter-widgets/controls",
          "model_name": "FloatProgressModel",
          "model_module_version": "1.5.0",
          "state": {
            "_dom_classes": [],
            "_model_module": "@jupyter-widgets/controls",
            "_model_module_version": "1.5.0",
            "_model_name": "FloatProgressModel",
            "_view_count": null,
            "_view_module": "@jupyter-widgets/controls",
            "_view_module_version": "1.5.0",
            "_view_name": "ProgressView",
            "bar_style": "success",
            "description": "",
            "description_tooltip": null,
            "layout": "IPY_MODEL_a8c9274f6adb4dee944ef8582837fe82",
            "max": 41996509,
            "min": 0,
            "orientation": "horizontal",
            "style": "IPY_MODEL_46c4d354612647fe9176ea6c676a15e5",
            "value": 41996509
          }
        },
        "26c77ed1b98a4e218fabe9d794a8558b": {
          "model_module": "@jupyter-widgets/controls",
          "model_name": "HTMLModel",
          "model_module_version": "1.5.0",
          "state": {
            "_dom_classes": [],
            "_model_module": "@jupyter-widgets/controls",
            "_model_module_version": "1.5.0",
            "_model_name": "HTMLModel",
            "_view_count": null,
            "_view_module": "@jupyter-widgets/controls",
            "_view_module_version": "1.5.0",
            "_view_name": "HTMLView",
            "description": "",
            "description_tooltip": null,
            "layout": "IPY_MODEL_5cc94f7000214d0e87ebcb19ea79b85f",
            "placeholder": "​",
            "style": "IPY_MODEL_a12b0aebdc1b4028a3ebadfce10d4eff",
            "value": " 42.0M/42.0M [00:00&lt;00:00, 175MB/s]"
          }
        },
        "bdb5594db7564dd491968ee460cce062": {
          "model_module": "@jupyter-widgets/base",
          "model_name": "LayoutModel",
          "model_module_version": "1.2.0",
          "state": {
            "_model_module": "@jupyter-widgets/base",
            "_model_module_version": "1.2.0",
            "_model_name": "LayoutModel",
            "_view_count": null,
            "_view_module": "@jupyter-widgets/base",
            "_view_module_version": "1.2.0",
            "_view_name": "LayoutView",
            "align_content": null,
            "align_items": null,
            "align_self": null,
            "border": null,
            "bottom": null,
            "display": null,
            "flex": null,
            "flex_flow": null,
            "grid_area": null,
            "grid_auto_columns": null,
            "grid_auto_flow": null,
            "grid_auto_rows": null,
            "grid_column": null,
            "grid_gap": null,
            "grid_row": null,
            "grid_template_areas": null,
            "grid_template_columns": null,
            "grid_template_rows": null,
            "height": null,
            "justify_content": null,
            "justify_items": null,
            "left": null,
            "margin": null,
            "max_height": null,
            "max_width": null,
            "min_height": null,
            "min_width": null,
            "object_fit": null,
            "object_position": null,
            "order": null,
            "overflow": null,
            "overflow_x": null,
            "overflow_y": null,
            "padding": null,
            "right": null,
            "top": null,
            "visibility": null,
            "width": null
          }
        },
        "561fb168ecf74da7846d517df62ace8d": {
          "model_module": "@jupyter-widgets/base",
          "model_name": "LayoutModel",
          "model_module_version": "1.2.0",
          "state": {
            "_model_module": "@jupyter-widgets/base",
            "_model_module_version": "1.2.0",
            "_model_name": "LayoutModel",
            "_view_count": null,
            "_view_module": "@jupyter-widgets/base",
            "_view_module_version": "1.2.0",
            "_view_name": "LayoutView",
            "align_content": null,
            "align_items": null,
            "align_self": null,
            "border": null,
            "bottom": null,
            "display": null,
            "flex": null,
            "flex_flow": null,
            "grid_area": null,
            "grid_auto_columns": null,
            "grid_auto_flow": null,
            "grid_auto_rows": null,
            "grid_column": null,
            "grid_gap": null,
            "grid_row": null,
            "grid_template_areas": null,
            "grid_template_columns": null,
            "grid_template_rows": null,
            "height": null,
            "justify_content": null,
            "justify_items": null,
            "left": null,
            "margin": null,
            "max_height": null,
            "max_width": null,
            "min_height": null,
            "min_width": null,
            "object_fit": null,
            "object_position": null,
            "order": null,
            "overflow": null,
            "overflow_x": null,
            "overflow_y": null,
            "padding": null,
            "right": null,
            "top": null,
            "visibility": null,
            "width": null
          }
        },
        "0c450a1621be441da57b854eec3f7820": {
          "model_module": "@jupyter-widgets/controls",
          "model_name": "DescriptionStyleModel",
          "model_module_version": "1.5.0",
          "state": {
            "_model_module": "@jupyter-widgets/controls",
            "_model_module_version": "1.5.0",
            "_model_name": "DescriptionStyleModel",
            "_view_count": null,
            "_view_module": "@jupyter-widgets/base",
            "_view_module_version": "1.2.0",
            "_view_name": "StyleView",
            "description_width": ""
          }
        },
        "a8c9274f6adb4dee944ef8582837fe82": {
          "model_module": "@jupyter-widgets/base",
          "model_name": "LayoutModel",
          "model_module_version": "1.2.0",
          "state": {
            "_model_module": "@jupyter-widgets/base",
            "_model_module_version": "1.2.0",
            "_model_name": "LayoutModel",
            "_view_count": null,
            "_view_module": "@jupyter-widgets/base",
            "_view_module_version": "1.2.0",
            "_view_name": "LayoutView",
            "align_content": null,
            "align_items": null,
            "align_self": null,
            "border": null,
            "bottom": null,
            "display": null,
            "flex": null,
            "flex_flow": null,
            "grid_area": null,
            "grid_auto_columns": null,
            "grid_auto_flow": null,
            "grid_auto_rows": null,
            "grid_column": null,
            "grid_gap": null,
            "grid_row": null,
            "grid_template_areas": null,
            "grid_template_columns": null,
            "grid_template_rows": null,
            "height": null,
            "justify_content": null,
            "justify_items": null,
            "left": null,
            "margin": null,
            "max_height": null,
            "max_width": null,
            "min_height": null,
            "min_width": null,
            "object_fit": null,
            "object_position": null,
            "order": null,
            "overflow": null,
            "overflow_x": null,
            "overflow_y": null,
            "padding": null,
            "right": null,
            "top": null,
            "visibility": null,
            "width": null
          }
        },
        "46c4d354612647fe9176ea6c676a15e5": {
          "model_module": "@jupyter-widgets/controls",
          "model_name": "ProgressStyleModel",
          "model_module_version": "1.5.0",
          "state": {
            "_model_module": "@jupyter-widgets/controls",
            "_model_module_version": "1.5.0",
            "_model_name": "ProgressStyleModel",
            "_view_count": null,
            "_view_module": "@jupyter-widgets/base",
            "_view_module_version": "1.2.0",
            "_view_name": "StyleView",
            "bar_color": null,
            "description_width": ""
          }
        },
        "5cc94f7000214d0e87ebcb19ea79b85f": {
          "model_module": "@jupyter-widgets/base",
          "model_name": "LayoutModel",
          "model_module_version": "1.2.0",
          "state": {
            "_model_module": "@jupyter-widgets/base",
            "_model_module_version": "1.2.0",
            "_model_name": "LayoutModel",
            "_view_count": null,
            "_view_module": "@jupyter-widgets/base",
            "_view_module_version": "1.2.0",
            "_view_name": "LayoutView",
            "align_content": null,
            "align_items": null,
            "align_self": null,
            "border": null,
            "bottom": null,
            "display": null,
            "flex": null,
            "flex_flow": null,
            "grid_area": null,
            "grid_auto_columns": null,
            "grid_auto_flow": null,
            "grid_auto_rows": null,
            "grid_column": null,
            "grid_gap": null,
            "grid_row": null,
            "grid_template_areas": null,
            "grid_template_columns": null,
            "grid_template_rows": null,
            "height": null,
            "justify_content": null,
            "justify_items": null,
            "left": null,
            "margin": null,
            "max_height": null,
            "max_width": null,
            "min_height": null,
            "min_width": null,
            "object_fit": null,
            "object_position": null,
            "order": null,
            "overflow": null,
            "overflow_x": null,
            "overflow_y": null,
            "padding": null,
            "right": null,
            "top": null,
            "visibility": null,
            "width": null
          }
        },
        "a12b0aebdc1b4028a3ebadfce10d4eff": {
          "model_module": "@jupyter-widgets/controls",
          "model_name": "DescriptionStyleModel",
          "model_module_version": "1.5.0",
          "state": {
            "_model_module": "@jupyter-widgets/controls",
            "_model_module_version": "1.5.0",
            "_model_name": "DescriptionStyleModel",
            "_view_count": null,
            "_view_module": "@jupyter-widgets/base",
            "_view_module_version": "1.2.0",
            "_view_name": "StyleView",
            "description_width": ""
          }
        },
        "5cca6366d2934de88ff30b79efb99b41": {
          "model_module": "@jupyter-widgets/controls",
          "model_name": "HBoxModel",
          "model_module_version": "1.5.0",
          "state": {
            "_dom_classes": [],
            "_model_module": "@jupyter-widgets/controls",
            "_model_module_version": "1.5.0",
            "_model_name": "HBoxModel",
            "_view_count": null,
            "_view_module": "@jupyter-widgets/controls",
            "_view_module_version": "1.5.0",
            "_view_name": "HBoxView",
            "box_style": "",
            "children": [
              "IPY_MODEL_a07f4755f6d14653899b521f5df869c1",
              "IPY_MODEL_dde9bf290e6a420baeb73183f73a1ae1",
              "IPY_MODEL_9ae2a639089b409da6174c19d28869a7"
            ],
            "layout": "IPY_MODEL_b00803b6723b4bf08d6a14b4d0a2f27c"
          }
        },
        "a07f4755f6d14653899b521f5df869c1": {
          "model_module": "@jupyter-widgets/controls",
          "model_name": "HTMLModel",
          "model_module_version": "1.5.0",
          "state": {
            "_dom_classes": [],
            "_model_module": "@jupyter-widgets/controls",
            "_model_module_version": "1.5.0",
            "_model_name": "HTMLModel",
            "_view_count": null,
            "_view_module": "@jupyter-widgets/controls",
            "_view_module_version": "1.5.0",
            "_view_name": "HTMLView",
            "description": "",
            "description_tooltip": null,
            "layout": "IPY_MODEL_ce3a3c463bfa410f8b9ace833bc234be",
            "placeholder": "​",
            "style": "IPY_MODEL_03e82318f9f14337b0e54119288f8043",
            "value": "Generating train split: 100%"
          }
        },
        "dde9bf290e6a420baeb73183f73a1ae1": {
          "model_module": "@jupyter-widgets/controls",
          "model_name": "FloatProgressModel",
          "model_module_version": "1.5.0",
          "state": {
            "_dom_classes": [],
            "_model_module": "@jupyter-widgets/controls",
            "_model_module_version": "1.5.0",
            "_model_name": "FloatProgressModel",
            "_view_count": null,
            "_view_module": "@jupyter-widgets/controls",
            "_view_module_version": "1.5.0",
            "_view_name": "ProgressView",
            "bar_style": "success",
            "description": "",
            "description_tooltip": null,
            "layout": "IPY_MODEL_c2353f2d8f80470fbb0a7fc61f95a4f7",
            "max": 25000,
            "min": 0,
            "orientation": "horizontal",
            "style": "IPY_MODEL_201f37dc83eb41bb91268cbc6ff545df",
            "value": 25000
          }
        },
        "9ae2a639089b409da6174c19d28869a7": {
          "model_module": "@jupyter-widgets/controls",
          "model_name": "HTMLModel",
          "model_module_version": "1.5.0",
          "state": {
            "_dom_classes": [],
            "_model_module": "@jupyter-widgets/controls",
            "_model_module_version": "1.5.0",
            "_model_name": "HTMLModel",
            "_view_count": null,
            "_view_module": "@jupyter-widgets/controls",
            "_view_module_version": "1.5.0",
            "_view_name": "HTMLView",
            "description": "",
            "description_tooltip": null,
            "layout": "IPY_MODEL_0a419cdea47444fe9ddeb67aa23acc14",
            "placeholder": "​",
            "style": "IPY_MODEL_a265fd3b4fcc4b1ea75f1230749e6890",
            "value": " 25000/25000 [00:00&lt;00:00, 70574.39 examples/s]"
          }
        },
        "b00803b6723b4bf08d6a14b4d0a2f27c": {
          "model_module": "@jupyter-widgets/base",
          "model_name": "LayoutModel",
          "model_module_version": "1.2.0",
          "state": {
            "_model_module": "@jupyter-widgets/base",
            "_model_module_version": "1.2.0",
            "_model_name": "LayoutModel",
            "_view_count": null,
            "_view_module": "@jupyter-widgets/base",
            "_view_module_version": "1.2.0",
            "_view_name": "LayoutView",
            "align_content": null,
            "align_items": null,
            "align_self": null,
            "border": null,
            "bottom": null,
            "display": null,
            "flex": null,
            "flex_flow": null,
            "grid_area": null,
            "grid_auto_columns": null,
            "grid_auto_flow": null,
            "grid_auto_rows": null,
            "grid_column": null,
            "grid_gap": null,
            "grid_row": null,
            "grid_template_areas": null,
            "grid_template_columns": null,
            "grid_template_rows": null,
            "height": null,
            "justify_content": null,
            "justify_items": null,
            "left": null,
            "margin": null,
            "max_height": null,
            "max_width": null,
            "min_height": null,
            "min_width": null,
            "object_fit": null,
            "object_position": null,
            "order": null,
            "overflow": null,
            "overflow_x": null,
            "overflow_y": null,
            "padding": null,
            "right": null,
            "top": null,
            "visibility": null,
            "width": null
          }
        },
        "ce3a3c463bfa410f8b9ace833bc234be": {
          "model_module": "@jupyter-widgets/base",
          "model_name": "LayoutModel",
          "model_module_version": "1.2.0",
          "state": {
            "_model_module": "@jupyter-widgets/base",
            "_model_module_version": "1.2.0",
            "_model_name": "LayoutModel",
            "_view_count": null,
            "_view_module": "@jupyter-widgets/base",
            "_view_module_version": "1.2.0",
            "_view_name": "LayoutView",
            "align_content": null,
            "align_items": null,
            "align_self": null,
            "border": null,
            "bottom": null,
            "display": null,
            "flex": null,
            "flex_flow": null,
            "grid_area": null,
            "grid_auto_columns": null,
            "grid_auto_flow": null,
            "grid_auto_rows": null,
            "grid_column": null,
            "grid_gap": null,
            "grid_row": null,
            "grid_template_areas": null,
            "grid_template_columns": null,
            "grid_template_rows": null,
            "height": null,
            "justify_content": null,
            "justify_items": null,
            "left": null,
            "margin": null,
            "max_height": null,
            "max_width": null,
            "min_height": null,
            "min_width": null,
            "object_fit": null,
            "object_position": null,
            "order": null,
            "overflow": null,
            "overflow_x": null,
            "overflow_y": null,
            "padding": null,
            "right": null,
            "top": null,
            "visibility": null,
            "width": null
          }
        },
        "03e82318f9f14337b0e54119288f8043": {
          "model_module": "@jupyter-widgets/controls",
          "model_name": "DescriptionStyleModel",
          "model_module_version": "1.5.0",
          "state": {
            "_model_module": "@jupyter-widgets/controls",
            "_model_module_version": "1.5.0",
            "_model_name": "DescriptionStyleModel",
            "_view_count": null,
            "_view_module": "@jupyter-widgets/base",
            "_view_module_version": "1.2.0",
            "_view_name": "StyleView",
            "description_width": ""
          }
        },
        "c2353f2d8f80470fbb0a7fc61f95a4f7": {
          "model_module": "@jupyter-widgets/base",
          "model_name": "LayoutModel",
          "model_module_version": "1.2.0",
          "state": {
            "_model_module": "@jupyter-widgets/base",
            "_model_module_version": "1.2.0",
            "_model_name": "LayoutModel",
            "_view_count": null,
            "_view_module": "@jupyter-widgets/base",
            "_view_module_version": "1.2.0",
            "_view_name": "LayoutView",
            "align_content": null,
            "align_items": null,
            "align_self": null,
            "border": null,
            "bottom": null,
            "display": null,
            "flex": null,
            "flex_flow": null,
            "grid_area": null,
            "grid_auto_columns": null,
            "grid_auto_flow": null,
            "grid_auto_rows": null,
            "grid_column": null,
            "grid_gap": null,
            "grid_row": null,
            "grid_template_areas": null,
            "grid_template_columns": null,
            "grid_template_rows": null,
            "height": null,
            "justify_content": null,
            "justify_items": null,
            "left": null,
            "margin": null,
            "max_height": null,
            "max_width": null,
            "min_height": null,
            "min_width": null,
            "object_fit": null,
            "object_position": null,
            "order": null,
            "overflow": null,
            "overflow_x": null,
            "overflow_y": null,
            "padding": null,
            "right": null,
            "top": null,
            "visibility": null,
            "width": null
          }
        },
        "201f37dc83eb41bb91268cbc6ff545df": {
          "model_module": "@jupyter-widgets/controls",
          "model_name": "ProgressStyleModel",
          "model_module_version": "1.5.0",
          "state": {
            "_model_module": "@jupyter-widgets/controls",
            "_model_module_version": "1.5.0",
            "_model_name": "ProgressStyleModel",
            "_view_count": null,
            "_view_module": "@jupyter-widgets/base",
            "_view_module_version": "1.2.0",
            "_view_name": "StyleView",
            "bar_color": null,
            "description_width": ""
          }
        },
        "0a419cdea47444fe9ddeb67aa23acc14": {
          "model_module": "@jupyter-widgets/base",
          "model_name": "LayoutModel",
          "model_module_version": "1.2.0",
          "state": {
            "_model_module": "@jupyter-widgets/base",
            "_model_module_version": "1.2.0",
            "_model_name": "LayoutModel",
            "_view_count": null,
            "_view_module": "@jupyter-widgets/base",
            "_view_module_version": "1.2.0",
            "_view_name": "LayoutView",
            "align_content": null,
            "align_items": null,
            "align_self": null,
            "border": null,
            "bottom": null,
            "display": null,
            "flex": null,
            "flex_flow": null,
            "grid_area": null,
            "grid_auto_columns": null,
            "grid_auto_flow": null,
            "grid_auto_rows": null,
            "grid_column": null,
            "grid_gap": null,
            "grid_row": null,
            "grid_template_areas": null,
            "grid_template_columns": null,
            "grid_template_rows": null,
            "height": null,
            "justify_content": null,
            "justify_items": null,
            "left": null,
            "margin": null,
            "max_height": null,
            "max_width": null,
            "min_height": null,
            "min_width": null,
            "object_fit": null,
            "object_position": null,
            "order": null,
            "overflow": null,
            "overflow_x": null,
            "overflow_y": null,
            "padding": null,
            "right": null,
            "top": null,
            "visibility": null,
            "width": null
          }
        },
        "a265fd3b4fcc4b1ea75f1230749e6890": {
          "model_module": "@jupyter-widgets/controls",
          "model_name": "DescriptionStyleModel",
          "model_module_version": "1.5.0",
          "state": {
            "_model_module": "@jupyter-widgets/controls",
            "_model_module_version": "1.5.0",
            "_model_name": "DescriptionStyleModel",
            "_view_count": null,
            "_view_module": "@jupyter-widgets/base",
            "_view_module_version": "1.2.0",
            "_view_name": "StyleView",
            "description_width": ""
          }
        },
        "f914819911244389ae4cb353293cea40": {
          "model_module": "@jupyter-widgets/controls",
          "model_name": "HBoxModel",
          "model_module_version": "1.5.0",
          "state": {
            "_dom_classes": [],
            "_model_module": "@jupyter-widgets/controls",
            "_model_module_version": "1.5.0",
            "_model_name": "HBoxModel",
            "_view_count": null,
            "_view_module": "@jupyter-widgets/controls",
            "_view_module_version": "1.5.0",
            "_view_name": "HBoxView",
            "box_style": "",
            "children": [
              "IPY_MODEL_4cef8b9ab363438ab7c82c255fea774c",
              "IPY_MODEL_439edc6e618e49ca85f71d70fafd1a7a",
              "IPY_MODEL_4d40775ceb984b3fa5fbe3686bfe4d2a"
            ],
            "layout": "IPY_MODEL_ebd6bd14bcc1400a83ec6ce616cd4924"
          }
        },
        "4cef8b9ab363438ab7c82c255fea774c": {
          "model_module": "@jupyter-widgets/controls",
          "model_name": "HTMLModel",
          "model_module_version": "1.5.0",
          "state": {
            "_dom_classes": [],
            "_model_module": "@jupyter-widgets/controls",
            "_model_module_version": "1.5.0",
            "_model_name": "HTMLModel",
            "_view_count": null,
            "_view_module": "@jupyter-widgets/controls",
            "_view_module_version": "1.5.0",
            "_view_name": "HTMLView",
            "description": "",
            "description_tooltip": null,
            "layout": "IPY_MODEL_5d55867b25ee41e48d1ee4b4b65bdb23",
            "placeholder": "​",
            "style": "IPY_MODEL_9f4920315f124490bd002fbbab092389",
            "value": "Generating test split: 100%"
          }
        },
        "439edc6e618e49ca85f71d70fafd1a7a": {
          "model_module": "@jupyter-widgets/controls",
          "model_name": "FloatProgressModel",
          "model_module_version": "1.5.0",
          "state": {
            "_dom_classes": [],
            "_model_module": "@jupyter-widgets/controls",
            "_model_module_version": "1.5.0",
            "_model_name": "FloatProgressModel",
            "_view_count": null,
            "_view_module": "@jupyter-widgets/controls",
            "_view_module_version": "1.5.0",
            "_view_name": "ProgressView",
            "bar_style": "success",
            "description": "",
            "description_tooltip": null,
            "layout": "IPY_MODEL_a6e1b8a696ab4ba5987caf21d9b0e138",
            "max": 25000,
            "min": 0,
            "orientation": "horizontal",
            "style": "IPY_MODEL_00c1cf4b99ad407fbaa80faaa6c94298",
            "value": 25000
          }
        },
        "4d40775ceb984b3fa5fbe3686bfe4d2a": {
          "model_module": "@jupyter-widgets/controls",
          "model_name": "HTMLModel",
          "model_module_version": "1.5.0",
          "state": {
            "_dom_classes": [],
            "_model_module": "@jupyter-widgets/controls",
            "_model_module_version": "1.5.0",
            "_model_name": "HTMLModel",
            "_view_count": null,
            "_view_module": "@jupyter-widgets/controls",
            "_view_module_version": "1.5.0",
            "_view_name": "HTMLView",
            "description": "",
            "description_tooltip": null,
            "layout": "IPY_MODEL_9b4310503f654c0185ed85d1f273608a",
            "placeholder": "​",
            "style": "IPY_MODEL_c3dc6a444a3f41b4866c764de7680b22",
            "value": " 25000/25000 [00:00&lt;00:00, 94948.85 examples/s]"
          }
        },
        "ebd6bd14bcc1400a83ec6ce616cd4924": {
          "model_module": "@jupyter-widgets/base",
          "model_name": "LayoutModel",
          "model_module_version": "1.2.0",
          "state": {
            "_model_module": "@jupyter-widgets/base",
            "_model_module_version": "1.2.0",
            "_model_name": "LayoutModel",
            "_view_count": null,
            "_view_module": "@jupyter-widgets/base",
            "_view_module_version": "1.2.0",
            "_view_name": "LayoutView",
            "align_content": null,
            "align_items": null,
            "align_self": null,
            "border": null,
            "bottom": null,
            "display": null,
            "flex": null,
            "flex_flow": null,
            "grid_area": null,
            "grid_auto_columns": null,
            "grid_auto_flow": null,
            "grid_auto_rows": null,
            "grid_column": null,
            "grid_gap": null,
            "grid_row": null,
            "grid_template_areas": null,
            "grid_template_columns": null,
            "grid_template_rows": null,
            "height": null,
            "justify_content": null,
            "justify_items": null,
            "left": null,
            "margin": null,
            "max_height": null,
            "max_width": null,
            "min_height": null,
            "min_width": null,
            "object_fit": null,
            "object_position": null,
            "order": null,
            "overflow": null,
            "overflow_x": null,
            "overflow_y": null,
            "padding": null,
            "right": null,
            "top": null,
            "visibility": null,
            "width": null
          }
        },
        "5d55867b25ee41e48d1ee4b4b65bdb23": {
          "model_module": "@jupyter-widgets/base",
          "model_name": "LayoutModel",
          "model_module_version": "1.2.0",
          "state": {
            "_model_module": "@jupyter-widgets/base",
            "_model_module_version": "1.2.0",
            "_model_name": "LayoutModel",
            "_view_count": null,
            "_view_module": "@jupyter-widgets/base",
            "_view_module_version": "1.2.0",
            "_view_name": "LayoutView",
            "align_content": null,
            "align_items": null,
            "align_self": null,
            "border": null,
            "bottom": null,
            "display": null,
            "flex": null,
            "flex_flow": null,
            "grid_area": null,
            "grid_auto_columns": null,
            "grid_auto_flow": null,
            "grid_auto_rows": null,
            "grid_column": null,
            "grid_gap": null,
            "grid_row": null,
            "grid_template_areas": null,
            "grid_template_columns": null,
            "grid_template_rows": null,
            "height": null,
            "justify_content": null,
            "justify_items": null,
            "left": null,
            "margin": null,
            "max_height": null,
            "max_width": null,
            "min_height": null,
            "min_width": null,
            "object_fit": null,
            "object_position": null,
            "order": null,
            "overflow": null,
            "overflow_x": null,
            "overflow_y": null,
            "padding": null,
            "right": null,
            "top": null,
            "visibility": null,
            "width": null
          }
        },
        "9f4920315f124490bd002fbbab092389": {
          "model_module": "@jupyter-widgets/controls",
          "model_name": "DescriptionStyleModel",
          "model_module_version": "1.5.0",
          "state": {
            "_model_module": "@jupyter-widgets/controls",
            "_model_module_version": "1.5.0",
            "_model_name": "DescriptionStyleModel",
            "_view_count": null,
            "_view_module": "@jupyter-widgets/base",
            "_view_module_version": "1.2.0",
            "_view_name": "StyleView",
            "description_width": ""
          }
        },
        "a6e1b8a696ab4ba5987caf21d9b0e138": {
          "model_module": "@jupyter-widgets/base",
          "model_name": "LayoutModel",
          "model_module_version": "1.2.0",
          "state": {
            "_model_module": "@jupyter-widgets/base",
            "_model_module_version": "1.2.0",
            "_model_name": "LayoutModel",
            "_view_count": null,
            "_view_module": "@jupyter-widgets/base",
            "_view_module_version": "1.2.0",
            "_view_name": "LayoutView",
            "align_content": null,
            "align_items": null,
            "align_self": null,
            "border": null,
            "bottom": null,
            "display": null,
            "flex": null,
            "flex_flow": null,
            "grid_area": null,
            "grid_auto_columns": null,
            "grid_auto_flow": null,
            "grid_auto_rows": null,
            "grid_column": null,
            "grid_gap": null,
            "grid_row": null,
            "grid_template_areas": null,
            "grid_template_columns": null,
            "grid_template_rows": null,
            "height": null,
            "justify_content": null,
            "justify_items": null,
            "left": null,
            "margin": null,
            "max_height": null,
            "max_width": null,
            "min_height": null,
            "min_width": null,
            "object_fit": null,
            "object_position": null,
            "order": null,
            "overflow": null,
            "overflow_x": null,
            "overflow_y": null,
            "padding": null,
            "right": null,
            "top": null,
            "visibility": null,
            "width": null
          }
        },
        "00c1cf4b99ad407fbaa80faaa6c94298": {
          "model_module": "@jupyter-widgets/controls",
          "model_name": "ProgressStyleModel",
          "model_module_version": "1.5.0",
          "state": {
            "_model_module": "@jupyter-widgets/controls",
            "_model_module_version": "1.5.0",
            "_model_name": "ProgressStyleModel",
            "_view_count": null,
            "_view_module": "@jupyter-widgets/base",
            "_view_module_version": "1.2.0",
            "_view_name": "StyleView",
            "bar_color": null,
            "description_width": ""
          }
        },
        "9b4310503f654c0185ed85d1f273608a": {
          "model_module": "@jupyter-widgets/base",
          "model_name": "LayoutModel",
          "model_module_version": "1.2.0",
          "state": {
            "_model_module": "@jupyter-widgets/base",
            "_model_module_version": "1.2.0",
            "_model_name": "LayoutModel",
            "_view_count": null,
            "_view_module": "@jupyter-widgets/base",
            "_view_module_version": "1.2.0",
            "_view_name": "LayoutView",
            "align_content": null,
            "align_items": null,
            "align_self": null,
            "border": null,
            "bottom": null,
            "display": null,
            "flex": null,
            "flex_flow": null,
            "grid_area": null,
            "grid_auto_columns": null,
            "grid_auto_flow": null,
            "grid_auto_rows": null,
            "grid_column": null,
            "grid_gap": null,
            "grid_row": null,
            "grid_template_areas": null,
            "grid_template_columns": null,
            "grid_template_rows": null,
            "height": null,
            "justify_content": null,
            "justify_items": null,
            "left": null,
            "margin": null,
            "max_height": null,
            "max_width": null,
            "min_height": null,
            "min_width": null,
            "object_fit": null,
            "object_position": null,
            "order": null,
            "overflow": null,
            "overflow_x": null,
            "overflow_y": null,
            "padding": null,
            "right": null,
            "top": null,
            "visibility": null,
            "width": null
          }
        },
        "c3dc6a444a3f41b4866c764de7680b22": {
          "model_module": "@jupyter-widgets/controls",
          "model_name": "DescriptionStyleModel",
          "model_module_version": "1.5.0",
          "state": {
            "_model_module": "@jupyter-widgets/controls",
            "_model_module_version": "1.5.0",
            "_model_name": "DescriptionStyleModel",
            "_view_count": null,
            "_view_module": "@jupyter-widgets/base",
            "_view_module_version": "1.2.0",
            "_view_name": "StyleView",
            "description_width": ""
          }
        },
        "e19b8e64d0bf4effb8ec3e62cd41924f": {
          "model_module": "@jupyter-widgets/controls",
          "model_name": "HBoxModel",
          "model_module_version": "1.5.0",
          "state": {
            "_dom_classes": [],
            "_model_module": "@jupyter-widgets/controls",
            "_model_module_version": "1.5.0",
            "_model_name": "HBoxModel",
            "_view_count": null,
            "_view_module": "@jupyter-widgets/controls",
            "_view_module_version": "1.5.0",
            "_view_name": "HBoxView",
            "box_style": "",
            "children": [
              "IPY_MODEL_d19b0d5167e74eae92efb075f4d348c8",
              "IPY_MODEL_f2f5e8d397e44237bb783a11ade3f9fd",
              "IPY_MODEL_ee71e68a856f444992a9acbf8b981f88"
            ],
            "layout": "IPY_MODEL_eea747f3d1db4017952a36bf86932976"
          }
        },
        "d19b0d5167e74eae92efb075f4d348c8": {
          "model_module": "@jupyter-widgets/controls",
          "model_name": "HTMLModel",
          "model_module_version": "1.5.0",
          "state": {
            "_dom_classes": [],
            "_model_module": "@jupyter-widgets/controls",
            "_model_module_version": "1.5.0",
            "_model_name": "HTMLModel",
            "_view_count": null,
            "_view_module": "@jupyter-widgets/controls",
            "_view_module_version": "1.5.0",
            "_view_name": "HTMLView",
            "description": "",
            "description_tooltip": null,
            "layout": "IPY_MODEL_8136672966334841af868d9ea8deaf69",
            "placeholder": "​",
            "style": "IPY_MODEL_6936cb0f89e6456cad8e8ba2fa211b1e",
            "value": "Generating unsupervised split: 100%"
          }
        },
        "f2f5e8d397e44237bb783a11ade3f9fd": {
          "model_module": "@jupyter-widgets/controls",
          "model_name": "FloatProgressModel",
          "model_module_version": "1.5.0",
          "state": {
            "_dom_classes": [],
            "_model_module": "@jupyter-widgets/controls",
            "_model_module_version": "1.5.0",
            "_model_name": "FloatProgressModel",
            "_view_count": null,
            "_view_module": "@jupyter-widgets/controls",
            "_view_module_version": "1.5.0",
            "_view_name": "ProgressView",
            "bar_style": "success",
            "description": "",
            "description_tooltip": null,
            "layout": "IPY_MODEL_512204b2c4c24216862a55c333f6132b",
            "max": 50000,
            "min": 0,
            "orientation": "horizontal",
            "style": "IPY_MODEL_51fb48d2c8bc4026a5ffae989ab560ae",
            "value": 50000
          }
        },
        "ee71e68a856f444992a9acbf8b981f88": {
          "model_module": "@jupyter-widgets/controls",
          "model_name": "HTMLModel",
          "model_module_version": "1.5.0",
          "state": {
            "_dom_classes": [],
            "_model_module": "@jupyter-widgets/controls",
            "_model_module_version": "1.5.0",
            "_model_name": "HTMLModel",
            "_view_count": null,
            "_view_module": "@jupyter-widgets/controls",
            "_view_module_version": "1.5.0",
            "_view_name": "HTMLView",
            "description": "",
            "description_tooltip": null,
            "layout": "IPY_MODEL_41853cb60d9d4db886c8344cf4b519d0",
            "placeholder": "​",
            "style": "IPY_MODEL_32f8ec0b75ff4d11b829e95731a57329",
            "value": " 50000/50000 [00:00&lt;00:00, 103293.70 examples/s]"
          }
        },
        "eea747f3d1db4017952a36bf86932976": {
          "model_module": "@jupyter-widgets/base",
          "model_name": "LayoutModel",
          "model_module_version": "1.2.0",
          "state": {
            "_model_module": "@jupyter-widgets/base",
            "_model_module_version": "1.2.0",
            "_model_name": "LayoutModel",
            "_view_count": null,
            "_view_module": "@jupyter-widgets/base",
            "_view_module_version": "1.2.0",
            "_view_name": "LayoutView",
            "align_content": null,
            "align_items": null,
            "align_self": null,
            "border": null,
            "bottom": null,
            "display": null,
            "flex": null,
            "flex_flow": null,
            "grid_area": null,
            "grid_auto_columns": null,
            "grid_auto_flow": null,
            "grid_auto_rows": null,
            "grid_column": null,
            "grid_gap": null,
            "grid_row": null,
            "grid_template_areas": null,
            "grid_template_columns": null,
            "grid_template_rows": null,
            "height": null,
            "justify_content": null,
            "justify_items": null,
            "left": null,
            "margin": null,
            "max_height": null,
            "max_width": null,
            "min_height": null,
            "min_width": null,
            "object_fit": null,
            "object_position": null,
            "order": null,
            "overflow": null,
            "overflow_x": null,
            "overflow_y": null,
            "padding": null,
            "right": null,
            "top": null,
            "visibility": null,
            "width": null
          }
        },
        "8136672966334841af868d9ea8deaf69": {
          "model_module": "@jupyter-widgets/base",
          "model_name": "LayoutModel",
          "model_module_version": "1.2.0",
          "state": {
            "_model_module": "@jupyter-widgets/base",
            "_model_module_version": "1.2.0",
            "_model_name": "LayoutModel",
            "_view_count": null,
            "_view_module": "@jupyter-widgets/base",
            "_view_module_version": "1.2.0",
            "_view_name": "LayoutView",
            "align_content": null,
            "align_items": null,
            "align_self": null,
            "border": null,
            "bottom": null,
            "display": null,
            "flex": null,
            "flex_flow": null,
            "grid_area": null,
            "grid_auto_columns": null,
            "grid_auto_flow": null,
            "grid_auto_rows": null,
            "grid_column": null,
            "grid_gap": null,
            "grid_row": null,
            "grid_template_areas": null,
            "grid_template_columns": null,
            "grid_template_rows": null,
            "height": null,
            "justify_content": null,
            "justify_items": null,
            "left": null,
            "margin": null,
            "max_height": null,
            "max_width": null,
            "min_height": null,
            "min_width": null,
            "object_fit": null,
            "object_position": null,
            "order": null,
            "overflow": null,
            "overflow_x": null,
            "overflow_y": null,
            "padding": null,
            "right": null,
            "top": null,
            "visibility": null,
            "width": null
          }
        },
        "6936cb0f89e6456cad8e8ba2fa211b1e": {
          "model_module": "@jupyter-widgets/controls",
          "model_name": "DescriptionStyleModel",
          "model_module_version": "1.5.0",
          "state": {
            "_model_module": "@jupyter-widgets/controls",
            "_model_module_version": "1.5.0",
            "_model_name": "DescriptionStyleModel",
            "_view_count": null,
            "_view_module": "@jupyter-widgets/base",
            "_view_module_version": "1.2.0",
            "_view_name": "StyleView",
            "description_width": ""
          }
        },
        "512204b2c4c24216862a55c333f6132b": {
          "model_module": "@jupyter-widgets/base",
          "model_name": "LayoutModel",
          "model_module_version": "1.2.0",
          "state": {
            "_model_module": "@jupyter-widgets/base",
            "_model_module_version": "1.2.0",
            "_model_name": "LayoutModel",
            "_view_count": null,
            "_view_module": "@jupyter-widgets/base",
            "_view_module_version": "1.2.0",
            "_view_name": "LayoutView",
            "align_content": null,
            "align_items": null,
            "align_self": null,
            "border": null,
            "bottom": null,
            "display": null,
            "flex": null,
            "flex_flow": null,
            "grid_area": null,
            "grid_auto_columns": null,
            "grid_auto_flow": null,
            "grid_auto_rows": null,
            "grid_column": null,
            "grid_gap": null,
            "grid_row": null,
            "grid_template_areas": null,
            "grid_template_columns": null,
            "grid_template_rows": null,
            "height": null,
            "justify_content": null,
            "justify_items": null,
            "left": null,
            "margin": null,
            "max_height": null,
            "max_width": null,
            "min_height": null,
            "min_width": null,
            "object_fit": null,
            "object_position": null,
            "order": null,
            "overflow": null,
            "overflow_x": null,
            "overflow_y": null,
            "padding": null,
            "right": null,
            "top": null,
            "visibility": null,
            "width": null
          }
        },
        "51fb48d2c8bc4026a5ffae989ab560ae": {
          "model_module": "@jupyter-widgets/controls",
          "model_name": "ProgressStyleModel",
          "model_module_version": "1.5.0",
          "state": {
            "_model_module": "@jupyter-widgets/controls",
            "_model_module_version": "1.5.0",
            "_model_name": "ProgressStyleModel",
            "_view_count": null,
            "_view_module": "@jupyter-widgets/base",
            "_view_module_version": "1.2.0",
            "_view_name": "StyleView",
            "bar_color": null,
            "description_width": ""
          }
        },
        "41853cb60d9d4db886c8344cf4b519d0": {
          "model_module": "@jupyter-widgets/base",
          "model_name": "LayoutModel",
          "model_module_version": "1.2.0",
          "state": {
            "_model_module": "@jupyter-widgets/base",
            "_model_module_version": "1.2.0",
            "_model_name": "LayoutModel",
            "_view_count": null,
            "_view_module": "@jupyter-widgets/base",
            "_view_module_version": "1.2.0",
            "_view_name": "LayoutView",
            "align_content": null,
            "align_items": null,
            "align_self": null,
            "border": null,
            "bottom": null,
            "display": null,
            "flex": null,
            "flex_flow": null,
            "grid_area": null,
            "grid_auto_columns": null,
            "grid_auto_flow": null,
            "grid_auto_rows": null,
            "grid_column": null,
            "grid_gap": null,
            "grid_row": null,
            "grid_template_areas": null,
            "grid_template_columns": null,
            "grid_template_rows": null,
            "height": null,
            "justify_content": null,
            "justify_items": null,
            "left": null,
            "margin": null,
            "max_height": null,
            "max_width": null,
            "min_height": null,
            "min_width": null,
            "object_fit": null,
            "object_position": null,
            "order": null,
            "overflow": null,
            "overflow_x": null,
            "overflow_y": null,
            "padding": null,
            "right": null,
            "top": null,
            "visibility": null,
            "width": null
          }
        },
        "32f8ec0b75ff4d11b829e95731a57329": {
          "model_module": "@jupyter-widgets/controls",
          "model_name": "DescriptionStyleModel",
          "model_module_version": "1.5.0",
          "state": {
            "_model_module": "@jupyter-widgets/controls",
            "_model_module_version": "1.5.0",
            "_model_name": "DescriptionStyleModel",
            "_view_count": null,
            "_view_module": "@jupyter-widgets/base",
            "_view_module_version": "1.2.0",
            "_view_name": "StyleView",
            "description_width": ""
          }
        }
      }
    }
  },
  "cells": [
    {
      "cell_type": "markdown",
      "metadata": {
        "id": "view-in-github",
        "colab_type": "text"
      },
      "source": [
        "<a href=\"https://colab.research.google.com/github/SandeepChatterjee66/NLP-Workshop24/blob/main/notebook-1-PyTorch-MLP.ipynb\" target=\"_parent\"><img src=\"https://colab.research.google.com/assets/colab-badge.svg\" alt=\"Open In Colab\"/></a>"
      ]
    },
    {
      "cell_type": "code",
      "execution_count": null,
      "metadata": {
        "id": "278MqGYvgh01"
      },
      "outputs": [],
      "source": [
        "import torch\n",
        "import torch.nn as nn\n",
        "import torch.optim as optim"
      ]
    },
    {
      "cell_type": "markdown",
      "source": [
        "**Import necessary libraries:**\n",
        "* **torch:** Provides tensor data type and efficient implementation of operations on them\n",
        "* **torch.nn:** Defines neural network layers and modules.\n",
        "* **torch.optim:** Implements optimization algorithms like SGD, Adam, etc.\n"
      ],
      "metadata": {
        "id": "ea_KWx4U_2dd"
      }
    },
    {
      "cell_type": "code",
      "source": [
        "a = [1,2,3]"
      ],
      "metadata": {
        "id": "FU7sf4-Ihus9"
      },
      "execution_count": null,
      "outputs": []
    },
    {
      "cell_type": "code",
      "source": [
        "x = torch.tensor(a)\n",
        "y = torch.tensor([4,5,6])"
      ],
      "metadata": {
        "id": "y5mw0r93hGnj"
      },
      "execution_count": null,
      "outputs": []
    },
    {
      "cell_type": "code",
      "source": [
        "x + y"
      ],
      "metadata": {
        "colab": {
          "base_uri": "https://localhost:8080/"
        },
        "id": "jgfYhiL4hyBc",
        "outputId": "eda36b8c-a9d1-4e82-e1ec-0bb51d04d3d9"
      },
      "execution_count": null,
      "outputs": [
        {
          "output_type": "execute_result",
          "data": {
            "text/plain": [
              "tensor([5, 7, 9])"
            ]
          },
          "metadata": {},
          "execution_count": 5
        }
      ]
    },
    {
      "cell_type": "markdown",
      "source": [
        "hadamard multiplication"
      ],
      "metadata": {
        "id": "3WHz1D2aAV2h"
      }
    },
    {
      "cell_type": "code",
      "source": [
        "x * y"
      ],
      "metadata": {
        "colab": {
          "base_uri": "https://localhost:8080/"
        },
        "id": "w3Ag_sT0AUGL",
        "outputId": "e195ddb9-7eaa-4981-c7a7-9339770e82fe"
      },
      "execution_count": null,
      "outputs": [
        {
          "output_type": "execute_result",
          "data": {
            "text/plain": [
              "tensor([ 4, 10, 18])"
            ]
          },
          "metadata": {},
          "execution_count": 6
        }
      ]
    },
    {
      "cell_type": "markdown",
      "source": [
        "Matrix Multiplication"
      ],
      "metadata": {
        "id": "Q9FtSAgcGDLE"
      }
    },
    {
      "cell_type": "code",
      "source": [
        "# Create two random matrices\n",
        "m1 = torch.randn(2, 3)\n",
        "m2 = torch.randn(3, 4)\n",
        "\n",
        "# Multiply the matrices\n",
        "m1 @ m2"
      ],
      "metadata": {
        "colab": {
          "base_uri": "https://localhost:8080/"
        },
        "id": "fbR7jDHwAZZd",
        "outputId": "76296bc2-197f-43d0-f8b5-25f2dae214c8"
      },
      "execution_count": null,
      "outputs": [
        {
          "output_type": "execute_result",
          "data": {
            "text/plain": [
              "tensor([[-0.0599, -0.7494,  0.4511,  0.0483],\n",
              "        [-0.0431, -1.9795,  0.5308,  0.0390]])"
            ]
          },
          "metadata": {},
          "execution_count": 8
        }
      ]
    },
    {
      "cell_type": "markdown",
      "source": [
        "#### A basic Multi Layer Perceptron"
      ],
      "metadata": {
        "id": "yIByBCvDF7aW"
      }
    },
    {
      "cell_type": "code",
      "source": [
        "class SimpleNN(nn.Module):\n",
        "  def __init__(self):\n",
        "    super(SimpleNN, self).__init__()\n",
        "    self.fc1 = nn.Linear(3, 5)\n",
        "    self.fc2 = nn.Linear(5, 1)\n",
        "    self.relu = nn.ReLU()\n",
        "\n",
        "  def forward(self, x):\n",
        "    x = self.relu(self.fc1(x))\n",
        "    x = self.fc2(x)\n",
        "    return x"
      ],
      "metadata": {
        "id": "fp_Njhk1h89-"
      },
      "execution_count": null,
      "outputs": []
    },
    {
      "cell_type": "code",
      "source": [
        "model = SimpleNN()\n",
        "model"
      ],
      "metadata": {
        "colab": {
          "base_uri": "https://localhost:8080/"
        },
        "id": "4MJ-CLxOii9V",
        "outputId": "001a65a5-3f76-4d83-efd6-895a3b830362"
      },
      "execution_count": null,
      "outputs": [
        {
          "output_type": "execute_result",
          "data": {
            "text/plain": [
              "SimpleNN(\n",
              "  (fc1): Linear(in_features=3, out_features=5, bias=True)\n",
              "  (fc2): Linear(in_features=5, out_features=1, bias=True)\n",
              "  (relu): ReLU()\n",
              ")"
            ]
          },
          "metadata": {},
          "execution_count": 10
        }
      ]
    },
    {
      "cell_type": "markdown",
      "source": [
        "![image.png](data:image/png;base64,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)"
      ],
      "metadata": {
        "id": "VHGQN81aijhh"
      }
    },
    {
      "cell_type": "code",
      "source": [
        "criterion = nn.MSELoss()\n",
        "optimizer = optim.SGD(model.parameters(), lr = 0.01)"
      ],
      "metadata": {
        "id": "m-Qoaarcju-1"
      },
      "execution_count": null,
      "outputs": []
    },
    {
      "cell_type": "markdown",
      "source": [
        "Mean Squared Error (MSE) measures the average squared difference between predicted and actual values\n",
        "why Squaring them ? because, Squaring the error eliminates negative values and amplifies larger errors, making the optimization process more sensitive to significant deviations"
      ],
      "metadata": {
        "id": "GjGP17uUA2WH"
      }
    },
    {
      "cell_type": "code",
      "source": [
        "input_data = torch.tensor([[1.0,2.0,3.0],[4.0,5,6],[7.0,8,9]])\n",
        "target_data = torch.tensor([[10.0], [20], [30]])"
      ],
      "metadata": {
        "id": "VFZ74b8IkMMd"
      },
      "execution_count": null,
      "outputs": []
    },
    {
      "cell_type": "code",
      "source": [
        "input_data"
      ],
      "metadata": {
        "colab": {
          "base_uri": "https://localhost:8080/"
        },
        "id": "VG2SvbRwlpv-",
        "outputId": "90d5661d-c629-4d4d-b48e-4e9163aa8a3a"
      },
      "execution_count": null,
      "outputs": [
        {
          "output_type": "execute_result",
          "data": {
            "text/plain": [
              "tensor([[1., 2., 3.],\n",
              "        [4., 5., 6.],\n",
              "        [7., 8., 9.]])"
            ]
          },
          "metadata": {},
          "execution_count": 15
        }
      ]
    },
    {
      "cell_type": "code",
      "source": [
        "target_data"
      ],
      "metadata": {
        "colab": {
          "base_uri": "https://localhost:8080/"
        },
        "id": "JlTiPPwelspk",
        "outputId": "878b816f-c470-4678-92cc-c03f53d65d1a"
      },
      "execution_count": null,
      "outputs": [
        {
          "output_type": "execute_result",
          "data": {
            "text/plain": [
              "tensor([[10.],\n",
              "        [20.],\n",
              "        [30.]])"
            ]
          },
          "metadata": {},
          "execution_count": 16
        }
      ]
    },
    {
      "cell_type": "code",
      "source": [
        "epochs = 10\n",
        "for epoch in range(epochs):\n",
        "  model.train()\n",
        "  optimizer.zero_grad()\n",
        "  outputs = model(input_data)\n",
        "  loss = criterion(outputs, target_data)\n",
        "  loss.backward()\n",
        "  optimizer.step()\n",
        "  if(epoch+1)%2==0:\n",
        "    print(f\"epoch [{epoch+1}/{epochs}], loss : {loss.item():.4f}\")"
      ],
      "metadata": {
        "colab": {
          "base_uri": "https://localhost:8080/"
        },
        "id": "sO4OpOp4koeY",
        "outputId": "30ee4491-064d-4c24-d322-702acc559377"
      },
      "execution_count": null,
      "outputs": [
        {
          "output_type": "stream",
          "name": "stdout",
          "text": [
            "epoch [2/10], loss : 66.6667\n",
            "epoch [4/10], loss : 66.6667\n",
            "epoch [6/10], loss : 66.6667\n",
            "epoch [8/10], loss : 66.6667\n",
            "epoch [10/10], loss : 66.6667\n"
          ]
        }
      ]
    },
    {
      "cell_type": "markdown",
      "source": [
        "### **Sentiment analysis with pytorch**"
      ],
      "metadata": {
        "id": "NCdjuGjom7Pt"
      }
    },
    {
      "cell_type": "markdown",
      "source": [
        "Sentiment analysis is the task of classifying the emotional tone of a given text, as positive, negative, or neutral."
      ],
      "metadata": {
        "id": "85Uc2mKhBWmd"
      }
    },
    {
      "cell_type": "code",
      "source": [
        "!pip install datasets"
      ],
      "metadata": {
        "colab": {
          "base_uri": "https://localhost:8080/"
        },
        "id": "q7THKq4gBkzF",
        "outputId": "96356492-8a5b-415e-ec2c-ecc497686722"
      },
      "execution_count": null,
      "outputs": [
        {
          "output_type": "stream",
          "name": "stdout",
          "text": [
            "Collecting datasets\n",
            "  Downloading datasets-3.2.0-py3-none-any.whl.metadata (20 kB)\n",
            "Requirement already satisfied: filelock in /usr/local/lib/python3.10/dist-packages (from datasets) (3.16.1)\n",
            "Requirement already satisfied: numpy>=1.17 in /usr/local/lib/python3.10/dist-packages (from datasets) (1.26.4)\n",
            "Requirement already satisfied: pyarrow>=15.0.0 in /usr/local/lib/python3.10/dist-packages (from datasets) (17.0.0)\n",
            "Collecting dill<0.3.9,>=0.3.0 (from datasets)\n",
            "  Downloading dill-0.3.8-py3-none-any.whl.metadata (10 kB)\n",
            "Requirement already satisfied: pandas in /usr/local/lib/python3.10/dist-packages (from datasets) (2.2.2)\n",
            "Requirement already satisfied: requests>=2.32.2 in /usr/local/lib/python3.10/dist-packages (from datasets) (2.32.3)\n",
            "Requirement already satisfied: tqdm>=4.66.3 in /usr/local/lib/python3.10/dist-packages (from datasets) (4.66.6)\n",
            "Collecting xxhash (from datasets)\n",
            "  Downloading xxhash-3.5.0-cp310-cp310-manylinux_2_17_x86_64.manylinux2014_x86_64.whl.metadata (12 kB)\n",
            "Collecting multiprocess<0.70.17 (from datasets)\n",
            "  Downloading multiprocess-0.70.16-py310-none-any.whl.metadata (7.2 kB)\n",
            "Collecting fsspec<=2024.9.0,>=2023.1.0 (from fsspec[http]<=2024.9.0,>=2023.1.0->datasets)\n",
            "  Downloading fsspec-2024.9.0-py3-none-any.whl.metadata (11 kB)\n",
            "Requirement already satisfied: aiohttp in /usr/local/lib/python3.10/dist-packages (from datasets) (3.11.10)\n",
            "Requirement already satisfied: huggingface-hub>=0.23.0 in /usr/local/lib/python3.10/dist-packages (from datasets) (0.26.5)\n",
            "Requirement already satisfied: packaging in /usr/local/lib/python3.10/dist-packages (from datasets) (24.2)\n",
            "Requirement already satisfied: pyyaml>=5.1 in /usr/local/lib/python3.10/dist-packages (from datasets) (6.0.2)\n",
            "Requirement already satisfied: aiohappyeyeballs>=2.3.0 in /usr/local/lib/python3.10/dist-packages (from aiohttp->datasets) (2.4.4)\n",
            "Requirement already satisfied: aiosignal>=1.1.2 in /usr/local/lib/python3.10/dist-packages (from aiohttp->datasets) (1.3.1)\n",
            "Requirement already satisfied: async-timeout<6.0,>=4.0 in /usr/local/lib/python3.10/dist-packages (from aiohttp->datasets) (4.0.3)\n",
            "Requirement already satisfied: attrs>=17.3.0 in /usr/local/lib/python3.10/dist-packages (from aiohttp->datasets) (24.2.0)\n",
            "Requirement already satisfied: frozenlist>=1.1.1 in /usr/local/lib/python3.10/dist-packages (from aiohttp->datasets) (1.5.0)\n",
            "Requirement already satisfied: multidict<7.0,>=4.5 in /usr/local/lib/python3.10/dist-packages (from aiohttp->datasets) (6.1.0)\n",
            "Requirement already satisfied: propcache>=0.2.0 in /usr/local/lib/python3.10/dist-packages (from aiohttp->datasets) (0.2.1)\n",
            "Requirement already satisfied: yarl<2.0,>=1.17.0 in /usr/local/lib/python3.10/dist-packages (from aiohttp->datasets) (1.18.3)\n",
            "Requirement already satisfied: typing-extensions>=3.7.4.3 in /usr/local/lib/python3.10/dist-packages (from huggingface-hub>=0.23.0->datasets) (4.12.2)\n",
            "Requirement already satisfied: charset-normalizer<4,>=2 in /usr/local/lib/python3.10/dist-packages (from requests>=2.32.2->datasets) (3.4.0)\n",
            "Requirement already satisfied: idna<4,>=2.5 in /usr/local/lib/python3.10/dist-packages (from requests>=2.32.2->datasets) (3.10)\n",
            "Requirement already satisfied: urllib3<3,>=1.21.1 in /usr/local/lib/python3.10/dist-packages (from requests>=2.32.2->datasets) (2.2.3)\n",
            "Requirement already satisfied: certifi>=2017.4.17 in /usr/local/lib/python3.10/dist-packages (from requests>=2.32.2->datasets) (2024.8.30)\n",
            "Requirement already satisfied: python-dateutil>=2.8.2 in /usr/local/lib/python3.10/dist-packages (from pandas->datasets) (2.8.2)\n",
            "Requirement already satisfied: pytz>=2020.1 in /usr/local/lib/python3.10/dist-packages (from pandas->datasets) (2024.2)\n",
            "Requirement already satisfied: tzdata>=2022.7 in /usr/local/lib/python3.10/dist-packages (from pandas->datasets) (2024.2)\n",
            "Requirement already satisfied: six>=1.5 in /usr/local/lib/python3.10/dist-packages (from python-dateutil>=2.8.2->pandas->datasets) (1.17.0)\n",
            "Downloading datasets-3.2.0-py3-none-any.whl (480 kB)\n",
            "\u001b[2K   \u001b[90m━━━━━━━━━━━━━━━━━━━━━━━━━━━━━━━━━━━━━━━━\u001b[0m \u001b[32m480.6/480.6 kB\u001b[0m \u001b[31m27.6 MB/s\u001b[0m eta \u001b[36m0:00:00\u001b[0m\n",
            "\u001b[?25hDownloading dill-0.3.8-py3-none-any.whl (116 kB)\n",
            "\u001b[2K   \u001b[90m━━━━━━━━━━━━━━━━━━━━━━━━━━━━━━━━━━━━━━━━\u001b[0m \u001b[32m116.3/116.3 kB\u001b[0m \u001b[31m10.5 MB/s\u001b[0m eta \u001b[36m0:00:00\u001b[0m\n",
            "\u001b[?25hDownloading fsspec-2024.9.0-py3-none-any.whl (179 kB)\n",
            "\u001b[2K   \u001b[90m━━━━━━━━━━━━━━━━━━━━━━━━━━━━━━━━━━━━━━━━\u001b[0m \u001b[32m179.3/179.3 kB\u001b[0m \u001b[31m16.5 MB/s\u001b[0m eta \u001b[36m0:00:00\u001b[0m\n",
            "\u001b[?25hDownloading multiprocess-0.70.16-py310-none-any.whl (134 kB)\n",
            "\u001b[2K   \u001b[90m━━━━━━━━━━━━━━━━━━━━━━━━━━━━━━━━━━━━━━━━\u001b[0m \u001b[32m134.8/134.8 kB\u001b[0m \u001b[31m11.1 MB/s\u001b[0m eta \u001b[36m0:00:00\u001b[0m\n",
            "\u001b[?25hDownloading xxhash-3.5.0-cp310-cp310-manylinux_2_17_x86_64.manylinux2014_x86_64.whl (194 kB)\n",
            "\u001b[2K   \u001b[90m━━━━━━━━━━━━━━━━━━━━━━━━━━━━━━━━━━━━━━━━\u001b[0m \u001b[32m194.1/194.1 kB\u001b[0m \u001b[31m14.9 MB/s\u001b[0m eta \u001b[36m0:00:00\u001b[0m\n",
            "\u001b[?25hInstalling collected packages: xxhash, fsspec, dill, multiprocess, datasets\n",
            "  Attempting uninstall: fsspec\n",
            "    Found existing installation: fsspec 2024.10.0\n",
            "    Uninstalling fsspec-2024.10.0:\n",
            "      Successfully uninstalled fsspec-2024.10.0\n",
            "\u001b[31mERROR: pip's dependency resolver does not currently take into account all the packages that are installed. This behaviour is the source of the following dependency conflicts.\n",
            "gcsfs 2024.10.0 requires fsspec==2024.10.0, but you have fsspec 2024.9.0 which is incompatible.\u001b[0m\u001b[31m\n",
            "\u001b[0mSuccessfully installed datasets-3.2.0 dill-0.3.8 fsspec-2024.9.0 multiprocess-0.70.16 xxhash-3.5.0\n"
          ]
        }
      ]
    },
    {
      "cell_type": "code",
      "source": [
        "import numpy as np\n",
        "from sklearn.model_selection import train_test_split\n",
        "import matplotlib.pyplot as plt\n",
        "from torch.utils.data import DataLoader, TensorDataset\n",
        "from datasets import load_dataset\n",
        "import gensim.downloader as api"
      ],
      "metadata": {
        "id": "PkxOui1mm6cU"
      },
      "execution_count": null,
      "outputs": []
    },
    {
      "cell_type": "code",
      "source": [
        "# let's download pre-trained word embedding"
      ],
      "metadata": {
        "id": "AVi2LsCRGLX7"
      },
      "execution_count": null,
      "outputs": []
    },
    {
      "cell_type": "markdown",
      "source": [
        "Word embeddings represent words as dense vectors in a high-dimensional space, capturing semantic and syntactic relationships. 1  They are trained on large text corpora using techniques like Word2Vec or GloVe by optimizing a loss function that encourages similar words to have nearby vectors. The values in each dimension don't have direct interpretations but collectively encode the word's meaning and context within the vector space"
      ],
      "metadata": {
        "id": "CuUrvg8hGZCo"
      }
    },
    {
      "cell_type": "code",
      "source": [
        "def load_word2vec_model():\n",
        "  wmodel = api.load(\"word2vec-google-news-300\")\n",
        "  print(\"done word2vec\")\n",
        "  return wmodel\n",
        "\n",
        "word2vec_model  = load_word2vec_model()"
      ],
      "metadata": {
        "colab": {
          "base_uri": "https://localhost:8080/"
        },
        "id": "kOFSdCg7n-GD",
        "outputId": "96708fd6-1a08-4eb2-d033-71f058c913fb"
      },
      "execution_count": null,
      "outputs": [
        {
          "output_type": "stream",
          "name": "stdout",
          "text": [
            "[==================================================] 100.0% 1662.8/1662.8MB downloaded\n",
            "done word2vec\n"
          ]
        }
      ]
    },
    {
      "cell_type": "markdown",
      "source": [
        "A tokenizer breaks down text into smaller units (tokens) like words, subwords, or characters, making it suitable for machine learning models"
      ],
      "metadata": {
        "id": "ymarIkd4GeAD"
      }
    },
    {
      "cell_type": "code",
      "source": [
        "import nltk\n",
        "import re\n",
        "from nltk.tokenize import word_tokenize\n",
        "nltk.download('punkt_tab')"
      ],
      "metadata": {
        "colab": {
          "base_uri": "https://localhost:8080/"
        },
        "id": "CrZaM-H5ogXT",
        "outputId": "f8990c12-4905-40ae-cdcc-a143cf7bdbd4"
      },
      "execution_count": null,
      "outputs": [
        {
          "output_type": "stream",
          "name": "stderr",
          "text": [
            "[nltk_data] Downloading package punkt_tab to /root/nltk_data...\n",
            "[nltk_data]   Unzipping tokenizers/punkt_tab.zip.\n"
          ]
        },
        {
          "output_type": "execute_result",
          "data": {
            "text/plain": [
              "True"
            ]
          },
          "metadata": {},
          "execution_count": 24
        }
      ]
    },
    {
      "cell_type": "markdown",
      "source": [
        "This function takes in a sentence and converts it into a single vector of 300 dimensions after cleaning"
      ],
      "metadata": {
        "id": "bwqLt-D0Glc0"
      }
    },
    {
      "cell_type": "code",
      "source": [
        "def text_to_embedding(text, model):\n",
        "  cleaned_text = re.sub(r'[^a-zA-Z\\s]', ' ', text.lower())\n",
        "  tokens = word_tokenize(cleaned_text)\n",
        "  embeddings = [model[word] for word in tokens if word in model]\n",
        "  return np.mean(embeddings, axis=0) if embeddings else np.zeroes(model.vector_size)"
      ],
      "metadata": {
        "id": "0uuwZqJ7o34m"
      },
      "execution_count": null,
      "outputs": []
    },
    {
      "cell_type": "code",
      "source": [
        "text_to_embedding(\"i am good\", word2vec_model)"
      ],
      "metadata": {
        "colab": {
          "base_uri": "https://localhost:8080/"
        },
        "id": "wlcACnMQGswD",
        "outputId": "b402fa08-b86b-4b7a-b69a-f267a631f64f"
      },
      "execution_count": null,
      "outputs": [
        {
          "output_type": "execute_result",
          "data": {
            "text/plain": [
              "array([-0.11735026, -0.0078125 ,  0.0435791 ,  0.08544922,  0.00106176,\n",
              "        0.05177816, -0.02478027,  0.03033447,  0.06461588,  0.08056641,\n",
              "       -0.03566488, -0.11425781, -0.01570638, -0.07128906, -0.04793294,\n",
              "        0.08919271,  0.06486002,  0.18929036,  0.10400391, -0.05533854,\n",
              "       -0.14729817,  0.09505209,  0.13289388,  0.07340495,  0.03792318,\n",
              "        0.13069661, -0.22184245, -0.0394694 ,  0.09330241, -0.07061768,\n",
              "        0.08268229, -0.03306071, -0.02563477, -0.11328125,  0.0546875 ,\n",
              "        0.19335938, -0.08870443,  0.07271322, -0.09114584,  0.03857422,\n",
              "        0.17425537, -0.11458334,  0.22786458,  0.05210368,  0.08072916,\n",
              "        0.07324219,  0.03255208, -0.01220703, -0.03092448, -0.10205078,\n",
              "        0.08654785,  0.15218098,  0.03279622,  0.14860027,  0.01888021,\n",
              "        0.13216145, -0.0538737 , -0.04882812, -0.00032552, -0.13435872,\n",
              "       -0.00537109,  0.13063557, -0.2491862 , -0.04353841,  0.05940755,\n",
              "       -0.11132812, -0.03100586,  0.1336263 , -0.14292145,  0.02172852,\n",
              "        0.10734049,  0.06811523,  0.0666097 ,  0.0464681 , -0.20117188,\n",
              "       -0.05908203,  0.00577799, -0.09077962,  0.14225261,  0.15681966,\n",
              "       -0.0394694 , -0.01031494,  0.11730957,  0.00439453, -0.05377197,\n",
              "        0.02067057, -0.03995768,  0.16129558, -0.00042725,  0.0871582 ,\n",
              "       -0.01961263,  0.04313151,  0.09822591, -0.05600993, -0.06013997,\n",
              "        0.0390625 , -0.00815837,  0.02872721,  0.15468343, -0.01350911,\n",
              "       -0.07242838,  0.01015218, -0.03662109,  0.08398438,  0.02880859,\n",
              "        0.09620667,  0.01566569, -0.01383464,  0.04779053, -0.20703125,\n",
              "       -0.03662109, -0.08740234,  0.01859538, -0.02003988,  0.16113281,\n",
              "       -0.02815755,  0.00776164, -0.20052083,  0.09240723, -0.11173502,\n",
              "        0.12060547, -0.05700684, -0.06522623,  0.12695312, -0.06953939,\n",
              "       -0.05305989, -0.11376953,  0.04459636,  0.09981283,  0.04288737,\n",
              "       -0.3095703 , -0.16552734, -0.10660807, -0.01371257, -0.14351399,\n",
              "       -0.10660807,  0.02587891,  0.04488118,  0.15405273,  0.14304607,\n",
              "       -0.00642904,  0.11458334,  0.13753255, -0.08170573, -0.23649089,\n",
              "        0.02649943, -0.08968099, -0.14860027,  0.07863871, -0.08349609,\n",
              "        0.08129883,  0.02848307, -0.13557942,  0.18847656, -0.10782877,\n",
              "       -0.05237325,  0.05794271,  0.0061849 , -0.13500977,  0.03006999,\n",
              "        0.04353841,  0.03938802, -0.04817708,  0.05924479,  0.05967204,\n",
              "       -0.17350261,  0.07405599,  0.09960938,  0.05192057,  0.03173828,\n",
              "       -0.27604166, -0.05332438,  0.08929443, -0.03710938, -0.03973389,\n",
              "        0.09147135,  0.24934895, -0.09586588,  0.1050415 , -0.13273112,\n",
              "       -0.03955078, -0.04663086,  0.02079137, -0.02087402, -0.11035156,\n",
              "        0.05192057, -0.17285156,  0.11458334,  0.0480957 , -0.12027995,\n",
              "       -0.08988444,  0.12976074, -0.14697266, -0.08511988,  0.08194987,\n",
              "        0.07340495, -0.08064779, -0.04410807, -0.11391195, -0.1899414 ,\n",
              "       -0.12125651,  0.04475911, -0.04858398, -0.11604818, -0.11246745,\n",
              "       -0.09041341, -0.11979166,  0.07039642, -0.00732422,  0.17350261,\n",
              "       -0.01757812,  0.04443359, -0.13208008, -0.03405762, -0.16971843,\n",
              "        0.02832031,  0.20166016, -0.04694621, -0.13151042, -0.03662109,\n",
              "       -0.09814453, -0.01363118,  0.0094401 ,  0.01163737,  0.10180664,\n",
              "       -0.2241211 ,  0.02408854,  0.02840169, -0.05761719, -0.01285807,\n",
              "        0.09830729, -0.02994792, -0.06616211, -0.02360026,  0.11914062,\n",
              "        0.02006277, -0.04604085,  0.05631511,  0.0612793 ,  0.05973307,\n",
              "        0.20540364,  0.16259766,  0.06640625, -0.05167389, -0.1726888 ,\n",
              "       -0.04500325, -0.08060709,  0.01635742, -0.15656786, -0.12548828,\n",
              "        0.11303711,  0.11539713,  0.05257161,  0.13834636,  0.13330078,\n",
              "       -0.05423482,  0.11971029,  0.03983561, -0.07757568, -0.11132812,\n",
              "        0.03922526, -0.09977213,  0.03011068, -0.05159505, -0.02274577,\n",
              "        0.16821289, -0.04400635, -0.08752441, -0.04191081, -0.04654948,\n",
              "       -0.0135498 ,  0.00976562,  0.08837891,  0.06567383,  0.08996582,\n",
              "       -0.0526123 , -0.02815755, -0.22493489, -0.15022786,  0.08642578,\n",
              "        0.01765951,  0.05216471,  0.01090749,  0.04492188,  0.01017253,\n",
              "       -0.00309245,  0.01041667, -0.13000488, -0.10001627,  0.07617188,\n",
              "        0.0696818 ,  0.18001302, -0.13541667, -0.01106771, -0.02514648,\n",
              "       -0.02762858, -0.12308756, -0.06075032, -0.01953888,  0.00270589],\n",
              "      dtype=float32)"
            ]
          },
          "metadata": {},
          "execution_count": 45
        }
      ]
    },
    {
      "cell_type": "markdown",
      "source": [
        "#### dataset - IMBD movie review"
      ],
      "metadata": {
        "id": "CUjU2xzXGwCq"
      }
    },
    {
      "cell_type": "code",
      "source": [
        "dataset = load_dataset(\"imdb\", split='train')"
      ],
      "metadata": {
        "colab": {
          "base_uri": "https://localhost:8080/",
          "height": 348,
          "referenced_widgets": [
            "a76bd9c3227244e4897caca2cf245fdd",
            "863df3832d8d4092b70ce63393780a33",
            "d4f995d1478d45e89f0e5fa09e59cf37",
            "30c7c863735346b58f41ede03a53778d",
            "098b0f051cf247769c65b744dc9ce885",
            "f9c4eb487b78493e8dc9c0ad7fb58f0d",
            "36715424b6134944a5dc91220ca9ccb9",
            "f2f89f0f381a44d9916ea63f02b41415",
            "994ff0f1942748c1bb7feba445fe8b6d",
            "cdac47bea7954cb6a198144670794b0a",
            "91d245bf4913415aa6f5d8fdba6ea9fc",
            "b37a7abeac6d4f4cb9518cb13f06f8c0",
            "8cc21e23bb914240bcb16c3bd27b5d40",
            "73beb22b0866402f8c7866ba72598b2e",
            "078711d3f18f4aafa0faebf95d2572ad",
            "cb39e7d77f9d490cb1cbf0e58f083be4",
            "7cd18bb1cfe8498c9fec5e0b905d9bba",
            "1e5896f5d2e4440b8665acf3a6fedaec",
            "1e983af956d8494bab85f31f7672ecfa",
            "105d2dd0ce0b46f3aa3fc72b78198c74",
            "7e0ad2cc7ee04a9da1ae987efa8de5cb",
            "6997da58373a40c5a4a2a76f51296278",
            "44c66e60e5c24adbb27aa0ddd60fd82d",
            "19e2842f55a74da182b43d1f303cd4e2",
            "6e0760d5391f4f82a0c02630aa9e5c1c",
            "476cab3f635241bc9b289eb179c58294",
            "ea1a7a5211cf4bc0979b7c207b4d7cad",
            "d4b7b00477514830b144cefa700af7d8",
            "46cad5fbfd584658aa1e3062388561b0",
            "2c7a5311b69743a596fd5c0773085a67",
            "9b30fad60693486b84020fc17a74c292",
            "86b52d2210394afc880feb5b2ba03961",
            "1fd55a270ca949369c3a8ae315ad79cc",
            "c07e4afa57b64d75a59a354147852bd6",
            "6e9257d042cc47bf81588488d25b9da6",
            "7d8437d2cff940e288cea87d0b76a762",
            "26c77ed1b98a4e218fabe9d794a8558b",
            "bdb5594db7564dd491968ee460cce062",
            "561fb168ecf74da7846d517df62ace8d",
            "0c450a1621be441da57b854eec3f7820",
            "a8c9274f6adb4dee944ef8582837fe82",
            "46c4d354612647fe9176ea6c676a15e5",
            "5cc94f7000214d0e87ebcb19ea79b85f",
            "a12b0aebdc1b4028a3ebadfce10d4eff",
            "5cca6366d2934de88ff30b79efb99b41",
            "a07f4755f6d14653899b521f5df869c1",
            "dde9bf290e6a420baeb73183f73a1ae1",
            "9ae2a639089b409da6174c19d28869a7",
            "b00803b6723b4bf08d6a14b4d0a2f27c",
            "ce3a3c463bfa410f8b9ace833bc234be",
            "03e82318f9f14337b0e54119288f8043",
            "c2353f2d8f80470fbb0a7fc61f95a4f7",
            "201f37dc83eb41bb91268cbc6ff545df",
            "0a419cdea47444fe9ddeb67aa23acc14",
            "a265fd3b4fcc4b1ea75f1230749e6890",
            "f914819911244389ae4cb353293cea40",
            "4cef8b9ab363438ab7c82c255fea774c",
            "439edc6e618e49ca85f71d70fafd1a7a",
            "4d40775ceb984b3fa5fbe3686bfe4d2a",
            "ebd6bd14bcc1400a83ec6ce616cd4924",
            "5d55867b25ee41e48d1ee4b4b65bdb23",
            "9f4920315f124490bd002fbbab092389",
            "a6e1b8a696ab4ba5987caf21d9b0e138",
            "00c1cf4b99ad407fbaa80faaa6c94298",
            "9b4310503f654c0185ed85d1f273608a",
            "c3dc6a444a3f41b4866c764de7680b22",
            "e19b8e64d0bf4effb8ec3e62cd41924f",
            "d19b0d5167e74eae92efb075f4d348c8",
            "f2f5e8d397e44237bb783a11ade3f9fd",
            "ee71e68a856f444992a9acbf8b981f88",
            "eea747f3d1db4017952a36bf86932976",
            "8136672966334841af868d9ea8deaf69",
            "6936cb0f89e6456cad8e8ba2fa211b1e",
            "512204b2c4c24216862a55c333f6132b",
            "51fb48d2c8bc4026a5ffae989ab560ae",
            "41853cb60d9d4db886c8344cf4b519d0",
            "32f8ec0b75ff4d11b829e95731a57329"
          ]
        },
        "id": "pdNGOb09rLCu",
        "outputId": "1535dfee-e403-4881-acc3-f255dc694cd9"
      },
      "execution_count": null,
      "outputs": [
        {
          "output_type": "stream",
          "name": "stderr",
          "text": [
            "/usr/local/lib/python3.10/dist-packages/huggingface_hub/utils/_auth.py:104: UserWarning: \n",
            "Error while fetching `HF_TOKEN` secret value from your vault: 'Requesting secret HF_TOKEN timed out. Secrets can only be fetched when running from the Colab UI.'.\n",
            "You are not authenticated with the Hugging Face Hub in this notebook.\n",
            "If the error persists, please let us know by opening an issue on GitHub (https://github.com/huggingface/huggingface_hub/issues/new).\n",
            "  warnings.warn(\n"
          ]
        },
        {
          "output_type": "display_data",
          "data": {
            "text/plain": [
              "README.md:   0%|          | 0.00/7.81k [00:00<?, ?B/s]"
            ],
            "application/vnd.jupyter.widget-view+json": {
              "version_major": 2,
              "version_minor": 0,
              "model_id": "a76bd9c3227244e4897caca2cf245fdd"
            }
          },
          "metadata": {}
        },
        {
          "output_type": "display_data",
          "data": {
            "text/plain": [
              "train-00000-of-00001.parquet:   0%|          | 0.00/21.0M [00:00<?, ?B/s]"
            ],
            "application/vnd.jupyter.widget-view+json": {
              "version_major": 2,
              "version_minor": 0,
              "model_id": "b37a7abeac6d4f4cb9518cb13f06f8c0"
            }
          },
          "metadata": {}
        },
        {
          "output_type": "display_data",
          "data": {
            "text/plain": [
              "test-00000-of-00001.parquet:   0%|          | 0.00/20.5M [00:00<?, ?B/s]"
            ],
            "application/vnd.jupyter.widget-view+json": {
              "version_major": 2,
              "version_minor": 0,
              "model_id": "44c66e60e5c24adbb27aa0ddd60fd82d"
            }
          },
          "metadata": {}
        },
        {
          "output_type": "display_data",
          "data": {
            "text/plain": [
              "unsupervised-00000-of-00001.parquet:   0%|          | 0.00/42.0M [00:00<?, ?B/s]"
            ],
            "application/vnd.jupyter.widget-view+json": {
              "version_major": 2,
              "version_minor": 0,
              "model_id": "c07e4afa57b64d75a59a354147852bd6"
            }
          },
          "metadata": {}
        },
        {
          "output_type": "display_data",
          "data": {
            "text/plain": [
              "Generating train split:   0%|          | 0/25000 [00:00<?, ? examples/s]"
            ],
            "application/vnd.jupyter.widget-view+json": {
              "version_major": 2,
              "version_minor": 0,
              "model_id": "5cca6366d2934de88ff30b79efb99b41"
            }
          },
          "metadata": {}
        },
        {
          "output_type": "display_data",
          "data": {
            "text/plain": [
              "Generating test split:   0%|          | 0/25000 [00:00<?, ? examples/s]"
            ],
            "application/vnd.jupyter.widget-view+json": {
              "version_major": 2,
              "version_minor": 0,
              "model_id": "f914819911244389ae4cb353293cea40"
            }
          },
          "metadata": {}
        },
        {
          "output_type": "display_data",
          "data": {
            "text/plain": [
              "Generating unsupervised split:   0%|          | 0/50000 [00:00<?, ? examples/s]"
            ],
            "application/vnd.jupyter.widget-view+json": {
              "version_major": 2,
              "version_minor": 0,
              "model_id": "e19b8e64d0bf4effb8ec3e62cd41924f"
            }
          },
          "metadata": {}
        }
      ]
    },
    {
      "cell_type": "markdown",
      "source": [
        "Preparing the data"
      ],
      "metadata": {
        "id": "6rhp4hdeHHwH"
      }
    },
    {
      "cell_type": "code",
      "source": [
        "X = np.array([text_to_embedding(text, word2vec_model) for text in dataset['text']])\n",
        "y = np.array(dataset['label'])"
      ],
      "metadata": {
        "id": "NjbkWLvAqtOT"
      },
      "execution_count": null,
      "outputs": []
    },
    {
      "cell_type": "code",
      "source": [
        "# Fix issue with converting labels to integers\n",
        "y = y.astype(int)\n",
        "\n",
        "\n",
        "# Split into training and validation sets\n",
        "X_train, X_val, y_train, y_val = train_test_split(X, y, test_size=0.2, random_state=42)\n",
        "\n",
        "# 1. Check if GPU is available and set device\n",
        "device = torch.device(\"cuda\" if torch.cuda.is_available() else \"cpu\")\n",
        "print(f\"Using device: {device}\")\n",
        "\n",
        "# Convert to PyTorch tensors\n",
        "X_train_tensor = torch.tensor(X_train, dtype=torch.float32).to(device)\n",
        "X_val_tensor = torch.tensor(X_val, dtype=torch.float32).to(device)\n",
        "y_train_tensor = torch.tensor(y_train, dtype=torch.long).to(device)\n",
        "y_val_tensor = torch.tensor(y_val, dtype=torch.long).to(device)\n",
        "\n",
        "\n",
        "# Create DataLoader for batching\n",
        "train_data = TensorDataset(X_train_tensor, y_train_tensor)\n",
        "val_data = TensorDataset(X_val_tensor, y_val_tensor)"
      ],
      "metadata": {
        "colab": {
          "base_uri": "https://localhost:8080/"
        },
        "id": "Ub4KXYRirxlO",
        "outputId": "7bc91461-6be2-46cc-de68-8ebce4a44dd2"
      },
      "execution_count": null,
      "outputs": [
        {
          "output_type": "stream",
          "name": "stdout",
          "text": [
            "Using device: cuda\n"
          ]
        }
      ]
    },
    {
      "cell_type": "code",
      "source": [
        "train_loader = DataLoader(train_data, batch_size=64, shuffle=True)\n",
        "val_loader = DataLoader(val_data, batch_size=64, shuffle=False)"
      ],
      "metadata": {
        "id": "XzW1ZOd9sAl5"
      },
      "execution_count": null,
      "outputs": []
    },
    {
      "cell_type": "markdown",
      "source": [
        "Preparing the model"
      ],
      "metadata": {
        "id": "zDT7ZyruHMuK"
      }
    },
    {
      "cell_type": "code",
      "source": [
        "# 4. Define MLP Model\n",
        "class MLPModel(nn.Module):\n",
        "    def __init__(self, input_dim, hidden_dim=128):\n",
        "        super(MLPModel, self).__init__()\n",
        "        self.fc1 = nn.Linear(input_dim, hidden_dim)\n",
        "        self.fc2 = nn.Linear(hidden_dim, 2)  # Binary classification (positive/negative)\n",
        "        self.relu = nn.ReLU()\n",
        "        self.softmax = nn.Softmax(dim=1)\n",
        "\n",
        "\n",
        "    def forward(self, x):\n",
        "        x = self.relu(self.fc1(x))\n",
        "        x = self.fc2(x)\n",
        "        return self.softmax(x)"
      ],
      "metadata": {
        "id": "D0s4Frd3HEmG"
      },
      "execution_count": null,
      "outputs": []
    },
    {
      "cell_type": "markdown",
      "source": [
        "![image.png](data:image/png;base64,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)"
      ],
      "metadata": {
        "id": "LiUrN17TkBIU"
      }
    },
    {
      "cell_type": "code",
      "source": [
        "# Instantiate model and move it to the GPU\n",
        "model = MLPModel(input_dim=X_train.shape[1]).to(device)\n",
        "print(model)  # This will print out the architecture of the neural network\n",
        "from torchsummary import summary\n",
        "summary(model, (X_train.shape[1],))  # Show model architecture summary"
      ],
      "metadata": {
        "colab": {
          "base_uri": "https://localhost:8080/"
        },
        "id": "m2yv25pauSQi",
        "outputId": "c4024b33-6bad-46f0-cc22-25cffc9de490"
      },
      "execution_count": null,
      "outputs": [
        {
          "output_type": "stream",
          "name": "stdout",
          "text": [
            "MLPModel(\n",
            "  (fc1): Linear(in_features=300, out_features=128, bias=True)\n",
            "  (fc2): Linear(in_features=128, out_features=2, bias=True)\n",
            "  (relu): ReLU()\n",
            "  (softmax): Softmax(dim=1)\n",
            ")\n",
            "----------------------------------------------------------------\n",
            "        Layer (type)               Output Shape         Param #\n",
            "================================================================\n",
            "            Linear-1                  [-1, 128]          38,528\n",
            "              ReLU-2                  [-1, 128]               0\n",
            "            Linear-3                    [-1, 2]             258\n",
            "           Softmax-4                    [-1, 2]               0\n",
            "================================================================\n",
            "Total params: 38,786\n",
            "Trainable params: 38,786\n",
            "Non-trainable params: 0\n",
            "----------------------------------------------------------------\n",
            "Input size (MB): 0.00\n",
            "Forward/backward pass size (MB): 0.00\n",
            "Params size (MB): 0.15\n",
            "Estimated Total Size (MB): 0.15\n",
            "----------------------------------------------------------------\n"
          ]
        }
      ]
    },
    {
      "cell_type": "code",
      "source": [
        "# 6. Train the model and plot the loss\n",
        "criterion = nn.CrossEntropyLoss()\n",
        "optimizer = optim.Adam(model.parameters(), lr=0.001)\n",
        "\n",
        "train_losses = []\n",
        "val_losses = []\n",
        "for epoch in range(10):  # Number of epochs\n",
        "    model.train()\n",
        "    running_loss = 0.0\n",
        "    for inputs, labels in train_loader:\n",
        "        inputs, labels = inputs.to(device), labels.to(device)  # Move data to GPU\n",
        "        optimizer.zero_grad()\n",
        "        outputs = model(inputs)\n",
        "        loss = criterion(outputs, labels)\n",
        "        loss.backward()\n",
        "        optimizer.step()\n",
        "        running_loss += loss.item()\n",
        "\n",
        "    train_losses.append(running_loss / len(train_loader))\n",
        "\n",
        "\n",
        "    # Validation loss\n",
        "    model.eval()\n",
        "    val_loss = 0.0\n",
        "    with torch.no_grad():\n",
        "        for inputs, labels in val_loader:\n",
        "            inputs, labels = inputs.to(device), labels.to(device)  # Move data to GPU\n",
        "            outputs = model(inputs)\n",
        "            loss = criterion(outputs, labels)\n",
        "            val_loss += loss.item()\n",
        "\n",
        "    val_losses.append(val_loss / len(val_loader))\n",
        "\n",
        "\n",
        "    print(f\"Epoch [{epoch+1}/10], Training Loss: {train_losses[-1]:.4f}, Validation Loss: {val_losses[-1]:.4f}\")"
      ],
      "metadata": {
        "colab": {
          "base_uri": "https://localhost:8080/"
        },
        "id": "k6qJe6-lusFO",
        "outputId": "0688986a-bd2d-44a6-bbc2-b201e8be3a09"
      },
      "execution_count": null,
      "outputs": [
        {
          "output_type": "stream",
          "name": "stdout",
          "text": [
            "Epoch [1/10], Training Loss: 0.5862, Validation Loss: 0.5079\n",
            "Epoch [2/10], Training Loss: 0.4906, Validation Loss: 0.4826\n",
            "Epoch [3/10], Training Loss: 0.4746, Validation Loss: 0.4726\n",
            "Epoch [4/10], Training Loss: 0.4665, Validation Loss: 0.4674\n",
            "Epoch [5/10], Training Loss: 0.4617, Validation Loss: 0.4637\n",
            "Epoch [6/10], Training Loss: 0.4595, Validation Loss: 0.4644\n",
            "Epoch [7/10], Training Loss: 0.4568, Validation Loss: 0.4625\n",
            "Epoch [8/10], Training Loss: 0.4544, Validation Loss: 0.4622\n",
            "Epoch [9/10], Training Loss: 0.4530, Validation Loss: 0.4592\n",
            "Epoch [10/10], Training Loss: 0.4524, Validation Loss: 0.4642\n"
          ]
        }
      ]
    },
    {
      "cell_type": "code",
      "source": [
        "# 7. Plot the training and validation loss\n",
        "plt.plot(train_losses, label='Training Loss')\n",
        "plt.plot(val_losses, label='Validation Loss')\n",
        "plt.xlabel('Epoch')\n",
        "plt.ylabel('Loss')\n",
        "plt.legend()\n",
        "plt.title('Training and Validation Loss')\n",
        "plt.show()"
      ],
      "metadata": {
        "colab": {
          "base_uri": "https://localhost:8080/",
          "height": 472
        },
        "id": "bCI-L580EkTH",
        "outputId": "6cc95701-bedb-454c-be76-0a10ee760d0e"
      },
      "execution_count": null,
      "outputs": [
        {
          "output_type": "display_data",
          "data": {
            "text/plain": [
              "<Figure size 640x480 with 1 Axes>"
            ],
            "image/png": "[encoded data removed]"
          },
          "metadata": {}
        }
      ]
    },
    {
      "cell_type": "code",
      "source": [
        "\n",
        "# 8. Save and load the model\n",
        "torch.save(model.state_dict(), 'sentiment_model.pth')  # Save model\n",
        "print(\"Model saved!\")\n",
        "\n",
        "\n",
        "# Load the model\n",
        "loaded_model = MLPModel(input_dim=X_train.shape[1]).to(device)\n",
        "loaded_model.load_state_dict(torch.load('sentiment_model.pth'))\n",
        "loaded_model.eval()"
      ],
      "metadata": {
        "colab": {
          "base_uri": "https://localhost:8080/"
        },
        "id": "H0nFPxUqFIa_",
        "outputId": "18d308a7-4764-42e6-8386-8abd6981228e"
      },
      "execution_count": null,
      "outputs": [
        {
          "output_type": "stream",
          "name": "stdout",
          "text": [
            "Model saved!\n"
          ]
        },
        {
          "output_type": "stream",
          "name": "stderr",
          "text": [
            "<ipython-input-36-94ceb0b944ed>:8: FutureWarning: You are using `torch.load` with `weights_only=False` (the current default value), which uses the default pickle module implicitly. It is possible to construct malicious pickle data which will execute arbitrary code during unpickling (See https://github.com/pytorch/pytorch/blob/main/SECURITY.md#untrusted-models for more details). In a future release, the default value for `weights_only` will be flipped to `True`. This limits the functions that could be executed during unpickling. Arbitrary objects will no longer be allowed to be loaded via this mode unless they are explicitly allowlisted by the user via `torch.serialization.add_safe_globals`. We recommend you start setting `weights_only=True` for any use case where you don't have full control of the loaded file. Please open an issue on GitHub for any issues related to this experimental feature.\n",
            "  loaded_model.load_state_dict(torch.load('sentiment_model.pth'))\n"
          ]
        },
        {
          "output_type": "execute_result",
          "data": {
            "text/plain": [
              "MLPModel(\n",
              "  (fc1): Linear(in_features=300, out_features=128, bias=True)\n",
              "  (fc2): Linear(in_features=128, out_features=2, bias=True)\n",
              "  (relu): ReLU()\n",
              "  (softmax): Softmax(dim=1)\n",
              ")"
            ]
          },
          "metadata": {},
          "execution_count": 36
        }
      ]
    },
    {
      "cell_type": "markdown",
      "source": [
        "check here\n",
        "![image.png](data:image/png;base64,iVBORw0KGgoAAAANSUhEUgAAAi0AAAGRCAYAAACpCYPhAAAAAXNSR0IArs4c6QAAAARnQU1BAACxjwv8YQUAAAAJcEhZcwAADsMAAA7DAcdvqGQAAFC9SURBVHhe7d15XFTl4gbwZ4Zh30TAMLcRUUFzZTFFzdTEJS+aJlpXS8zM1LJQtOz+bNXEa9pyo1KpNHPJDcUtFVdcwH0hEEXUFET2RQQHzu+Py5zLHAadQbYDz/fzOZ+a933PGWZAeObdjkIQBAFEREREBkhISEDbtm2lxTVCKS0gIiIiqosYWoiIiEgWGFqIiIhIFhhaiIiISBYYWoiIiEgWGFqIiIhIFhhaiIiISBYYWoiIiEgWGFqIiIhIFhhaiIiISBYYWoiIiEgWGFqIiIhIFhhaiIiISBYYWoiIiEgWGFqIiIhIFhhaiIiISBYYWoiIiEgWGFqIiIhIFhhaiIiISBYYWoiIiEgWGFqIiIhIFhhaiIiISBYUgiAI0kIiIqK6SKPRIDc3FyUlJdKqKmdubg4bGxtpcYOXkJCAtm3bSotrBEMLERHJQkxMDH755RcUFBRIq6qFQqHAM888gzfffBPW1tbS6garNkMLh4eIiKjOS05Oxu+//15jgQUABEHAxYsXER4eLq2qMYIg4NKlS0hJSZFWGSUnJwcxMTE10kNVlYqKirB582aEhoYiNDSUoYWIiOq+GzduIDs7GwCgUqlgb29v9GFjYwOFQiG99GNdvXq1RsOSliAIOHz4ML755hssWbIEt2/fljYxSE5ODr7++mv88MMP2LRpk6yCS3FxMS5duoSYmBjExMRweIiIiOq+EydO4KeffgIAqNVqzJ49G5aWltJmj3TlyhUsXboUhYWF0qpHquzzPSnp1+vo6IiZM2eiWbNm0qYV0gaW69evAwCUSiUmTpwIX19faVOD1eTwUFFRESIiInD37l2Aw0NERER1U9u2bTF27FioVCoAQHp6OpYtW2Zwj4s0sCgUCvj5+aFnz57SpnWWmZkZXnrpJUydOhVTp059stCi0WiQmZmJ7OxssMOGiIio6igUCvTt2xevvvqq0cFFX2AZPHgwRo0aBaXyif7016pKf+Xnzp3D+++/j6CgILz33nv48ssvkZ+fL21GRERElVSZ4FJfAwsqu+Q5NTUVixcvRnp6uk65r68vAgMDoVAokJeXh82bN1dJkHnqqafw4osvwszMTFpFREQNQEOc01KWdlLumjVroNFogArmuNREYKnJOS1SlXoFN27cQEZGhrQYCQkJyMnJAQAUFhbi3Llz4ozfJzkuXbqE4uJi6dMRERE1CIb0uNREYKltleppOXPmDL7//vtyy6ZatmyJ4OBgWFlZIT09HV988QWysrJ02lRGXUi5RERUe6qip8WY3XTPnTuHNWvWAE/wfNWhoh6XSZMm4Y8//qiRwFKbPS2VCi0FBQX46quvcO3aNbFMoVDgxRdfxMiRI4HSnpYLFy7gwYMHZc6sHDs7OzzzzDMwMTGRVhERUQNQFaHFGDX9fMbQF1zKqs7AAjmGFgDIyMjAL7/8gtjYWJiammLQoEEYPny42G3VkGk0GmRlZcHW1hbm5ubSaiIiMlJNh4iafj5jVRRcqjuwoJZDS6VfUePGjfH+++9jxYoVCA0NxciRI+tdYElNTUWvXr2gVqsfewQEBCA/Px+5ubl47bXX4OXlhZ49e+Kvv/4SrxcaGgq1Wg0PDw9cvHhR57mIiIgMpVAo0LVrVzRt2lSn3N7eHj179qy2wFLb6uerqkVJSUk4c+YMUNobFRUVJW1CRET0RHJycvDNN9/g1q1bOuVZWVn4+uuvK1wOLXcMLQZSKpVwcXFB06ZN9R7Ozs5QKBR4+umn0aJFC6B0Lo6cdh4kIqK6T98qodatW1e4qqg+qXRoKSgowKpVqzBr1ix8+OGHOHr0aL3eFdfb2xv79+/H8ePH9R7fffcdrKys4OjoiK1bt2LNmjXYs2cPOnbsKL0UERFRpegLLIMHD8a8efMeuRy6vqhUaCksLMQ333yDgwcPIiMjAykpKfj5559x4MABnTYxMTE4cuTIEx/nz5+X1T4tVlZW8PX1LTfWaCiNRoO0tDRxzxtDCIKAzMxMpKeny+q9IiIiw1QUWLSTbh+3j0t9UKnQcuXKFSQmJuqUCYKAo0ePirfvzsvLw9q1a/Hzzz8/8REeHo6ioiKd56vLPvvsM/Ts2RMvv/xyuV2DH+XChQsYOXIk3Nzc4OXlhc6dO8PNzQ1z585FcnKytDkAIDk5GcHBwWjTpg26desGT09PtGnTBmPGjMGFCxekzYmISIYeF1i0ZfU9uFQqtDx48EDv2vD79+/LKlxUl6ysLCQnJ+P27dsG9XoIgoDly5fjH//4B86ePatTp9FosG7dOgwbNqxcCImLi8NLL72EDRs2lNssKTo6GiNGjMCuXbt0yomISF4MCSxa9T24VCq0NG/eHHZ2dtJiuLi4wMbGBiiduGpnZwd7e/snPmxtbaFQKKRPV2/s3r0bCxcuBAC0atUKP/zwA6Kjo3Hw4EHMmDEDSqUSGRkZmDVrlthzIwgCVqxYgeTkZCiVSsycORNRUVE4fvw4Fi1aBBsbG5SUlOD7779Hamqq5BmJiEgOjAksWvU5uFR6c7moqCisXr1a7Flp0qQJZs6cCRcXF2lT2UpNTcWIESNw584daZWOp59+Glu3bkWTJk0AAEFBQdi0aVO58tDQUCxatAiWlpbYsGEDOnXqhNzcXIwfPx7nzp1D69at8dtvv+nc/AoAIiIiMGPGDAiCgAULFuCVV15Bfn4+AgMDcfLkSXh7e+OXX36BtbW1eM7ly5eRnZ2NHj16cCdhIpK9mt7sraafT5/KBJay9G1Ap+8mi8aS5eZyvr6+WLJkCaZNm4a5c+fi888/r1eBpaacP38e58+fBwBMmzZN7w9Snz590KlTJwDA3r17UVhYCHNzczEMnT59GhERETpDUR07dkSvXr0YWIio3snLy8Px48fLLdqoyiM+Pl76tLXK2MCCCnpc5K7SPS0NQdmelsaNG6N///4wNTWVNkOjRo0wdepUccjMmJ4WbRlKdxmuaNv/e/fuQaPRoHPnzli9ejXs7e1x/vx5jB8/XlxlpFKp8Pzzz2PgwIEYMGAAnJycpJchIpKlM2fOIDQ01KB5glWtXbt2eP/992FmZiatqnbaTeTat29vVGApS9vjsmfPngo/HBujNntaGFoeoWxo6dGjB8LCwnSGYCpiTGiZM2cO1q9fL71EhaTXPHnyJIKDg3Hjxg1pU/j5+eHzzz+Hs7OztIqISFY0Gg2WL1+OmJgYaVW1srKywvTp0+Hu7i6tqjEajQZKpbJSgUVLEARoNBq9H7yNVZuhpfLvAIDbt28jMjISUVFRyM/Pl1aTAdRqNQDA2toa69atQ3R09COP7du3w9HRUTy/R48eiIyMxL59+zB37lx06dJF/MHes2cPZs6cidzcXLE9EZEcqVQqBAYG4qWXXoKLi0u5BRvVcXTq1AmzZs2q1cCC0tf+JIEFpUNFVRFYaluleloEQcDWrVuxY8cOcamtvb09pk2bBjc3N2lz2aqJnpatW7di5syZAIBvv/0Ww4cPl1zNeHl5eZg3bx7Cw8MBACtWrMDAgQOlzYiIiIwmu56WW7duITIyUmdvkOzsbJ3JoOnp6Xj//fcRGBj4xMenn34qblpX33h6eooTmFevXq23VyQjIwMBAQFYsGABMjMzgdLuwu3bt+P555/Hli1bdNrb2NjohJ+EhASdeiIiIjmqVGi5c+eO3uGgv//+26it5+m/e95MmDABKN0QLiAgAKdPn0ZxcTGKi4sRGxuLf/7znzh58iR++ukn7Ny5EwCQmJiI+fPn4/r165g9ezbWrl2LwsJCAEBaWhq2b98OlHYJalceERERyVmlQktFq1waNWpU4+vY5U6hUGD8+PEYOnQoACA2NhajRo1CmzZt0KZNGwwdOhSxsbEAgFdffRUBAQEAgLZt22Lq1KlAaa/LBx98gPbt20OtVsPLy0scGvLz84OXl5f4fERERHJVqTkt+mZxq1QqTJw4ET179gQAlJSUIDs7u9z28pWhUqlgZ2dX47vi1sScFi2NRoOff/4ZS5YswYMHD8pc7b/DPQsWLMCwYcN09l0RBAGRkZGYPXs2MjIydM5RKpV4/fXXMWvWLFhZWenUERERVVZtzmmpVGhB6V2c9+7di2PHjsHZ2RnDhg1Du3btpM3ISBqNBomJibh69SoAwM3NDa6uro/cGKi4uBh///034uPjodFo0KxZM7i7u+vtDSMiInoStTlPstKhhYiIiBqehISEchvt1dRICEMLERERGSwhIQGWlpY1FlTKYmghIiIigyUkJMDW1hYKhaLGgwtDCxERERksISEBDg4OOqGlpsILQwsREREZLCEhAc7OzlAqlTUWVrQYWoiIiMhgCQkJaNq0qdjTUja4VHeIYWghIiIigyUkJKB58+ZQKBTlbuRY3aGlUjviEhERUcOlVCp1DhMTE5iYmJQrr/JD+oUQERERPYq2l6Xsf2viYGghIiIio0jDRE0dDC1ERET0xKQBozoOhhYiIiKqFEUN79PC0EJERERGMTU1hYmJidgDUlMYWoiIiEgWGFqIiIhIFhhaiIiISBYYWoiIiEgWGFqIiIiozvj3wRX498EV0mKAoYWIiIjqipnhn2PJoZU4fuMsbmUlS6sZWoiIiKj2zQz/HOvP7UCLRk0R9NwktGjUVNqEoYWIiIhqV9nAssz/I/RSd5c2ARhaiIiIqDYZGljA0EJERES1xZjAAoYWIiIiqg7Hks7A5+uX9E6oRSUCCxhaiIiIqDocSzqDW1nJGPXrtHLBpTKBBQwtREREVB1m9XsDQc9NKhdcKhtYAEAhCIIgLSQiIiLSJyEhAW3btpUWV+jfB1dgyaGVaNGoKXqpu1c6sIChpebk5+cjLi4O9+/fl1Y9UvPmzdG6dWtpMRERUa0wNrSgTHABUOnAAoaWmnHy5En88ssvKCwslFY9lrm5OV5//XX06NFDWkXUoBQXF8PExERaTEQ1rDKhBaXBZcP5nZUOLGBoqX6ZmZlYuHAh0tLSpFUGY3Chhu7kyZOIiIjAtGnT4OLiIq0mohpU2dACALeykvXudGsohpZqFh8fj2XLlqGwsBAqlQrW1tbSJnoVFxcjPz8f2m9PQwwuJSUlyM7ORklJCQBAqVTC3t4eSqX++eMFBQXi8Ju5uTlsbGykTUiGyvZUOjo6IigoyKDgkpeXp9O7qVQqYWtrC5VKpdOOiIzzJKHlSTG0VLMTJ07gp59+AgCo1WrMnj0blpaW0mblXLlyBUuXLtX5pdsQgktBQQGOHz+OyMhIpKSkiIFFS6lUwsnJCQMGDEDv3r113suNGzdi586dAIBu3bphxowZZc6s+9LS0hAeHo709HRplV6BgYFwcnKSFtcrgiDg8OHDWLNmDTQaDQBUGFwyMzNx+PBhnDp1Cnfv3hXbS1lYWKBNmzbw8fGBl5eXQf8eieh/ajO0mHz88ccfSwup6vz99984ffo0AKBRo0bw9fWFqamptFk56enpOHHiBIqLi8Wy4uJiXLp0Cc7OzmjevLlOe7krKSnBnj178N133+HMmTPIzc0Ve5nKEgQB+fn5uHTpEvbt24fCwkK0adMGKpUKsbGxSEhIAAA0bdpUVuEuLS0NwcHBuHXrFtLS0gw6zp49i27dusHKykp6uXpDoVCgVatWsLS0RFxcHEpKSlBQUIBz586hc+fOYm+aRqPBb7/9hsjISOTk5JQLu2VpNBrcu3cP586dw59//onk5GSo1ep6/T4SVaWMjAw4OjpKi2uE/n52qrMKCwvxyy+/4OTJk9Iq2crJycFXX32FDRs2oKCgQFoNa2tr2NjYQKFQ6JQXFRVhx44dWLx4MTIyMnTq5CY8PFxa9FhpaWkICQl5ovlScqBQKDBw4EAMHz5cHNpJT0/HkiVLkJKSAgBQqVSYNGkSfHx8dH5OVCoV7O3tKxyW1Wg0OHHiBObNm4dNmzZVarI8EdUcDg9Vs6ocHiqrvgwVZWRk4Ntvv8WNGzfEMnNzc/j4+MDPzw8uLi7iHBZBEJCRkYGDBw8iMjJSJ+A0adIErVq1QkxMDCDD4aHg4OBKhw8nJye0b99eWvxI2nPc3d2lVXWWIAiIiIjA9u3bKxwq0mg0OH36NJo3b46nnnqq3PyVgoICJCYm4siRIzh//ny5f18tWrTA1KlTyw09EdH/1ObwEENLNauu0IJ6EFzy8/OxdOlSJCYmAqWfqDt27Ig33ngDdnZ20uY6CgoKsGbNGpw4cULvUEBDCi1Pwt/fH/7+/tLiOquoqAhLly5FfHy8WCYNLlqpqam4cOECrl27BltbW3Ts2BEeHh4wMzMDSgPO4cOHsWnTJp0AbG9vj2nTpsHNza3M1YhIqzZDC4eHZEzOQ0WCIGD37t24fv06UBpYBgwYgHfeeeexgQUALC0tMWnSJAQEBJT7NE2GCw8Pr5WwVBkajQY///wzrly5olMuHSrStt2yZQvWrl2LkydPYt++ffj666/xzjvvYPPmzdBoNFCpVOjfvz9CQkLQo0cPcVgpOzsby5YtQ1xcXJlnIaK6gKFF5goLC7Fnzx69c0Hqshs3buDQoUPiZFsvLy+MGTPGqACinevg5+dXbr5LQ+Tu7o6QkBCdIzg4+LErjMr2WtRVgiAgPDwc0dHR4s+MpaWlOHQoDS4VzXEpKipCREQEvv76a+Tn5wOlc6befPNNjBs3TuyFuX//PlauXKkThIiocgRBwP7ISIwZNxYvDPbDK/98FcdPHJc2MwhXD1Wzyq4eevjwIfLy8uDi4oJmzZqVOywtLZGZmQkYed26YufOneInWScnJ7z55puP3VclLS0Np0+fxs2bN3UOExMT3LhxQ2coTW6rh/bu3Wv0LR6kfH190b17d1hZWYmHk5MT7t+//8hg0r17d7Rs2VJaXKecOHECGzduFIcC27Ztiw8//BAWFha4evWq3lVFSqUSXbt2Fd8XQRBw9+5dFBcX4969e8jJyUG3bt2gUCigUCjg6uoKBwcHXL58GcXFxSgoKEBSUhK8vb1l9W+LqLoZu3rocuxlLPvma7z3zruYMzsYjRo1wvKVK+Hp6YlG9vbS5o/E0FLNKhtabGxs0L17d3h7e+s9zMzMKnXduiA3Nxdbt25Fbm4uAMDPzw/dunWTNivnwoULWLlyJc6dO6dzXLp0qdzcn4YWWvz9/REVFaV3CbS7uzuioqIqvH5dDy2ZmZlYuXKl+PPi6uqKmTNnwsbGBu3atXvkcmilUglra2s4OTmhe/fuaN26Nc6fP4+HDx8iPT0dHTp0gIODg/hcLVu2hK2tLS5evAhBEJCVlQVLS8taG78nqouMDS1bt4XD1NQM48aOhUqlQlMXFxw7fgyNGzugTZs2yMvLw+Il/8aXIYuwZu3vuJ50HV27dIW5ubn0UhweopqXmpoq9hJZW1ujS5cu0iZkBCcnJ3FCbVhYmLQaKO2Fkav9+/cjNTUVAGBlZYXRo0eLS5i1Q4Qvv/xyhcuhy+rYsSP69esHlA4BaYN/Wb6+vvD09ARKu7X37t2L5ORkaTMiMlBaWjrc3P67nxZKh3adnZ1xr3Q+3a+rVyE9IwO/rVqN31atRkZmJsJ++VnvXl0MLXWMRqNBXl6etLheuXfvnjgHx9HR8bFzLrScnJzK9ThVdLRr1056er2lDSTa/0ZFRUla/LcnxtD3uS5JTk7WeT39+vUrt0xboVCgZcuWOjdTfFRw8fHxEUPP7du3y/1iVKlUGDlyJBo3bgyUTsw9cOCAThsiMk7Zf58KhQJK5f8eZ2fnoF3btnBo1AiNHRzwzrTp6Nunr87mqlpVGlpKSkoQFxeHsLAwfPjhh3jvvffw3nvv4fPPP8eWLVvET0ukn0ajwYYNG/Dxxx/j5s2b0up6ydbWVm8XoD5ubm6YOnWqQYefn5/09HpJ28uiFRgYiKioKL0rguS0tFkrPj4e2dnZQOmQac+ePaVNgNIhJOkQYUXBxcrKSvzEl52djQcPHujUA4CLi4tO8P3rr7/q/YcJotoycMAA7N23D2+9PRXr1q+HpZUVunfrpndhRpWEFkEQEBMTg1mzZiEkJARHjx5FSkoKsrOzkZ2djcTERGzfvh0ffPAB5s+fj1u3bkkv0eBpA8v+/fuRkZGBb775pt4Gl7J/XMzMzHQSOBknMDBQ57F20zh9vS2+vr7leinqug4dOohj53l5eThw4EC5nhEAcHBw0Bt+9QWXRo0awd3dHQqFAvb29rCwsNA5B6U9MLGxseLjLl26PHaiOBFVrGyviSAIKCn532Mfb2/89usqjP/neMRficebb03BlvCtYn1ZTxxaCgsL8eOPP+KHH35AVlaWtFqHIAi4desWvvjiC+zbt0/vL5+GqGxg0b4n9Tm4lP3jUtEnXXo8d3d3vSHE19e3wv1X5HaTxSZNmuhMqI6KitK7EsrR0bHcBGQtaXApuxy6ffv25ZbLazQabNu2DTk5OUDptfv27avThogM5+TkiKtXr4k7WRcUFODevXtwdnJCYVEhjp84jrz8fPT29cX8f/0fJvxzPA4fPoL7erbyeKLQotFoEBYWprN3glKpRJs2bRAQEICJEydi4sSJGDx4sDg+jNK9EjZs2MDgUkFg0aqvwcXa2lpc6ZSXl1euW58MI+1l0dL2sujrbXFycpLdpNxBgwahWbNmQOmHJH37pzg6OqJDhw46ZWXpCy5vvvkmBg0apNNOKN0P5tSpU0Dp2Pvzzz+PJk2a6LQjIsP16tkTVxKu4NSpUyguLkbkgQPIysrCM890AgBsj4jAjz/9iPz8fBQUFCA+Ph7W1lYwMSkfUcqXGEj6jxulSxEXLFiAefPmwc/PD3369EGfPn0wZswYLF68GNOnT9e5K+vmzZv1fmpqKB4VWLTqY3Bp2rSp+Kk4LS0N165dkzYx2p07d7BixQqEhoZi5cqV9X7+VEUTa9PS0sSbL1bU2+Lr66v33LrKzs4OY8aMETd+S09Px/Lly8WeEJSGi2HDhj1yGaY0uPx3MuD/fgUKgoDDhw9jz5494r/Hdu3aYcCAAWIbIjJexw4dMXnSG/jq62UYPGwoNm/ZjJnvvounmzaFuZk5gt57H8XFxXh5bABGjHoJefl5eHfGOzA3Kz/kW+nQIt3RtGvXrggKCqrwE4lCoUD37t0xZ84c8RdLYWFhhXf2re/0BZayv0CVSqXYbV3fgouDgwNatWoFlE7ePnz4sN5Z4oYSBAGRkZE4duwYYmJicOPGjQrv6lsfSCffliVd8hwWFoaVK1fqHJW5o3Rte+aZZ/DCCy+I/yauX7+OkJAQnR4XFxcXTJ48+ZFzT6TBRaukpATbtm3DmjVrxC5sR0dHvPbaa3rnyhCR4RQKBQb0748Na9dh7+49CFuxEt26/m9vLkdHR8z/1/9h5/YI7Nm5Cws+/wLOzs4619CqVGgRBAF//vmnOJu+SZMmGD9+vEE3AmzWrBkmTJggfmq6efMmLl++LG1W75mYmMDW1lachOrq6opx48aJ9S1btsTY0o14AMDCwqLCMXu5MTExQe/evcWQFhsbi+joaGkzg129ehUnTpwASv9xPPvss/U6tFQ0vKPdYXjSpEnioZ18Kz0q6qmpqxQKBfz9/TFgwAAxuNy5cwefffYZTpw4odMz8tFHH8HDw6PcXBUtfcFFu9mcNjw3btwYM2bMKHcTRiKqXZXaETcnJwfbt29Hfn4+FAoFRo0aBQ8PD2mzCjk5OSExMRF3796FIAgwNTVF9+7dpc3qhYp2xFUoFOJunoWFhZgxYways7N12o4bNw5NmjTB3bt3MX36dJ1erIquKxcODg6Ii4tDZmYmSkpKkJSUBHd3d9gbuaVzRkYGVq5cKQ6DNGnSBGPHjjUoQNclxuyIO2nSJL0BNiQkBNOnT4e7uztatmz52EO7vX9d3xFXS6lUwsPDA0VFRbh+/ToEQYBGo8GZM2dw6dIlNG/eHI0aNYKNjQ18fX3Rt29fqNVqeHh4oFu3bmjVqhWuXbumd+dclUqFTp06oaCgAPn5+Xj33XfRokUL6ZdARJXYEbcqVaqn5e7duzp7J7Rv317a5JFMTEzg7e0tPr5z506DHCJSlO7mOWfOnArvbOzr64tPP/203n3is7S0xKhRo8Q/vhkZGVi6dKlRc5xSUlLw1Vdf4caNG0Dp5Ep/f3+dbdnrI+kQEErnrxgzV6Xs3Bc5UalUGDNmDMaPHy8O2wiCgGvXruHzzz/H7NmzsWHDBly/fh0WFhZ49tln0b9/fzz33HMYMmSIzj4v0h4XlUqFsWPH4rPPPhMn/hJR3VKp0JKdnY2ioiKgdCyqUaNG0iaP5ezsLP7SycrKMvhTZn0jnQwo9bh6OXN3d9cZAsvOzsbSpUuxdu1a8Q68+hQUFGDjxo34+OOPcefOHaD0ffLz88Ozzz4rbV7vxMXF6awMSktLQ1RUVIXzXPSRY2DRUigUeO655/DJJ5+UGwbKyMjA7t278dlnn2HatGkIDAwUj6lTp+LIkSM615IGF6VSqXdDKyKqGyr117C4uLjC1S5ExvD19dW5b0xRURH27t2L9957D5999hk2bdqEI0eO4MiRI4iIiEBISAjeffdd7Ny5UwzOSqUSQ4cOxciRIyucx1DflA0tUVFRFc5z0UcaeuSqSZMmmDVrFmbPno0WLVpU+nsvDS5EVHdVak5LamoqTp06BUEQYGVlhV69ehk9wz4tLQ0nTpxAcXEx7Ozs8Nxzz+ndmVLujJl7Ul1t6zKFQoE2bdqgVatWuHLlijhMWFJSgqysLCQkJIh3c/7rr7+QlpaGkpIS8XwbGxtMnjwZ/fv3l3WPlDFzWlD67yc+Ph5xcXHYu3cvnJyccPbsWYOOffv26TzXCy+8YPCwUl2jUCjg5OSE559/Hn379oWDg4O4YaG+FWlKpRIODg7o1q0bWrdujdu3b+ud40JEFavNOS0KoRJdJjdv3sTixYuRn58PKysrBAUFoXXr1tJmj7Rr1y788ccfQOmM//fff19cUVSfnDhxAj/99BMAQK1WY/bs2RVOEi0qKkJubi5QOr5uZ2dX4adHY64rF4WFhdixYwf27t372A3nzM3N0a9fP7z44ov1YqVQeHh4rQzZODk5ISQkRFpcL2g0GuTm5ooh19zcXCeQCIKAiIgIbN++XWeZc1BQUL2bQ0ZUlRISEtC2bVtpcY2oVE+LmZkZzp07h6ysLDx8+FCceV/RH1ipgoIC/PHHH+K2/3379n3kbpZylpycLPaI2NraokOHDnj48CEKCgrKHdrhDpT2NEjryx43b97ExYsXgdLlmb6+vrIfi1epVPDw8MDQoUPRvXt3WFtbw8LCAhqNBmZmZmjdujW6du2KMWPG4NVXX0Xnzp3rTdB1d3dHWlpajd6Xy8nJSXbb+htDqVTC0tISVlZWsLKyKvezol3Bp1AocPXqVfa4EBlIdj0tALB9+3Zs2bIFKL1rqnap5eMIgoDNmzdj586dEAQBdnZ2mD17dr2drX/t2jV89dVX4rBHdfD09MS0adOkxSRDaWlpenexrWpOTk71NqwYSxAE7Nu3D3/88Qd7XIgMUJs9LZUOLZmZmVi0aJG4XXrjxo3xzjvvPHK/B6F0m+yyu04OGTIEo0ePNriXRm40Gg2WL1+OmJgYaVWVMCYwEpF++oLLU089hdmzZ+vcN42Iaje0VGp4CKX7bFhbW+PChQtit+rx48dhamqKFi1alBuqyMnJwerVq7Fz505xgpy5uTkGDx5crz/NKJVKPPPMM7h//z5ycnJgZmYGCwuLKjmeeuopTJgwod4OrRHVFIVCAVdXV1haWiIuLg6mpqYYO3Zsrf1iJqrLZDk8hAo+naB0boKjoyOaN28u7naalZWld5m0lZUVpk6dio4dO0qriIhqlCAIOHnyJExNTeHp6SmtJqJa7ml5otCCMv/IV69ebdC8DYVCgRYtWiAtLU1cdsngQkREJA+yDi1a+fn52LhxI06cOKF3uapCocDTTz+Nl19+GZ06dUJsbCxCQ0MZXIiIiGSkXoQWLY1Gg7///hu3bt3Cw4cPYWJiAhsbG7i5uZW7Gd7ly5cZXIiIiGSkXoUWYzG4EBERyUdthpZa3/e8Y8eOmDp1qni33/v37yM0NBSXL1+WNiUiIqIGrNZDCxhciIiIyAB1IrSAwYWIiIgeo86EFjC4EBER0SPUqdACPcGlqKgIiYmJejemIyIiooajzoUWlAkutra2GD58OF588cV6e28iIiIiMkytL3l+lOzsbNjZ2TGwEBER1RENesnzo9jb2zOwEBEREVDXQwsRERGRFkMLERERyQJDCxEREclCnZ6IW5sSEhKkRURERHVWTU2Orc2JuAwtREREZLDaDC0cHiIiIiJZYGghIiIiWWBoISIiIllgaCEiIiJZYGghIiIiWWBoISIiIllgaCEiIiJZYGghIiIiWWBoISIiIllgaCEiIiJZ4Db+MlFUVITc3FxpcTlKpRK2trZQqVTSKiIioidWm9v4M7TUcYIgYMeOHYiIiEBRUZG0Wi9PT0+88cYbMDc3l1YRERE9kdoMLRwequP++usvowILAJw+fRorVqxAYWGhtIqIiEi22NNSx23cuBE7d+6UFhvE09MTAQEBUCgU0qoKKZVK2NvbQ6lkniUiovJqs6eFoaWOe5LQUllmZmZ48cUXMWzYMKMCDxER1X+1GVr4cZrKKSoqwrZt23DixAlpFRERUa1haCG9NBoNTp06JS0mIiKqNRwequPKDg9169YNM2bMkDYhIiKqMRweIiIiInoMhhYiIiKSBQ4P1XEVDQ8VFRXhp59+wrVr1yRnVD1nZ2dMnz4ddnZ20ioiImpgODxERktPT0dCQgKys7Or/XBycoKtra30SyAiIqpRDC0y9ddffxl0L6InpVAo0KlTJ+7XQkREtY6hRYYEQUBsbKy0uFrY2NhArVZLi4mIiGocQ4sMpaen4/r169LiatGyZUs0adJEWkxERFTjGFpk6ObNm8jOzpYWV4sOHTrAxMREWkxERFTjGFpk6PLlyygpKZEWVzkrKyu4u7tLi4mIiGoFQ4vM5ObmIj4+XlpcLZo0aQIXFxdpMRERUa1gaJGZ5ORkpKenS4urRevWrWFpaSktJiIiqhUMLTJz4cIFFBYWSournKmpKbp27SotJiIiqjUMLTJSVFSEq1evSourhYODA1q2bCktrlBxcTFOnz6N5ORknfIHDx4gOjoamZmZOuVERETGYmiRkczMzHKhoLq4uroatW3/zp07MWrUKEyYMAEZGRli+Q8//IAxY8bg/fffr5EeIiIiqr8YWmTkzp07dXYXXAcHB6hUKjRr1gzm5uZi+VNPPQWFQoEWLVpw6TQRET0R3jCxjtu1axf++OMPaXG1sre3R3BwMJo2bSqtIiKiBq5e3DAxLS1NWlRpcXFxSEtLq9JrylXfvn3h6uoqLa42CoUCvXv35lJnIiKqcyrd0xIXF4eoqCjEx8cjLS0NTk5OCAkJkTYzWlRUFFauXCk+9vX1hb+/P5ycnHTaNST5+fkIDw/HuXPn8PDhQ2l1lbG1tcWgQYPQq1cvKJVVlmeJiKgeqc2elkqFlrS0NAQHB4uP/f394evrW2XBQhuIoqKigNLgMmnSJGkzIiIiqmG1GVoq9XG6bI+Kv79/lfeEuLu7Y9KkSeI1ywYYIiIiapiMDi3SuSa+vr469VWpffv24v/HxcXp1BEREVHDYnRokarKHhap6rw2ERERyYvRocWYFT1paWmIi4tDeHg4QkJCsHLlynLna+uCg4MfOQRUU/fbISIiorrJ6NBiqPDwcAQHByMkJATh4eHi5NqwsDCxzcqVK8W6tLQ0hIeH61yDiIiISKvaQouTkxP8/f0xadIknXkv2p6W8PBwREVF6QwBlZ3DQkRERFRWtYUW7f4qvr6+5UJLeHg4wsPDxb1dQkJCMGnSJC5rJiIiogpVW2gpSzqhVjsMFBgYKNZX5yokIiIikr8nCi3SMFIRJycnuLu765T5+/uXK5My9PpERERU/xkdWsqu4jEmVEjnq/j7++s81sfR0VFaRERERA2UUaFFusLHmCEdaWiRLn3Wx93dXQxG2qXThpxHRERE9Y9BoSUuLg4rV65EcHCwGBqkq4IeJz4+XuexoeEjJCREDC7h4eEICwvj0mgiIqIGyKDQ4u7uXm4VUFRUlMHBQ9tLUpY0xFREu4cLykzYNSYsERERUf1gUGhBmZsYaueiaDeLM4R2Q7myc2DKhpaKwk9aWprOzRlDQkKq9G7SREREJB8GhxatsnNTDOktCQkJQVpaGoKDg8UlzpAElbCwMJ2hJ31tGFSIiIgaNqNDS1n67rys3ThOOw8mLi4O7u7uOpNqUea+RNo2gYGB5YJJ2VAkrSMiIqKG5YlCi1RUVJQYWkJCQsRt+oODgwE9+7Vo22hDDREREVFFqjS0SDk5OekMCUHP3itlQw0RERFRRao0tLRv317c6dbX1xfBwcHlelD8/f3FNv7+/joTbYmIiIgqUqWhxan0zs7BwcGYNGmS3nkoZdsYsisuEREREao6tBARERFVF6NDi7T3RLpMubpI58IQERFRw/LEoaU6cckzERERaRkdWiC5Q7Mx2/kbIy4uTmcfmIa+dX9RURHS09Mfe2RmZkKj0UhPJyIikj2FIAiCtNAQZXew1XdvospKS0tDWFiYTmAx9uaM9YkgCNixYwciIiJQVFQkrdbL09MTb7zxBszNzaVVRERETyQhIQFt27aVFteISocWlPaGxMfHIz4+Ho6Ojpg0aZK0idHK3tNIG4YastjYWHzzzTcGBxYtBhciIqoOsg0tVP02btyInTt3SosN4unpiYCAACgUCmlVhZRKJezt7aFUVmrkkIiI6jmGFqrQk4SWyjIzM8OLL76IYcOGGRV4iIio/qvN0MKP01ROUVERtm3bhhMnTkiriIiIag1DyyMUFBTg0KFDDXI1jkajwalTp6TFDU5+fj4CAgLg4eGBixcvSqtrTF35OoiIahNDy2McPnwYq1evbpDBhYiIqC5haHkMQRBw9OhRBheqF/bt2we1Wo2goCBpFRFRncfQYgAGFyIiotrH0GIgBhciIqLaxdBiBAaXR7t//z4WLVoET09PqNVquLq6YvTo0YiOjoa+lfUJCQkIDAyEm5sb1Go1OnTogLlz5+LevXs67UJDQ6FWq7Fr1y7s2rUL/fv3h1qthlqtxpgxY3D9+nUIgoBjx45h0KBBYt3IkSPLTSa+ePEiPDw8EBQUhISEBIwZMwaurq5Qq9UYNGgQjh07pvdr1UcQBERHR2PkyJHicw4dOtSoa+hz+fJlnWuOHDkSly5dkjYTJScnY+7cuejQoQPUajXc3NwQGBiI69evi220w0JvvPEGAGDTpk1Qq9UICAhAfn6+UdciIqotDC1GYnDRLzc3F5MnT0ZoaChUKhVGjRoFb29vnDp1CmPHjsWaNWt02u/atQt+fn44ePAgnn/+eYwZMwbOzs5Yt24dxo4di+TkZJ32ADB37ly8/fbbUKlU6NGjB1QqFaKjozFx4kT861//wquvvor8/Hz07dsX9vb2OHv2LAIDA3H58mXppbBr1y4MGTIE165dQ+/eveHo6IgrV67gn//8J3bv3i1tXo4gCPjxxx8xZswYXLx4ES+88AJeeOEFxMXF4ZVXXsHPP/8sPcUgu3fvhr+/P86ePQtHR0f07dsXN2/exNixYxEdHS1tjvPnz8PPzw/r1q1Dp06dMG7cOLRr1w6RkZHw9/cXX/vTTz+NcePGoU+fPgCA5s2bY9y4cejfvz9UKpVR1yIiqi0MLZXA4FLe9u3bERUVhdGjRyMqKgpLlizB+vXrERYWBhMTE4SGhiIlJQUo/TS/aNEi2NjYYMuWLVi+fDlCQkKwf/9+jB49GteuXcPWrVulTwF7e3vs3bsXf/75J9avX4+zZ8/Cx8cHSUlJ+P333/Htt9/i6NGjWLVqFU6fPo1x48YhJycHf/zxh/RSePDgAT788ENER0dj1apViI6ORnBwMEpKSvDJJ5/g1q1b0lN0HD16FCEhIVCr1Th06BCWL1+O5cuXY8eOHWjcuDF++OEHJCUlSU97pPT0dHz11VcoLi7GokWLcOrUKfFrmz17drnem/z8fCxYsAB5eXkIDQ3F+vXrsXDhQuzYsQPBwcHIycnBzz//DEEQ0KFDByxcuBCvvfYaAKBHjx5YuHAhpkyZAnNzc6OuRURUWxhaKsnU1BTt2rUTP6U2dNnZ2QCANm3a6Lwnvr6+mDVrFgYNGiQGvOLiYjz//POYNm0a3N3dxbYqlQqDBw8GAFy9elUs1woICICbm5v42NbWFq+88goAoHfv3hg4cKC4g69KpcJLL70ElUqFhIQE3L9/XzwPZW5xYGJiAgAwMTFBYGAg+vbti5SUFJw+fVqnfVkajQa///47BEHAJ598gmbNmol1Hh4emDBhAlJTU3Hs2DGd8x7nzJkzuHLlCvr06QN/f3/xtZiYmOC1116Dt7e3Tvvi4mJ0794dU6ZM0blHl0KhQJ8+fWBpaYlbt26Ve+36VOW1iIiqC0NLJZiZmWH8+PEN/maOZbVu3RoKhQKrVq3C7t27UVhYCAAwNzfHlClTMH/+fDRv3hwoHZqYP3+++CnfUPruh2RjYwMAcHZ2hoWFhU6dhYUFTE1NodFoyvUQ6LuWhYWFGJrOnTsnrRbdu3cPZ8+eRYsWLdCxY0dpNZ555hmgdLjFGFeuXAEA9OzZs9xrgZ6v2c7ODnPmzMGcOXNgZ2enU2esqrwWEVF1Kf+bmx6JgUW/gQMHipNo33rrLbRv3x6DBg3C8uXLkZmZKW2O4uJiREZG4uWXXxYn4padKFpbmjRpApTO0alIWloasrOzcfPmTXh5eYlfu/Q1GDt0mJiYCABG3dNDEAScO3cOgYGB4uRZtVqN4cOHo6CgQNr8karyWkRE1YGhxQgMLBVTqVSYMmUKYmJisGjRIvj6+iIxMRFffPEFvL29sWnTJrG3Q6PR4KOPPkJgYCBu376N1157Dd9++y2+//57vPXWW9JL11mNGzfG6NGjMW7cOL2Hj4+P9JQqpZ0MPGLECERHR2PEiBFYtmwZvv/+e8yZM8eoocuqvBYRUXVhaDEQA4thHBwcEBAQgDVr1iA+Ph5Lly6FQqHAggULxGWzJ06cwLp16+Dj44M9e/bgX//6F4YPH46hQ4fCy8tLeskapZ08a2trK60S2dvbw8bGBo6Ojvjwww+xcOFCvUdAQID01EdydXUFynwNj3Pt2jX88MMPaNmyJXbv3o0FCxZgxIgRGDp0KHr37g1TU1PpKRWqymsREVUXhhYDMLA8WkZGBgICAuDv74/bt2+L5SYmJhg+fDgGDhyI9PR03Lx5EyjdK0UQBDz//PPlwoGxQypVSaPRiMuKPT09pdUiR0dHuLq64urVqxXevLAyr6Ndu3ZA6f2uHjx4IK1GSUmJzuOkpCRkZWXB29tbnC+kVVJSUm4ez6NU5bWIiKoLQ8tjMLA8np2dHZo0aYLz589j8+bNKC4uFutSUlJw+fJlWFtb46mnngJKJ+ICQGRkJLKyssS2cXFxWLx4sfi4OsXExODAgQPiH2NBELB7925xE7ZH9fhYW1tj7NixEAQB8+fP1+kZEQQBe/fuxcCBA/Xuq/IoXl5e6NKlC44cOYLw8HDxaysuLsavv/6KmJgYnfaNGzeGqakpYmJidDZ/S05ORkhIiN7gY29vD5VKhXv37unUV+ZaREQ1jaHlEbRLTRlYHk2lUmHu3LlQq9VYsmQJevXqhaCgIEyePBn9+vXDzZs3MWrUKHGCab9+/eDr64uYmBh4eXmhZ8+e6N69OwYPHoz09HQoFAqkpKRU6/JaQRAwY8YMDBgwAMHBwRg2bBimT58OAJgzZw6aNm0qPUXH8OHDMXnyZCQlJaF///4YN24cgoODMWDAAEyePBlmZmY6S6EN4eDggNmzZ8PExARz5syBl5cXAgIC0L17d/z73/8Wl2drde7cGaNHj8bNmzcxYMAAPPvss/Dx8UHPnj1x6dIlKJVKJCcn60yibd26NVq1aoXDhw+jV69eePnll5Genl6paxER1TSGlkcwMzN77B8v+q9mzZohIiICb731FjQaDTZt2oS9e/fC1dUV3333HebPny9O5rS1tcWPP/6IiRMnAqWf5jUaDT744AP89ttvsLe3R1JSEnJyciTPUnV8fHywZs0aODk5YePGjYiNjUW7du3w22+/icueH0WlUuHDDz/Er7/+ii5duuD48ePYsGEDsrOz8dZbb2Hz5s1GhxaU7jeza9cu+Pj4ID09HSdPnoSrqys2bNiAESNG6LRVqVSYP38+PvjgA9jY2CAlJQUZGRmYOHEitm3bhjZt2uDevXs6uws7OTnhX//6Fxo3boyMjAxxf53KXIuIqKYpBA5W12m7du3Su6NrTejVq1etL0GuahcvXsSYMWPQuXNnhIWFwdraWtqkSoWGhmLRokXS4nJWrFiBgQMHSouJiOqchIQEo7ZmqEoMLXVcfn4+li5dKu7hUVMcHR0RFBQEFxcXaZWs1XRoOXjwIPbs2SMtLmf8+PHo0KGDtJiIqM5haKFHys/PR3h4OM6dO4eHDx9Kq6uUiYkJ2rVrhxEjRogbrdUnNR1aiIjqG4YWohrC0EJE9GQYWoiIiEgWajO0cPUQERERyQJDCxEREckCQwsRERHJAkMLERERyQJDCxEREckCQwsRERHJAkMLERERyQJDCxEREckCQwsRERHJAkMLERERyQJDCxEREckCQwsRERHJAkMLERERyQJDCxEREckCQwsRERHJAkMLERERyQJDCxEREckCQwsRERHJQpWFFkEQkJ2djby8PGkVERER0RNTCIIgSAsNlZ+fj927d+PYsWPIysqC9lJKpRJOTk4YOHAg+vTpA3Nzc+mp9AQyMzMRHx+Phw8fSqseqW3btnBxcZEWExERGSwhIQFt27aVFteISoWWkpIS7Nu3D5s3b0ZRUZG0Wkfjxo0xYcIEdO7cWVpFRhIEAREREdi+fTs0Go20+rHs7e0xbdo0uLm5SauIiIgMUpuhxejhIY1Gg19//RXr169/bGABgIyMDHz33XfYvn272BNDlZOUlIQ9e/ZUKrAAQHZ2Nv7zn//g6tWr0ioiIqI6z6ieFkEQsHnzZuzcuVMMIJaWlujfvz/69euHxo0bA6VB5cCBA9i/fz8KCwsBACqVChMmTEDv3r11rkmGi4qKwsqVK6XFj6VUKiEIgvg9Y48LERFVVm32tBgVWq5cuYKlS5eKQaRVq1aYMWOGGFakbt++jWXLliE9PR0A0KhRIwwZMgQWFhbSpgazsLBA586dG+Q8mY0bN2Lnzp3S4sfq1KkTGjVqhKNHjzK4EBHRE5FFaCkuLsa3336LCxcuAAAcHR0RFBT02ImdcXFx+O6773D//n1pVaU0atQI8+bNg6Ojo7Sq3qtsaOnWrRumTp2K1atXM7gQEdETqc3QYvCcltTUVFy/fh0oHW4ICAgQA0thYSE2b96MWbNmITg4WGeiqLu7O/z8/HSuRTVPpVJh/Pjx6N27NxQKBcA5LkREJDMmH3/88cfSQn3i4uJw7NgxAICzszP8/f1hYWGB4uJihIWF4cCBAygoKMD9+/cRHx+PkpISeHh4QKFQwN7eHgUFBXBxcUGzZs2MPuzt7ZGRkQFBEGBhYYG+ffvCyspK+iXWe7GxsUhISJAWP1bTpk3Ro0cPKJVKdOrUCVlZWbh16xZQGjgvXLgANze3Cof5iIiItDIyMmpttMPg4aHIyEj89ttvAICOHTti5syZMDExwc2bN7F48WLk5+frtG/cuDHmzZsHBwcHnfLKKDuXhsNDlRsemjFjhvhYo9FwqIiIiCpFFsNDGRkZ4v+bmZnBxMQEAPDgwQO9S3BLSkpQUlIiLaY6oCEPFRUXFyM9PV2cTE51y759+6BWqxEUFCStMlhoaCjUajVCQ0OlVdXq4sWL8PDwQEBAQLkPcURUNQwOLc2bNxf/Pzs7Gw8ePAAAuLi4oFGjRmVa/peTkxNsbGyA0gCTmZmJ9PT0Rx4FBQXi+UVFRWJ5bm5umStTVagouOzatUvatF7ZuHEjPD09ERgYWGWTw4mIqGYYHFocHBzEZcYpKSlITk4GANjZ2WHixIliQEHpUMOYMWPE9mfOnMHs2bMfe+zYsUO8Rtlz/vOf//CT8RPIyMjAkSNHyh3Hjx9H69at0aRJE+kpspaamopevXqhV69eSE1N1alr1qwZVCoV1Go1zMzMdOrkID8/HwEBAfDw8MDFixel1VTN+P4T1S6DQ0vz5s3h7OwMALh//z4iIyPF+RDt2rXDokWLMG3aNMycOROLFy8W50YUFhZi//79HCqqRTdu3MDPP/+s91i1ahXu3r0rPaXe6t27N65evYovvvgCKpVKWk1ERHWYwaHF2toazz77rDiUcPLkSRw+fFhnZ1xPT0907txZ/GOgvVfOlStXdK5FREREZCyDQwsAPPfcc2jdujVQZgXKunXr9A7dFBQUICwsTGfLf29vb/z0008ICwsTj6FDh0pPLUetVuM///kPwsLC8NVXXzXIlUNycP/+fSxatAienp5Qq9VwdXXF6NGjER0drfe+U3l5efjyyy/RuXNnqNVqdOjQAZ988gny8vJ02gUFBcHDwwPnz59HREQE+vfvL15/+vTpuHfvHlBmWMjHxwd37tzBnTt34OPjo9OVr2+ip3YC5bvvvovExERMnDgRrq6uUKvV6NGjByIiIiAIApKTkzF9+nSdul9//VXvRPQHDx7gl19+QY8ePaBWq+Hm5oYZM2aIw6pa2kmje/fuRXR0NEaOHAm1Wg21Wo0xY8aIeyNphyU6duyIkydPoqCgAMOHD4darca+fft0rvk42ufctWsXdu3aJb6fZZ9TEAQcO3YMgwYNEutGjhyJU6dOSS8HlA5Bfv755+L30s3NDYGBgRUu0X/w4AGWLVsmtu/cuTOWLVsmzpXTJyEhQed74+vri23btqG4uFja1GDan61Tp07hxx9/FH923dzcdH4WjX3/k5OTMXfuXLi5uYk/K9qfIyKqPIP3aUHpqqF27drh3LlzKCgogCAISExMxN69exEbG4sLFy7g1KlTOHDgANatW4ekpCTx3FatWiEwMBDW1tY61yy790heXh6uXLmCU6dOITY2FpmZmUDpLri+vr4wNTXVObehqew+LcbQ7ulirNzcXEyZMgWbN2+GnZ0dBg8eDFtbW8TExGDTpk1wcnLSudP37du3MXr0aOzbtw/NmjVD//79kZ2djYMHDyIyMhIDBgyAra0tAODPP//EhQsX8Ndff+GXX36Bs7Mz3NzckJKSgri4OMTFxcHPzw8mJibIzc1Fs2bNkJiYCBMTEwwfPhze3t7o1asX7OzskJiYiG3btqFDhw7ipoepqan4448/cOXKFaxatQrZ2dnw8vJCXl4e7t27h927d6OgoABz5szBtWvX8Oyzz4qv4eDBg7C1tYWnp6f42nJzc/Hmm29i9erVsLGxweDBgyEIAqKiorBlyxb07dtXHGo9deoUoqKikJSUhB9//BEKhQLdunXDvXv3kJSUhKNHj2LQoEGwtrZGdnY2XFxckJKSggcPHmDQoEHw8fFB7969xesZQvucR48exebNm8X38+7du7h16xYOHTqEa9eu4eOPP4aFhQW6deuGrKwsJCUlYffu3ejbt6/OPKjY2FgEBATg8OHDcHFxgZ+fH4qLixEdHY21a9eiXbt2Okvpc3Nz8fbbb2P9+vV4+PAhOnfuDAcHB2zfvh179uxBSUmJzvcHAHbt2oVx48bhxo0b6NGjB7p27YrLly9j+/btyMrKQp8+faBU/vczmPb19e7dG97e3uI19NH+bB04cAB79+5F27Zt4eLigrt37+Ls2bM4f/48Bg0aBFNT08e+/9qfo/v372PDhg24fPkyevToAY1Gg+TkZOzevRsdO3ZEmzZtpF8GkazU5j4tRvW0oHS10IwZM+Dk5CSWFRUVIS4uDjExMYiJiUFcXJzOHaBdXV0feY8ireTkZPEa165dk1ZTHbZ9+3ZERUVh9OjRiIqKwpIlS7B+/XqEhYXBxMQEoaGhSElJAUo/Zf/f//0fkpKSMHfuXOzfvx9LlizB/v37MWnSJMTFxeH3338v96k0NTUVW7duxZ9//on169fj0KFDUKvVOH78OGJjY2FnZ4c5c+Zg3rx5cHZ2hrOzM+bNm4f58+frrH6riEajwZdffolTp05h1apVOHXqFIKDg1FSUoIff/wRQ4YMwZkzZ7Bq1SocOnQIoaGhUCqV2LBhg7glgCAI+OqrrxAVFYVx48aJ78WOHTvw2WefiXc9l/bOXL16FaGhoTh69ChWrVqFkydPwtfXF9euXcPJkydhbm6OKVOm4JNPPkHbtm1hYWGBGTNmYOHChejQoYPOtQxlb2+PvXv3iu/n2bNn4ePjg6SkJPz+++/49ttvxa/n9OnTGDduHHJycvDHH3+I18jPz8fChQuRnJyM4OBgREZGIiQkBDt37kRoaChKSkrE77XWtm3bcOjQIXTt2hUnT55EeHg4wsPDERkZqff7dOXKFcybNw82NjbYsmUL1q5di++++w4HDhyAh4cH1q5dizNnzkhPM0rTpk1x+PBhna9FrVaLNyk15v1PTU2Fn5+f+LNy9OhRzJ07FyUlJfj999/19kwTkWGMDi0A0LJlS3zyySd47rnnHrkCw8bGBhMmTMCHH3742MBC8padnQ0AaNOmjc4EV19fX8yaNQuDBg0S/1BfvHgRhw4dQt++ffH666+L86RUKhVef/11uLi4YPfu3WJPm1ZQUBC6dOkiPm7WrBmGDRsGjUZTJT1Qnp6eGDJkiPj1KBQKvPjii3B2doadnR0CAwN1bvbZq1cvPPPMM7hz5444mfnWrVuIiIhAmzZtEBQUJL4XCoUCI0aMQNeuXcWelbJee+01DBw4UHxuW1tbvPzyywCAc+fO6bStKgEBATo9ILa2tnjllVeA0gnLZb8elUqFl156CSqVCgkJCeJy8VOnTuHo0aPo27cvAgMDxf2bAGDw4MGYNm0aUlNTxaX0+fn52LZtGxQKBd577z2dHiK1Wo25c+eKj7XCw8ORkZFR7vvftGlTvP3223j48GGlNl0s6+2339YJTGq1Gp988gkUCgUiIyPFn29DdOzYEbNnzxZ/VhQKBYYOHQpnZ2f8/fff3MOF6AlUKrSgdOLta6+9hm+++QbvvvsuBg4cCG9vb3h7e2PYsGH4+OOPsWzZMvTr10/sttWnVatW4nkVHc8884zOL0Oqe1q3bg2FQoFVq1Zh9+7d4qdJ7SfUsr0d0dHR0Gg06Nu3b7k7fjdu3BitWrXSCQJa+vYD0i61N+aPSkX0/ZxaWFjA1NQUNjY25XZ3VqlUsLS0RElJiRjIYmNjce/ePXh5een0RqI0FLRp0wZZWVn4+++/ders7e3FgKClfW3VtU+RvterfU5nZ+dy3xvte6HRaMReMO18JX3fS4VCgb59+0KlUiE6OhqFhYXIycnBjRs30LRpU3h4eOi0R+l7WlZ+fj6io6NhbW0NHx8fnTqUhgtLS0udIFUZ0udF6d3R3dzccPPmTXHelCFsbGzKfZjTvnf5+fnletmIyHDlf2sZyczMDF26dMErr7yCqVOnYurUqRg1ahRatmyp95eilLe3t3heRcdLL71U7pcA1S0DBw7E3Llzce/ePbz11lto3749Bg0ahOXLl5frMUlMTAQAfP755+IkT+2hnehYNgjIiXbi7Pr168u9NrVajU2bNgGlQ1H1gXbIT61WS6uAMn+s79+/D41Gg7S0NGRnZ6NFixbl5rfpk5+fj9u3byM/Px9Dhgwp934OHz4cBQUFOkGqqpibm6Nx48YoLCzU2fiSiGrP41MFkQFUKhWmTJmCmJgYLFq0CL6+vkhMTMQXX3wBb29vbNq0qdwflT59+mDcuHF6j7Fjx5br2ZCTTp06lXtNZY+nn35aego9gqmpKfz9/cu9j9qjf//+entLiKh+YWihKuXg4ICAgACsWbMG8fHxWLp0KRQKBRYsWCD2Qri4uAAAhgwZgoULF+o9DJ08W9c0bdoUKJ0fI31NZQ/p5E250n4vpTsPaz148AAPHz6ElZUVVCoVnJycYG9vj+TkZIN6L8zNzeHk5ARra2tx4qu+Y8qUKeIO3FWloKAAycnJMDc3h6WlpbSaiGoBQws9sYyMDAQEBMDf3x+3b98Wy7VLjgcOHIj09HTcvHkTANC1a1cAwO7du/Xuy1FcXFyuV0Yu2rRpA0tLSxw5cgRpaWnSagiC8ET7itQ1Pj4+UCgUer+XgiDg8OHD0Gg06NKlC8zNzWFnZ4dWrVrh1q1buHz5sk576Bk2s7OzQ7t27ZCVlYWoqCidOi3pOVUlISEBd+7cgVqtxlNPPSWtJqJawNBCT8zOzg5NmjTB+fPnsXnzZp0/yikpKbh8+TKsra3FX/xeXl7o0qULDh8+jLCwMJ32WVlZmDFjBoKDg8v9ETSU9tN5Xl5eufk01c3DwwP9+/fHtWvXsHjxYp3X8ODBA3z++ed4/fXXde6abgztPIsHDx5U+hpVycvLCz4+Pnq/l0ePHsWKFSvQpEkTjBgxAijdWXvs2LEQBAFLly7VmeCalJSEL7/8UnyM0sm8Y8aMgampKZYsWYLTp0/r1J8/fx6DBw/Gli1bdMqliouLcfr06XKb+2mtXLkSWVlZ4uOsrCx888030Gg08PPzE/cMqmvvP1FDw9BCT0ylUmHu3LlQq9VYsmQJevXqhaCgIEyePBn9+vXDzZs3MWrUKLRt2xYoHUJauHAhmjZtipCQEJ32Xl5e2LlzJ9q1a1fp7n47Ozt07doVOTk5GDlyJHr27ImjR49Km1ULlUqFjz76CJ07d8b69evh4+OD6dOnY/r06fDx8cHKlSvRsmVL2NnZSU81iEqlwrPPPgtBEDBp0iT07NkTa9askTarMdbW1pg/f774vezfvz+Cg4Pxj3/8A+PHj8fDhw/x6aef6kzUHTJkCAYPHoxz586hR48eGDZsGAYPHoz+/fuLE3vL8vb2xkcffYS8vDyMGjUK//jHP/DBBx/gH//4B/z9/ZGRkfHYDdt27tyJUaNGYcKECXrDxokTJ+Dl5YXJkydj+vTpePbZZ3H8+HH4+vrin//8p9iurr3/RA0NQwtViWbNmiEiIgJvvfUWNBoNNm3ahL1798LV1RXfffcd5s+frzNRskOHDtixYwfeeOMNFBQUYNOmTdi/fz+6du2KDRs24I033ii3BNhQCoUCU6dOhY+PD+7fv4+7d+/W6HBT06ZNsW7dOnzwwQewtLREREQEIiIi4OLigu+++w6ffvrpE00afemll+Dv7w9N6U6rtT3cpP1eTpgwAffu3cOGDRsQGxuL/v37Y9euXRg8eLBOewsLCyxbtgwffPABbGxscPnyZdy5cwdTpkzBr7/+Wm7+iEKhwGuvvYatW7fi+eefx6VLl7B27VpcvXoVY8eOxY4dO3R2W9bHwcEBKpUKzZo10xuGv/76a8ycORNnzpxBREQENBoNJk6ciB9//FHsZdGqa+8/UUOiEGrytzk9kY0bNz7xJlqP061bN8yYMUNaTHVcUFCQuJy6IpaWltiwYQM6deokrWqwtO/bihUrMHDgQGk1EemRkJAg9pzXNPa0ENUDPj4+5ZYBSw+5LyMnImJPi4xs2bIF27dvlxZXKU9PT0ybNk1aTFQvsaeFyHjsaSGDNG/evNLzPAzFTc+IiKiuYmiRkQ4dOqB169bS4irj6OiInj17SouJ6q0lS5YgKSmJvSxEMsHhIZnJyMjAunXrquSuxmU99dRTePXVV9GiRQtpFRERkag2h4cYWoiIiMhgtRlaODxEREREssDQQkRERLLA0EJERESywNBCREREssDQQkRERLLA0EJERESywNBCREREssDQQkRERLLA0EJERESywNBCREREssDQQkRERLLA0EJERESywNBCREREssDQQkRERLLA0EJERESywNBCREREssDQQkRERLLA0EJERESywNBCREREssDQQkRERLLA0EJERESywNBCREREssDQQkRERLLA0EJERESywNBCREREssDQQkRERLLA0EJERESywNBCREREssDQQkRERLLA0EJERESywNBCREREssDQQkRERLKgEARBkBYaoiQnBUJhrrS4PJUFTBo1BxQKaQ0RERHJTEJCAtq2bSstrhFGh5aS3FRk/zoeRYlRAAw41cQUtkM/gVW/dxhciIiIZK42Q4vRw0N5Ef9CUeJRwwILABQ/RO7O+bh/8BvAuHxEREREJDKqp6UkPwOZ//GDJiUWAKCwsIVCZS5tJhIe5ELQFP73gYkpbPzmwaLLCGmzR1KY20Jp5yItJiIiolpQmz0tTxRa7EYvg2WvydJmooc3TyMrLAAlOcnSKqMo7VxgP+4nmLUfIK0iIiKiGlSbocXo4SFjmLb0RKPA9VDaNZVWGaUkJwXZ66dCczdeWkVEREQNRLWGFlRlcMm6jYfXDkuLiYiIqIGo1uGhJ1XTz0dERESPVm+Hh4iIiIiqCkMLERERyQJDCxEREckCQwsRERHJAkMLERERyQJDCxEREckCQwsRERHJAkMLERERyQJDCxEREckCQwsRERHJAkMLERERyQJDCxEREckCQwsRERHJAkMLERERyYJCEARBWliRkvwMZP7HD5qUWACARfcxMG3pKW1WZYSiAtyP+gkl2XcAAHajl8Gy12RpMyIiIqohCQkJaNu2rbS4RhgVWoTCPGR+PwQPb52RVlU/pQp2Y0Nh6fWKtIaIiIhqSG2GFqOGhxTmNrAe9AEU5jbSqmpn1r4/LLq+JC0mIiKiBsKonhatosQo5O/8FJrUOGlVlVOYWcOi6yhYDwyGwsJWWk1EREQ1qDZ7WioVWoiIiKhhqs3QYtTwEBEREVFtYWghIiIiWWBoISIiIllgaCEiIiJZYGghIiIiWWBoISIiIllgaCEiIiJZYGghIiIiWWBoISIiIllgaCEiIiJZYGghIiIiWWBoISIiIllgaCEiIiJZYGghIiIiWWBoISIiIllgaCEiIiJZYGghIiIiWWBoISIiIllgaCEiIiJZYGghIiIiWWBoISIiIllgaCEiIiJZYGghIiIiWWBoISIiIllgaCEiIiJZYGghIiIiWWBoISIiIllgaCEiIiJZYGghIiIiWWBoISIiIllgaCEiIiJZYGghIiIiWWBoISIiIllgaCEiIiJZYGghIiIiWWBoISIiIllgaCEiIiJZYGghIiIiWWBoISIiIllgaCEiIiJZYGghIiIiWWBoISIiIllgaCEiIiJZYGghIiIiWWBoISIiIllgaCEiIiJZYGghIiIiWWBoISIiIllgaCEiIiJZYGghIiIiWWBoISIiIllgaCEiIiJZYGghIiIiWWBoISIiIllgaCEiIiJZYGghIiIiWWBoISIiIllgaCEiIiJZYGghIiIiWWBoISIiIllgaCEiIiJZYGghIiIiWWBoISIiIllgaCEiIiJZYGghIiIiWWBoISIiIllgaCEiIiJZYGghIiIiWWBoISIiIllgaCEiIiJZ+H+hIcfTA4lKRAAAAABJRU5ErkJggg==)"
      ],
      "metadata": {
        "id": "C05RZ4jSHlCt"
      }
    },
    {
      "cell_type": "markdown",
      "source": [
        "Testing the model with example inputs"
      ],
      "metadata": {
        "id": "_H-SvgHgHrxG"
      }
    },
    {
      "cell_type": "markdown",
      "source": [
        "**try changing examples here, by typing own examples,\n",
        "and see if you can fool model to predict a bad review to be positive and good review to be negative**"
      ],
      "metadata": {
        "id": "FEij8iDVFTAe"
      }
    },
    {
      "cell_type": "code",
      "source": [
        "# 9. Test on sample inputs\n",
        "sample_reviews = [\n",
        "    \"They looked quite wonderful, it was thrilling\",\n",
        "    \"It was a waste of time. Totally boring and predictable.\"\n",
        "]\n",
        "\n",
        "\n",
        "# Convert the sample reviews to embeddings\n",
        "sample_reviews_embeddings = np.array([text_to_embedding(review, word2vec_model) for review in sample_reviews])\n",
        "sample_reviews_tensor = torch.tensor(sample_reviews_embeddings, dtype=torch.float32).to(device)\n",
        "\n",
        "\n",
        "with torch.no_grad():\n",
        "    outputs = loaded_model(sample_reviews_tensor)\n",
        "    predicted_labels = torch.argmax(outputs, dim=1)\n",
        "    for review, label in zip(sample_reviews, predicted_labels):\n",
        "        sentiment = \"Positive\" if label == 1 else \"Negative\"\n",
        "        print(f\"Review: {review}\\nSentiment: {sentiment}\\n\")"
      ],
      "metadata": {
        "colab": {
          "base_uri": "https://localhost:8080/"
        },
        "id": "Th8mRGuCFNit",
        "outputId": "d68237c0-ebc8-4f38-e705-cd3c83c97e62"
      },
      "execution_count": null,
      "outputs": [
        {
          "output_type": "stream",
          "name": "stdout",
          "text": [
            "Review: They looked quite wonderful, it was thrilling\n",
            "Sentiment: Positive\n",
            "\n",
            "Review: It was a waste of time. Totally boring and predictable.\n",
            "Sentiment: Negative\n",
            "\n"
          ]
        }
      ]
    },
    {
      "cell_type": "code",
      "source": [
        "# 10. Evaluate the model on the test dataset\n",
        "# Assuming you have a test dataset\n",
        "# If not, you can split the data as test dataset or use part of the validation dataset\n",
        "\n",
        "from sklearn.metrics import accuracy_score, precision_score, recall_score, f1_score, classification_report\n",
        "\n",
        "# Example: Using the validation set as a \"test\" dataset (just for demonstration)\n",
        "test_loader = DataLoader(val_data, batch_size=64, shuffle=False)\n",
        "\n",
        "\n",
        "# Predictions and True Labels\n",
        "predictions = []\n",
        "true_labels = []\n",
        "\n",
        "\n",
        "model.eval()  # Set the model to evaluation mode\n",
        "with torch.no_grad():\n",
        "    for inputs, labels in test_loader:\n",
        "        inputs, labels = inputs.to(device), labels.to(device)\n",
        "        outputs = model(inputs)\n",
        "        _, predicted = torch.max(outputs, 1)  # Get the class with the highest score\n",
        "        predictions.extend(predicted.cpu().numpy())  # Move to CPU for evaluation\n",
        "        true_labels.extend(labels.cpu().numpy())  # Move to CPU for evaluation\n",
        "\n",
        "# Compute Evaluation Metrics\n",
        "accuracy = accuracy_score(true_labels, predictions)\n",
        "precision = precision_score(true_labels, predictions, average='binary')\n",
        "recall = recall_score(true_labels, predictions, average='binary')\n",
        "f1 = f1_score(true_labels, predictions, average='binary')\n",
        "\n",
        "\n",
        "# Print the results\n",
        "print(f\"Accuracy: {accuracy:.4f}\")\n",
        "print(f\"Precision: {precision:.4f}\")\n",
        "print(f\"Recall: {recall:.4f}\")\n",
        "print(f\"F1-Score: {f1:.4f}\")\n",
        "print(\"\\nClassification Report:\")\n",
        "print(classification_report(true_labels, predictions))"
      ],
      "metadata": {
        "colab": {
          "base_uri": "https://localhost:8080/"
        },
        "id": "YyhpFaQlFRTj",
        "outputId": "56ebd248-5c84-4da2-8bd0-9369267bf6ea"
      },
      "execution_count": null,
      "outputs": [
        {
          "output_type": "stream",
          "name": "stdout",
          "text": [
            "Accuracy: 0.8422\n",
            "Precision: 0.8922\n",
            "Recall: 0.7763\n",
            "F1-Score: 0.8302\n",
            "\n",
            "Classification Report:\n",
            "              precision    recall  f1-score   support\n",
            "\n",
            "           0       0.80      0.91      0.85      2515\n",
            "           1       0.89      0.78      0.83      2485\n",
            "\n",
            "    accuracy                           0.84      5000\n",
            "   macro avg       0.85      0.84      0.84      5000\n",
            "weighted avg       0.85      0.84      0.84      5000\n",
            "\n"
          ]
        }
      ]
    },
    {
      "cell_type": "markdown",
      "source": [
        "Accuracy: Overall correctness of predictions.\n",
        "Precision: How often correct positive predictions are made.\n",
        "Recall: How often actual positive cases are correctly identified.\n",
        "\n",
        "Confusion matrix and F1-score:\n",
        "\n",
        "Confusion matrix: Provides a detailed breakdown of correct and incorrect predictions, helping identify specific error patterns.\n",
        "\n",
        "F1-score: Balances precision and recall, giving a more comprehensive evaluation, especially in imbalanced datasets."
      ],
      "metadata": {
        "id": "WdLCYaTVHxHP"
      }
    },
    {
      "cell_type": "markdown",
      "source": [
        "### Congratulations! you have trained a very simple model to perform sentiment analysis"
      ],
      "metadata": {
        "id": "MVZebWsuICwX"
      }
    }
  ]
}